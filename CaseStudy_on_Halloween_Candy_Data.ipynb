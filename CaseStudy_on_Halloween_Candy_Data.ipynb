{
  "nbformat": 4,
  "nbformat_minor": 0,
  "metadata": {
    "colab": {
      "name": "Notes - Case_Study_on_Halloween_Candy_Data.ipynb",
      "provenance": [],
      "collapsed_sections": []
    },
    "kernelspec": {
      "display_name": "Python 3",
      "name": "python3"
    }
  },
  "cells": [
    {
      "cell_type": "markdown",
      "metadata": {
        "id": "gp7D-1p13fUu"
      },
      "source": [
        "***Case Study***: A candy company wants to create a brand new product. The marketing team discusses various options at the moment. Some prefer chocolate candies, while others want to develop gummi bears. It seems that they don´t have a clear picture. When the market research department provides the latest market data, the team asks you to support their discussion with data analysis. Your task is now to find out which product characteristics determine customer sentiment and then make a recommendation for a new product.\r\n",
        "\r\n",
        "\r\n",
        "****Note : Focus should be on the analytical approach and structuring of this problem. To Transform a business problem into a data science approach. "
      ]
    },
    {
      "cell_type": "markdown",
      "metadata": {
        "id": "9Zu4cTV83TCS"
      },
      "source": [
        "We have a total of 12 variables that describe a chocolate brand. 9 of them are categorical telling about their presence in candy and the rest, i.e. 3 are numerical variables of percent values.\r\n",
        "*   chocolate: Does it contain chocolate?\r\n",
        "*   fruity: Is it fruit flavored?\r\n",
        "*   caramel: Is there caramel in the candy?\r\n",
        "*   peanutalmondy: Does it contain peanuts,almonds?\r\n",
        "*   nougat: Does it contain nougat?\r\n",
        "*   crispedricewafer: Does it contain crisped rice, wafers, or a cookie component?\r\n",
        "*  hard: Is it a hard candy? \r\n",
        "*  bar: Is it a candy bar? \r\n",
        "*   pluribus: Is it one of many candies in a bag or box?\r\n",
        "*   sugarpercent: The percentile of sugar it falls under within the data set, that means amount of sugar percent assigned to each chocolate of each brand with resepct to the total highest sugar percent present.\r\n",
        "*  pricepercent: The unit price percentile compared to the rest of the set. \r\n",
        "* winpercent: The overall win percentage according to 269,000 matchups.  "
      ]
    },
    {
      "cell_type": "markdown",
      "metadata": {
        "id": "4RTwTeqZxaGt"
      },
      "source": [
        "***Importing the necessary libraries***"
      ]
    },
    {
      "cell_type": "code",
      "metadata": {
        "id": "b-CH3myGRScs"
      },
      "source": [
        "import pandas as pd      #Pandas module mainly works with the tabular data,provides some sets of powerful tools like DataFrame and Series that mainly used for analyzing the data, \r\n",
        "                          #whereas in NumPy module offers a powerful object called Array.\r\n",
        "#import numpy as np             #Numpy is a fast way to handle large arrays multidimensional arrays for scientific computing (scipy also helps).\r\n",
        "import matplotlib.pyplot as plt #pyplot function makes some change to a figure: e.g., creates a figure, \r\n",
        "                                #creates a plotting area in a figure, plots some lines in a plotting area, decorates the plot with labels, etc.\r\n",
        "                                #Matplotlib is a plotting library for the Python programming language and its numerical mathematics extension NumPy. \r\n",
        "#%matplotlib inline   \r\n",
        "#from mpl_toolkits.mplot3d import Axes3D\r\n",
        "import seaborn as sns"
      ],
      "execution_count": 387,
      "outputs": []
    },
    {
      "cell_type": "markdown",
      "metadata": {
        "id": "QZPTLqMIxnlG"
      },
      "source": [
        "***Loading the Data from the source github repository***"
      ]
    },
    {
      "cell_type": "code",
      "metadata": {
        "id": "PgVNLmUwRTF8",
        "colab": {
          "base_uri": "https://localhost:8080/",
          "height": 195
        },
        "outputId": "bf8147ac-4c07-48c9-f77e-512e87e39d65"
      },
      "source": [
        "candy = pd.read_csv(\"https://raw.githubusercontent.com/fivethirtyeight/data/master/candy-power-ranking/candy-data.csv\")\r\n",
        "candy.head()"
      ],
      "execution_count": 388,
      "outputs": [
        {
          "output_type": "execute_result",
          "data": {
            "text/html": [
              "<div>\n",
              "<style scoped>\n",
              "    .dataframe tbody tr th:only-of-type {\n",
              "        vertical-align: middle;\n",
              "    }\n",
              "\n",
              "    .dataframe tbody tr th {\n",
              "        vertical-align: top;\n",
              "    }\n",
              "\n",
              "    .dataframe thead th {\n",
              "        text-align: right;\n",
              "    }\n",
              "</style>\n",
              "<table border=\"1\" class=\"dataframe\">\n",
              "  <thead>\n",
              "    <tr style=\"text-align: right;\">\n",
              "      <th></th>\n",
              "      <th>competitorname</th>\n",
              "      <th>chocolate</th>\n",
              "      <th>fruity</th>\n",
              "      <th>caramel</th>\n",
              "      <th>peanutyalmondy</th>\n",
              "      <th>nougat</th>\n",
              "      <th>crispedricewafer</th>\n",
              "      <th>hard</th>\n",
              "      <th>bar</th>\n",
              "      <th>pluribus</th>\n",
              "      <th>sugarpercent</th>\n",
              "      <th>pricepercent</th>\n",
              "      <th>winpercent</th>\n",
              "    </tr>\n",
              "  </thead>\n",
              "  <tbody>\n",
              "    <tr>\n",
              "      <th>0</th>\n",
              "      <td>100 Grand</td>\n",
              "      <td>1</td>\n",
              "      <td>0</td>\n",
              "      <td>1</td>\n",
              "      <td>0</td>\n",
              "      <td>0</td>\n",
              "      <td>1</td>\n",
              "      <td>0</td>\n",
              "      <td>1</td>\n",
              "      <td>0</td>\n",
              "      <td>0.732</td>\n",
              "      <td>0.860</td>\n",
              "      <td>66.971725</td>\n",
              "    </tr>\n",
              "    <tr>\n",
              "      <th>1</th>\n",
              "      <td>3 Musketeers</td>\n",
              "      <td>1</td>\n",
              "      <td>0</td>\n",
              "      <td>0</td>\n",
              "      <td>0</td>\n",
              "      <td>1</td>\n",
              "      <td>0</td>\n",
              "      <td>0</td>\n",
              "      <td>1</td>\n",
              "      <td>0</td>\n",
              "      <td>0.604</td>\n",
              "      <td>0.511</td>\n",
              "      <td>67.602936</td>\n",
              "    </tr>\n",
              "    <tr>\n",
              "      <th>2</th>\n",
              "      <td>One dime</td>\n",
              "      <td>0</td>\n",
              "      <td>0</td>\n",
              "      <td>0</td>\n",
              "      <td>0</td>\n",
              "      <td>0</td>\n",
              "      <td>0</td>\n",
              "      <td>0</td>\n",
              "      <td>0</td>\n",
              "      <td>0</td>\n",
              "      <td>0.011</td>\n",
              "      <td>0.116</td>\n",
              "      <td>32.261086</td>\n",
              "    </tr>\n",
              "    <tr>\n",
              "      <th>3</th>\n",
              "      <td>One quarter</td>\n",
              "      <td>0</td>\n",
              "      <td>0</td>\n",
              "      <td>0</td>\n",
              "      <td>0</td>\n",
              "      <td>0</td>\n",
              "      <td>0</td>\n",
              "      <td>0</td>\n",
              "      <td>0</td>\n",
              "      <td>0</td>\n",
              "      <td>0.011</td>\n",
              "      <td>0.511</td>\n",
              "      <td>46.116505</td>\n",
              "    </tr>\n",
              "    <tr>\n",
              "      <th>4</th>\n",
              "      <td>Air Heads</td>\n",
              "      <td>0</td>\n",
              "      <td>1</td>\n",
              "      <td>0</td>\n",
              "      <td>0</td>\n",
              "      <td>0</td>\n",
              "      <td>0</td>\n",
              "      <td>0</td>\n",
              "      <td>0</td>\n",
              "      <td>0</td>\n",
              "      <td>0.906</td>\n",
              "      <td>0.511</td>\n",
              "      <td>52.341465</td>\n",
              "    </tr>\n",
              "  </tbody>\n",
              "</table>\n",
              "</div>"
            ],
            "text/plain": [
              "  competitorname  chocolate  fruity  caramel  peanutyalmondy  nougat  \\\n",
              "0      100 Grand          1       0        1               0       0   \n",
              "1   3 Musketeers          1       0        0               0       1   \n",
              "2       One dime          0       0        0               0       0   \n",
              "3    One quarter          0       0        0               0       0   \n",
              "4      Air Heads          0       1        0               0       0   \n",
              "\n",
              "   crispedricewafer  hard  bar  pluribus  sugarpercent  pricepercent  \\\n",
              "0                 1     0    1         0         0.732         0.860   \n",
              "1                 0     0    1         0         0.604         0.511   \n",
              "2                 0     0    0         0         0.011         0.116   \n",
              "3                 0     0    0         0         0.011         0.511   \n",
              "4                 0     0    0         0         0.906         0.511   \n",
              "\n",
              "   winpercent  \n",
              "0   66.971725  \n",
              "1   67.602936  \n",
              "2   32.261086  \n",
              "3   46.116505  \n",
              "4   52.341465  "
            ]
          },
          "metadata": {
            "tags": []
          },
          "execution_count": 388
        }
      ]
    },
    {
      "cell_type": "markdown",
      "metadata": {
        "id": "KPwD7p3cyHun"
      },
      "source": [
        "***Data Preparation into usable form according to the requirement***"
      ]
    },
    {
      "cell_type": "code",
      "metadata": {
        "id": "NKTxXe_ouCCr"
      },
      "source": [
        "candy['winpercent'] = candy['winpercent']/100"
      ],
      "execution_count": 389,
      "outputs": []
    },
    {
      "cell_type": "code",
      "metadata": {
        "colab": {
          "base_uri": "https://localhost:8080/",
          "height": 402
        },
        "id": "ipUqK-McsYc0",
        "outputId": "7792ceed-55be-4e72-c61b-86dccefc9b8c"
      },
      "source": [
        "candy.sugarpercent = round(candy.sugarpercent,2)\r\n",
        "candy.pricepercent = round(candy.pricepercent,2)\r\n",
        "candy.winpercent = round(candy.winpercent,2)\r\n",
        "candy"
      ],
      "execution_count": 390,
      "outputs": [
        {
          "output_type": "execute_result",
          "data": {
            "text/html": [
              "<div>\n",
              "<style scoped>\n",
              "    .dataframe tbody tr th:only-of-type {\n",
              "        vertical-align: middle;\n",
              "    }\n",
              "\n",
              "    .dataframe tbody tr th {\n",
              "        vertical-align: top;\n",
              "    }\n",
              "\n",
              "    .dataframe thead th {\n",
              "        text-align: right;\n",
              "    }\n",
              "</style>\n",
              "<table border=\"1\" class=\"dataframe\">\n",
              "  <thead>\n",
              "    <tr style=\"text-align: right;\">\n",
              "      <th></th>\n",
              "      <th>competitorname</th>\n",
              "      <th>chocolate</th>\n",
              "      <th>fruity</th>\n",
              "      <th>caramel</th>\n",
              "      <th>peanutyalmondy</th>\n",
              "      <th>nougat</th>\n",
              "      <th>crispedricewafer</th>\n",
              "      <th>hard</th>\n",
              "      <th>bar</th>\n",
              "      <th>pluribus</th>\n",
              "      <th>sugarpercent</th>\n",
              "      <th>pricepercent</th>\n",
              "      <th>winpercent</th>\n",
              "    </tr>\n",
              "  </thead>\n",
              "  <tbody>\n",
              "    <tr>\n",
              "      <th>0</th>\n",
              "      <td>100 Grand</td>\n",
              "      <td>1</td>\n",
              "      <td>0</td>\n",
              "      <td>1</td>\n",
              "      <td>0</td>\n",
              "      <td>0</td>\n",
              "      <td>1</td>\n",
              "      <td>0</td>\n",
              "      <td>1</td>\n",
              "      <td>0</td>\n",
              "      <td>0.73</td>\n",
              "      <td>0.86</td>\n",
              "      <td>0.67</td>\n",
              "    </tr>\n",
              "    <tr>\n",
              "      <th>1</th>\n",
              "      <td>3 Musketeers</td>\n",
              "      <td>1</td>\n",
              "      <td>0</td>\n",
              "      <td>0</td>\n",
              "      <td>0</td>\n",
              "      <td>1</td>\n",
              "      <td>0</td>\n",
              "      <td>0</td>\n",
              "      <td>1</td>\n",
              "      <td>0</td>\n",
              "      <td>0.60</td>\n",
              "      <td>0.51</td>\n",
              "      <td>0.68</td>\n",
              "    </tr>\n",
              "    <tr>\n",
              "      <th>2</th>\n",
              "      <td>One dime</td>\n",
              "      <td>0</td>\n",
              "      <td>0</td>\n",
              "      <td>0</td>\n",
              "      <td>0</td>\n",
              "      <td>0</td>\n",
              "      <td>0</td>\n",
              "      <td>0</td>\n",
              "      <td>0</td>\n",
              "      <td>0</td>\n",
              "      <td>0.01</td>\n",
              "      <td>0.12</td>\n",
              "      <td>0.32</td>\n",
              "    </tr>\n",
              "    <tr>\n",
              "      <th>3</th>\n",
              "      <td>One quarter</td>\n",
              "      <td>0</td>\n",
              "      <td>0</td>\n",
              "      <td>0</td>\n",
              "      <td>0</td>\n",
              "      <td>0</td>\n",
              "      <td>0</td>\n",
              "      <td>0</td>\n",
              "      <td>0</td>\n",
              "      <td>0</td>\n",
              "      <td>0.01</td>\n",
              "      <td>0.51</td>\n",
              "      <td>0.46</td>\n",
              "    </tr>\n",
              "    <tr>\n",
              "      <th>4</th>\n",
              "      <td>Air Heads</td>\n",
              "      <td>0</td>\n",
              "      <td>1</td>\n",
              "      <td>0</td>\n",
              "      <td>0</td>\n",
              "      <td>0</td>\n",
              "      <td>0</td>\n",
              "      <td>0</td>\n",
              "      <td>0</td>\n",
              "      <td>0</td>\n",
              "      <td>0.91</td>\n",
              "      <td>0.51</td>\n",
              "      <td>0.52</td>\n",
              "    </tr>\n",
              "    <tr>\n",
              "      <th>...</th>\n",
              "      <td>...</td>\n",
              "      <td>...</td>\n",
              "      <td>...</td>\n",
              "      <td>...</td>\n",
              "      <td>...</td>\n",
              "      <td>...</td>\n",
              "      <td>...</td>\n",
              "      <td>...</td>\n",
              "      <td>...</td>\n",
              "      <td>...</td>\n",
              "      <td>...</td>\n",
              "      <td>...</td>\n",
              "      <td>...</td>\n",
              "    </tr>\n",
              "    <tr>\n",
              "      <th>80</th>\n",
              "      <td>Twizzlers</td>\n",
              "      <td>0</td>\n",
              "      <td>1</td>\n",
              "      <td>0</td>\n",
              "      <td>0</td>\n",
              "      <td>0</td>\n",
              "      <td>0</td>\n",
              "      <td>0</td>\n",
              "      <td>0</td>\n",
              "      <td>0</td>\n",
              "      <td>0.22</td>\n",
              "      <td>0.12</td>\n",
              "      <td>0.45</td>\n",
              "    </tr>\n",
              "    <tr>\n",
              "      <th>81</th>\n",
              "      <td>Warheads</td>\n",
              "      <td>0</td>\n",
              "      <td>1</td>\n",
              "      <td>0</td>\n",
              "      <td>0</td>\n",
              "      <td>0</td>\n",
              "      <td>0</td>\n",
              "      <td>1</td>\n",
              "      <td>0</td>\n",
              "      <td>0</td>\n",
              "      <td>0.09</td>\n",
              "      <td>0.12</td>\n",
              "      <td>0.39</td>\n",
              "    </tr>\n",
              "    <tr>\n",
              "      <th>82</th>\n",
              "      <td>WelchÕs Fruit Snacks</td>\n",
              "      <td>0</td>\n",
              "      <td>1</td>\n",
              "      <td>0</td>\n",
              "      <td>0</td>\n",
              "      <td>0</td>\n",
              "      <td>0</td>\n",
              "      <td>0</td>\n",
              "      <td>0</td>\n",
              "      <td>1</td>\n",
              "      <td>0.31</td>\n",
              "      <td>0.31</td>\n",
              "      <td>0.44</td>\n",
              "    </tr>\n",
              "    <tr>\n",
              "      <th>83</th>\n",
              "      <td>WertherÕs Original Caramel</td>\n",
              "      <td>0</td>\n",
              "      <td>0</td>\n",
              "      <td>1</td>\n",
              "      <td>0</td>\n",
              "      <td>0</td>\n",
              "      <td>0</td>\n",
              "      <td>1</td>\n",
              "      <td>0</td>\n",
              "      <td>0</td>\n",
              "      <td>0.19</td>\n",
              "      <td>0.27</td>\n",
              "      <td>0.42</td>\n",
              "    </tr>\n",
              "    <tr>\n",
              "      <th>84</th>\n",
              "      <td>Whoppers</td>\n",
              "      <td>1</td>\n",
              "      <td>0</td>\n",
              "      <td>0</td>\n",
              "      <td>0</td>\n",
              "      <td>0</td>\n",
              "      <td>1</td>\n",
              "      <td>0</td>\n",
              "      <td>0</td>\n",
              "      <td>1</td>\n",
              "      <td>0.87</td>\n",
              "      <td>0.85</td>\n",
              "      <td>0.50</td>\n",
              "    </tr>\n",
              "  </tbody>\n",
              "</table>\n",
              "<p>85 rows × 13 columns</p>\n",
              "</div>"
            ],
            "text/plain": [
              "                competitorname  chocolate  fruity  caramel  peanutyalmondy  \\\n",
              "0                    100 Grand          1       0        1               0   \n",
              "1                 3 Musketeers          1       0        0               0   \n",
              "2                     One dime          0       0        0               0   \n",
              "3                  One quarter          0       0        0               0   \n",
              "4                    Air Heads          0       1        0               0   \n",
              "..                         ...        ...     ...      ...             ...   \n",
              "80                   Twizzlers          0       1        0               0   \n",
              "81                    Warheads          0       1        0               0   \n",
              "82        WelchÕs Fruit Snacks          0       1        0               0   \n",
              "83  WertherÕs Original Caramel          0       0        1               0   \n",
              "84                    Whoppers          1       0        0               0   \n",
              "\n",
              "    nougat  crispedricewafer  hard  bar  pluribus  sugarpercent  pricepercent  \\\n",
              "0        0                 1     0    1         0          0.73          0.86   \n",
              "1        1                 0     0    1         0          0.60          0.51   \n",
              "2        0                 0     0    0         0          0.01          0.12   \n",
              "3        0                 0     0    0         0          0.01          0.51   \n",
              "4        0                 0     0    0         0          0.91          0.51   \n",
              "..     ...               ...   ...  ...       ...           ...           ...   \n",
              "80       0                 0     0    0         0          0.22          0.12   \n",
              "81       0                 0     1    0         0          0.09          0.12   \n",
              "82       0                 0     0    0         1          0.31          0.31   \n",
              "83       0                 0     1    0         0          0.19          0.27   \n",
              "84       0                 1     0    0         1          0.87          0.85   \n",
              "\n",
              "    winpercent  \n",
              "0         0.67  \n",
              "1         0.68  \n",
              "2         0.32  \n",
              "3         0.46  \n",
              "4         0.52  \n",
              "..         ...  \n",
              "80        0.45  \n",
              "81        0.39  \n",
              "82        0.44  \n",
              "83        0.42  \n",
              "84        0.50  \n",
              "\n",
              "[85 rows x 13 columns]"
            ]
          },
          "metadata": {
            "tags": []
          },
          "execution_count": 390
        }
      ]
    },
    {
      "cell_type": "markdown",
      "metadata": {
        "id": "IovN1LpdSCEi"
      },
      "source": [
        "We don't actually need the name of competitor as we are more concerned on the combination flavours in the candy with their respective sugar, price and win percents. We don't have any particular benefit in knowing the name of the brand or competitor, but we can always see which brand is of what win percent if required. Here, we want to study the pattern of best possible combinations. So, we can drop that column."
      ]
    },
    {
      "cell_type": "code",
      "metadata": {
        "id": "68-Lf0BbtB2y",
        "colab": {
          "base_uri": "https://localhost:8080/",
          "height": 402
        },
        "outputId": "8bd26b3d-e721-4f9a-b72d-ecc198017f70"
      },
      "source": [
        "dropped = candy['competitorname']\r\n",
        "candy.drop('competitorname', axis = 1, inplace = True)\r\n",
        "candy"
      ],
      "execution_count": 391,
      "outputs": [
        {
          "output_type": "execute_result",
          "data": {
            "text/html": [
              "<div>\n",
              "<style scoped>\n",
              "    .dataframe tbody tr th:only-of-type {\n",
              "        vertical-align: middle;\n",
              "    }\n",
              "\n",
              "    .dataframe tbody tr th {\n",
              "        vertical-align: top;\n",
              "    }\n",
              "\n",
              "    .dataframe thead th {\n",
              "        text-align: right;\n",
              "    }\n",
              "</style>\n",
              "<table border=\"1\" class=\"dataframe\">\n",
              "  <thead>\n",
              "    <tr style=\"text-align: right;\">\n",
              "      <th></th>\n",
              "      <th>chocolate</th>\n",
              "      <th>fruity</th>\n",
              "      <th>caramel</th>\n",
              "      <th>peanutyalmondy</th>\n",
              "      <th>nougat</th>\n",
              "      <th>crispedricewafer</th>\n",
              "      <th>hard</th>\n",
              "      <th>bar</th>\n",
              "      <th>pluribus</th>\n",
              "      <th>sugarpercent</th>\n",
              "      <th>pricepercent</th>\n",
              "      <th>winpercent</th>\n",
              "    </tr>\n",
              "  </thead>\n",
              "  <tbody>\n",
              "    <tr>\n",
              "      <th>0</th>\n",
              "      <td>1</td>\n",
              "      <td>0</td>\n",
              "      <td>1</td>\n",
              "      <td>0</td>\n",
              "      <td>0</td>\n",
              "      <td>1</td>\n",
              "      <td>0</td>\n",
              "      <td>1</td>\n",
              "      <td>0</td>\n",
              "      <td>0.73</td>\n",
              "      <td>0.86</td>\n",
              "      <td>0.67</td>\n",
              "    </tr>\n",
              "    <tr>\n",
              "      <th>1</th>\n",
              "      <td>1</td>\n",
              "      <td>0</td>\n",
              "      <td>0</td>\n",
              "      <td>0</td>\n",
              "      <td>1</td>\n",
              "      <td>0</td>\n",
              "      <td>0</td>\n",
              "      <td>1</td>\n",
              "      <td>0</td>\n",
              "      <td>0.60</td>\n",
              "      <td>0.51</td>\n",
              "      <td>0.68</td>\n",
              "    </tr>\n",
              "    <tr>\n",
              "      <th>2</th>\n",
              "      <td>0</td>\n",
              "      <td>0</td>\n",
              "      <td>0</td>\n",
              "      <td>0</td>\n",
              "      <td>0</td>\n",
              "      <td>0</td>\n",
              "      <td>0</td>\n",
              "      <td>0</td>\n",
              "      <td>0</td>\n",
              "      <td>0.01</td>\n",
              "      <td>0.12</td>\n",
              "      <td>0.32</td>\n",
              "    </tr>\n",
              "    <tr>\n",
              "      <th>3</th>\n",
              "      <td>0</td>\n",
              "      <td>0</td>\n",
              "      <td>0</td>\n",
              "      <td>0</td>\n",
              "      <td>0</td>\n",
              "      <td>0</td>\n",
              "      <td>0</td>\n",
              "      <td>0</td>\n",
              "      <td>0</td>\n",
              "      <td>0.01</td>\n",
              "      <td>0.51</td>\n",
              "      <td>0.46</td>\n",
              "    </tr>\n",
              "    <tr>\n",
              "      <th>4</th>\n",
              "      <td>0</td>\n",
              "      <td>1</td>\n",
              "      <td>0</td>\n",
              "      <td>0</td>\n",
              "      <td>0</td>\n",
              "      <td>0</td>\n",
              "      <td>0</td>\n",
              "      <td>0</td>\n",
              "      <td>0</td>\n",
              "      <td>0.91</td>\n",
              "      <td>0.51</td>\n",
              "      <td>0.52</td>\n",
              "    </tr>\n",
              "    <tr>\n",
              "      <th>...</th>\n",
              "      <td>...</td>\n",
              "      <td>...</td>\n",
              "      <td>...</td>\n",
              "      <td>...</td>\n",
              "      <td>...</td>\n",
              "      <td>...</td>\n",
              "      <td>...</td>\n",
              "      <td>...</td>\n",
              "      <td>...</td>\n",
              "      <td>...</td>\n",
              "      <td>...</td>\n",
              "      <td>...</td>\n",
              "    </tr>\n",
              "    <tr>\n",
              "      <th>80</th>\n",
              "      <td>0</td>\n",
              "      <td>1</td>\n",
              "      <td>0</td>\n",
              "      <td>0</td>\n",
              "      <td>0</td>\n",
              "      <td>0</td>\n",
              "      <td>0</td>\n",
              "      <td>0</td>\n",
              "      <td>0</td>\n",
              "      <td>0.22</td>\n",
              "      <td>0.12</td>\n",
              "      <td>0.45</td>\n",
              "    </tr>\n",
              "    <tr>\n",
              "      <th>81</th>\n",
              "      <td>0</td>\n",
              "      <td>1</td>\n",
              "      <td>0</td>\n",
              "      <td>0</td>\n",
              "      <td>0</td>\n",
              "      <td>0</td>\n",
              "      <td>1</td>\n",
              "      <td>0</td>\n",
              "      <td>0</td>\n",
              "      <td>0.09</td>\n",
              "      <td>0.12</td>\n",
              "      <td>0.39</td>\n",
              "    </tr>\n",
              "    <tr>\n",
              "      <th>82</th>\n",
              "      <td>0</td>\n",
              "      <td>1</td>\n",
              "      <td>0</td>\n",
              "      <td>0</td>\n",
              "      <td>0</td>\n",
              "      <td>0</td>\n",
              "      <td>0</td>\n",
              "      <td>0</td>\n",
              "      <td>1</td>\n",
              "      <td>0.31</td>\n",
              "      <td>0.31</td>\n",
              "      <td>0.44</td>\n",
              "    </tr>\n",
              "    <tr>\n",
              "      <th>83</th>\n",
              "      <td>0</td>\n",
              "      <td>0</td>\n",
              "      <td>1</td>\n",
              "      <td>0</td>\n",
              "      <td>0</td>\n",
              "      <td>0</td>\n",
              "      <td>1</td>\n",
              "      <td>0</td>\n",
              "      <td>0</td>\n",
              "      <td>0.19</td>\n",
              "      <td>0.27</td>\n",
              "      <td>0.42</td>\n",
              "    </tr>\n",
              "    <tr>\n",
              "      <th>84</th>\n",
              "      <td>1</td>\n",
              "      <td>0</td>\n",
              "      <td>0</td>\n",
              "      <td>0</td>\n",
              "      <td>0</td>\n",
              "      <td>1</td>\n",
              "      <td>0</td>\n",
              "      <td>0</td>\n",
              "      <td>1</td>\n",
              "      <td>0.87</td>\n",
              "      <td>0.85</td>\n",
              "      <td>0.50</td>\n",
              "    </tr>\n",
              "  </tbody>\n",
              "</table>\n",
              "<p>85 rows × 12 columns</p>\n",
              "</div>"
            ],
            "text/plain": [
              "    chocolate  fruity  caramel  peanutyalmondy  nougat  crispedricewafer  \\\n",
              "0           1       0        1               0       0                 1   \n",
              "1           1       0        0               0       1                 0   \n",
              "2           0       0        0               0       0                 0   \n",
              "3           0       0        0               0       0                 0   \n",
              "4           0       1        0               0       0                 0   \n",
              "..        ...     ...      ...             ...     ...               ...   \n",
              "80          0       1        0               0       0                 0   \n",
              "81          0       1        0               0       0                 0   \n",
              "82          0       1        0               0       0                 0   \n",
              "83          0       0        1               0       0                 0   \n",
              "84          1       0        0               0       0                 1   \n",
              "\n",
              "    hard  bar  pluribus  sugarpercent  pricepercent  winpercent  \n",
              "0      0    1         0          0.73          0.86        0.67  \n",
              "1      0    1         0          0.60          0.51        0.68  \n",
              "2      0    0         0          0.01          0.12        0.32  \n",
              "3      0    0         0          0.01          0.51        0.46  \n",
              "4      0    0         0          0.91          0.51        0.52  \n",
              "..   ...  ...       ...           ...           ...         ...  \n",
              "80     0    0         0          0.22          0.12        0.45  \n",
              "81     1    0         0          0.09          0.12        0.39  \n",
              "82     0    0         1          0.31          0.31        0.44  \n",
              "83     1    0         0          0.19          0.27        0.42  \n",
              "84     0    0         1          0.87          0.85        0.50  \n",
              "\n",
              "[85 rows x 12 columns]"
            ]
          },
          "metadata": {
            "tags": []
          },
          "execution_count": 391
        }
      ]
    },
    {
      "cell_type": "code",
      "metadata": {
        "id": "zw9ezVJWRdW2",
        "colab": {
          "base_uri": "https://localhost:8080/",
          "height": 284
        },
        "outputId": "34574714-3fe0-4e56-c079-d5dba780b820"
      },
      "source": [
        "candy.describe()"
      ],
      "execution_count": 392,
      "outputs": [
        {
          "output_type": "execute_result",
          "data": {
            "text/html": [
              "<div>\n",
              "<style scoped>\n",
              "    .dataframe tbody tr th:only-of-type {\n",
              "        vertical-align: middle;\n",
              "    }\n",
              "\n",
              "    .dataframe tbody tr th {\n",
              "        vertical-align: top;\n",
              "    }\n",
              "\n",
              "    .dataframe thead th {\n",
              "        text-align: right;\n",
              "    }\n",
              "</style>\n",
              "<table border=\"1\" class=\"dataframe\">\n",
              "  <thead>\n",
              "    <tr style=\"text-align: right;\">\n",
              "      <th></th>\n",
              "      <th>chocolate</th>\n",
              "      <th>fruity</th>\n",
              "      <th>caramel</th>\n",
              "      <th>peanutyalmondy</th>\n",
              "      <th>nougat</th>\n",
              "      <th>crispedricewafer</th>\n",
              "      <th>hard</th>\n",
              "      <th>bar</th>\n",
              "      <th>pluribus</th>\n",
              "      <th>sugarpercent</th>\n",
              "      <th>pricepercent</th>\n",
              "      <th>winpercent</th>\n",
              "    </tr>\n",
              "  </thead>\n",
              "  <tbody>\n",
              "    <tr>\n",
              "      <th>count</th>\n",
              "      <td>85.000000</td>\n",
              "      <td>85.000000</td>\n",
              "      <td>85.000000</td>\n",
              "      <td>85.000000</td>\n",
              "      <td>85.000000</td>\n",
              "      <td>85.000000</td>\n",
              "      <td>85.000000</td>\n",
              "      <td>85.000000</td>\n",
              "      <td>85.000000</td>\n",
              "      <td>85.000000</td>\n",
              "      <td>85.000000</td>\n",
              "      <td>85.000000</td>\n",
              "    </tr>\n",
              "    <tr>\n",
              "      <th>mean</th>\n",
              "      <td>0.435294</td>\n",
              "      <td>0.447059</td>\n",
              "      <td>0.164706</td>\n",
              "      <td>0.164706</td>\n",
              "      <td>0.082353</td>\n",
              "      <td>0.082353</td>\n",
              "      <td>0.176471</td>\n",
              "      <td>0.247059</td>\n",
              "      <td>0.517647</td>\n",
              "      <td>0.477412</td>\n",
              "      <td>0.468588</td>\n",
              "      <td>0.502588</td>\n",
              "    </tr>\n",
              "    <tr>\n",
              "      <th>std</th>\n",
              "      <td>0.498738</td>\n",
              "      <td>0.500140</td>\n",
              "      <td>0.373116</td>\n",
              "      <td>0.373116</td>\n",
              "      <td>0.276533</td>\n",
              "      <td>0.276533</td>\n",
              "      <td>0.383482</td>\n",
              "      <td>0.433861</td>\n",
              "      <td>0.502654</td>\n",
              "      <td>0.282287</td>\n",
              "      <td>0.286311</td>\n",
              "      <td>0.147553</td>\n",
              "    </tr>\n",
              "    <tr>\n",
              "      <th>min</th>\n",
              "      <td>0.000000</td>\n",
              "      <td>0.000000</td>\n",
              "      <td>0.000000</td>\n",
              "      <td>0.000000</td>\n",
              "      <td>0.000000</td>\n",
              "      <td>0.000000</td>\n",
              "      <td>0.000000</td>\n",
              "      <td>0.000000</td>\n",
              "      <td>0.000000</td>\n",
              "      <td>0.010000</td>\n",
              "      <td>0.010000</td>\n",
              "      <td>0.220000</td>\n",
              "    </tr>\n",
              "    <tr>\n",
              "      <th>25%</th>\n",
              "      <td>0.000000</td>\n",
              "      <td>0.000000</td>\n",
              "      <td>0.000000</td>\n",
              "      <td>0.000000</td>\n",
              "      <td>0.000000</td>\n",
              "      <td>0.000000</td>\n",
              "      <td>0.000000</td>\n",
              "      <td>0.000000</td>\n",
              "      <td>0.000000</td>\n",
              "      <td>0.220000</td>\n",
              "      <td>0.260000</td>\n",
              "      <td>0.390000</td>\n",
              "    </tr>\n",
              "    <tr>\n",
              "      <th>50%</th>\n",
              "      <td>0.000000</td>\n",
              "      <td>0.000000</td>\n",
              "      <td>0.000000</td>\n",
              "      <td>0.000000</td>\n",
              "      <td>0.000000</td>\n",
              "      <td>0.000000</td>\n",
              "      <td>0.000000</td>\n",
              "      <td>0.000000</td>\n",
              "      <td>1.000000</td>\n",
              "      <td>0.460000</td>\n",
              "      <td>0.460000</td>\n",
              "      <td>0.480000</td>\n",
              "    </tr>\n",
              "    <tr>\n",
              "      <th>75%</th>\n",
              "      <td>1.000000</td>\n",
              "      <td>1.000000</td>\n",
              "      <td>0.000000</td>\n",
              "      <td>0.000000</td>\n",
              "      <td>0.000000</td>\n",
              "      <td>0.000000</td>\n",
              "      <td>0.000000</td>\n",
              "      <td>0.000000</td>\n",
              "      <td>1.000000</td>\n",
              "      <td>0.730000</td>\n",
              "      <td>0.650000</td>\n",
              "      <td>0.600000</td>\n",
              "    </tr>\n",
              "    <tr>\n",
              "      <th>max</th>\n",
              "      <td>1.000000</td>\n",
              "      <td>1.000000</td>\n",
              "      <td>1.000000</td>\n",
              "      <td>1.000000</td>\n",
              "      <td>1.000000</td>\n",
              "      <td>1.000000</td>\n",
              "      <td>1.000000</td>\n",
              "      <td>1.000000</td>\n",
              "      <td>1.000000</td>\n",
              "      <td>0.990000</td>\n",
              "      <td>0.980000</td>\n",
              "      <td>0.840000</td>\n",
              "    </tr>\n",
              "  </tbody>\n",
              "</table>\n",
              "</div>"
            ],
            "text/plain": [
              "       chocolate     fruity    caramel  peanutyalmondy     nougat  \\\n",
              "count  85.000000  85.000000  85.000000       85.000000  85.000000   \n",
              "mean    0.435294   0.447059   0.164706        0.164706   0.082353   \n",
              "std     0.498738   0.500140   0.373116        0.373116   0.276533   \n",
              "min     0.000000   0.000000   0.000000        0.000000   0.000000   \n",
              "25%     0.000000   0.000000   0.000000        0.000000   0.000000   \n",
              "50%     0.000000   0.000000   0.000000        0.000000   0.000000   \n",
              "75%     1.000000   1.000000   0.000000        0.000000   0.000000   \n",
              "max     1.000000   1.000000   1.000000        1.000000   1.000000   \n",
              "\n",
              "       crispedricewafer       hard        bar   pluribus  sugarpercent  \\\n",
              "count         85.000000  85.000000  85.000000  85.000000     85.000000   \n",
              "mean           0.082353   0.176471   0.247059   0.517647      0.477412   \n",
              "std            0.276533   0.383482   0.433861   0.502654      0.282287   \n",
              "min            0.000000   0.000000   0.000000   0.000000      0.010000   \n",
              "25%            0.000000   0.000000   0.000000   0.000000      0.220000   \n",
              "50%            0.000000   0.000000   0.000000   1.000000      0.460000   \n",
              "75%            0.000000   0.000000   0.000000   1.000000      0.730000   \n",
              "max            1.000000   1.000000   1.000000   1.000000      0.990000   \n",
              "\n",
              "       pricepercent  winpercent  \n",
              "count     85.000000   85.000000  \n",
              "mean       0.468588    0.502588  \n",
              "std        0.286311    0.147553  \n",
              "min        0.010000    0.220000  \n",
              "25%        0.260000    0.390000  \n",
              "50%        0.460000    0.480000  \n",
              "75%        0.650000    0.600000  \n",
              "max        0.980000    0.840000  "
            ]
          },
          "metadata": {
            "tags": []
          },
          "execution_count": 392
        }
      ]
    },
    {
      "cell_type": "code",
      "metadata": {
        "colab": {
          "base_uri": "https://localhost:8080/"
        },
        "id": "9qkBS0u-Sfy8",
        "outputId": "cf942e2a-ea03-42d6-bf1b-df648dda946b"
      },
      "source": [
        "pick_high = candy.loc[candy['winpercent']>=0.60]\r\n",
        "print(pick_high)                                  #Those combinations leading to high win percent greater than 60 can act as role models for decision making in new brand."
      ],
      "execution_count": 393,
      "outputs": [
        {
          "output_type": "stream",
          "text": [
            "    chocolate  fruity  caramel  peanutyalmondy  nougat  crispedricewafer  \\\n",
            "0           1       0        1               0       0                 1   \n",
            "1           1       0        0               0       1                 0   \n",
            "23          1       0        0               0       0                 1   \n",
            "28          1       0        0               0       0                 1   \n",
            "32          1       0        0               1       0                 0   \n",
            "33          1       0        0               0       0                 0   \n",
            "36          1       0        1               0       1                 0   \n",
            "37          1       0        1               0       1                 0   \n",
            "38          1       0        1               0       0                 0   \n",
            "42          1       0        0               1       0                 0   \n",
            "43          1       0        0               0       0                 1   \n",
            "47          1       0        0               1       0                 0   \n",
            "51          1       0        0               1       0                 0   \n",
            "52          1       0        0               1       0                 0   \n",
            "53          1       0        0               1       0                 0   \n",
            "54          1       0        0               1       0                 0   \n",
            "56          1       0        1               0       0                 0   \n",
            "60          0       1        0               0       0                 0   \n",
            "64          1       0        1               1       1                 0   \n",
            "65          1       0        1               1       0                 1   \n",
            "66          0       1        0               0       0                 0   \n",
            "68          0       1        0               0       0                 0   \n",
            "79          1       0        1               0       0                 1   \n",
            "\n",
            "    hard  bar  pluribus  sugarpercent  pricepercent  winpercent  \n",
            "0      0    1         0          0.73          0.86        0.67  \n",
            "1      0    1         0          0.60          0.51        0.68  \n",
            "23     0    1         0          0.43          0.92        0.62  \n",
            "28     0    1         0          0.31          0.51        0.77  \n",
            "32     0    0         1          0.82          0.65        0.71  \n",
            "33     0    0         1          0.82          0.65        0.67  \n",
            "36     0    1         0          0.60          0.65        0.73  \n",
            "37     0    1         0          0.73          0.44        0.61  \n",
            "38     0    1         0          0.96          0.86        0.64  \n",
            "42     0    1         0          0.60          0.77        0.71  \n",
            "43     0    1         0          0.31          0.77        0.66  \n",
            "47     0    0         1          0.59          0.65        0.69  \n",
            "51     0    0         0          0.03          0.28        0.82  \n",
            "52     0    0         0          0.72          0.65        0.84  \n",
            "53     0    0         1          0.41          0.65        0.73  \n",
            "54     0    0         0          0.99          0.65        0.73  \n",
            "56     0    0         1          0.86          0.86        0.66  \n",
            "60     0    0         1          0.94          0.22        0.63  \n",
            "64     0    1         0          0.55          0.65        0.77  \n",
            "65     0    1         0          0.60          0.65        0.60  \n",
            "66     0    0         1          0.07          0.12        0.60  \n",
            "68     0    0         1          0.15          0.22        0.67  \n",
            "79     0    1         0          0.55          0.91        0.82  \n"
          ],
          "name": "stdout"
        }
      ]
    },
    {
      "cell_type": "code",
      "metadata": {
        "colab": {
          "base_uri": "https://localhost:8080/"
        },
        "id": "VF892Wh7SkHu",
        "outputId": "73a23c23-adc3-49ef-9b08-efe93cc28ae0"
      },
      "source": [
        "len(pick_high)"
      ],
      "execution_count": 394,
      "outputs": [
        {
          "output_type": "execute_result",
          "data": {
            "text/plain": [
              "23"
            ]
          },
          "metadata": {
            "tags": []
          },
          "execution_count": 394
        }
      ]
    },
    {
      "cell_type": "code",
      "metadata": {
        "colab": {
          "base_uri": "https://localhost:8080/",
          "height": 728
        },
        "id": "zRtX6rXbb8RO",
        "outputId": "0fdaf887-373f-4696-fb1d-63d30e4f53a8"
      },
      "source": [
        "combos =  pick_high[pick_high.columns[:-3]]\r\n",
        "combos   # This seprates only the candies with its combinations."
      ],
      "execution_count": 395,
      "outputs": [
        {
          "output_type": "execute_result",
          "data": {
            "text/html": [
              "<div>\n",
              "<style scoped>\n",
              "    .dataframe tbody tr th:only-of-type {\n",
              "        vertical-align: middle;\n",
              "    }\n",
              "\n",
              "    .dataframe tbody tr th {\n",
              "        vertical-align: top;\n",
              "    }\n",
              "\n",
              "    .dataframe thead th {\n",
              "        text-align: right;\n",
              "    }\n",
              "</style>\n",
              "<table border=\"1\" class=\"dataframe\">\n",
              "  <thead>\n",
              "    <tr style=\"text-align: right;\">\n",
              "      <th></th>\n",
              "      <th>chocolate</th>\n",
              "      <th>fruity</th>\n",
              "      <th>caramel</th>\n",
              "      <th>peanutyalmondy</th>\n",
              "      <th>nougat</th>\n",
              "      <th>crispedricewafer</th>\n",
              "      <th>hard</th>\n",
              "      <th>bar</th>\n",
              "      <th>pluribus</th>\n",
              "    </tr>\n",
              "  </thead>\n",
              "  <tbody>\n",
              "    <tr>\n",
              "      <th>0</th>\n",
              "      <td>1</td>\n",
              "      <td>0</td>\n",
              "      <td>1</td>\n",
              "      <td>0</td>\n",
              "      <td>0</td>\n",
              "      <td>1</td>\n",
              "      <td>0</td>\n",
              "      <td>1</td>\n",
              "      <td>0</td>\n",
              "    </tr>\n",
              "    <tr>\n",
              "      <th>1</th>\n",
              "      <td>1</td>\n",
              "      <td>0</td>\n",
              "      <td>0</td>\n",
              "      <td>0</td>\n",
              "      <td>1</td>\n",
              "      <td>0</td>\n",
              "      <td>0</td>\n",
              "      <td>1</td>\n",
              "      <td>0</td>\n",
              "    </tr>\n",
              "    <tr>\n",
              "      <th>23</th>\n",
              "      <td>1</td>\n",
              "      <td>0</td>\n",
              "      <td>0</td>\n",
              "      <td>0</td>\n",
              "      <td>0</td>\n",
              "      <td>1</td>\n",
              "      <td>0</td>\n",
              "      <td>1</td>\n",
              "      <td>0</td>\n",
              "    </tr>\n",
              "    <tr>\n",
              "      <th>28</th>\n",
              "      <td>1</td>\n",
              "      <td>0</td>\n",
              "      <td>0</td>\n",
              "      <td>0</td>\n",
              "      <td>0</td>\n",
              "      <td>1</td>\n",
              "      <td>0</td>\n",
              "      <td>1</td>\n",
              "      <td>0</td>\n",
              "    </tr>\n",
              "    <tr>\n",
              "      <th>32</th>\n",
              "      <td>1</td>\n",
              "      <td>0</td>\n",
              "      <td>0</td>\n",
              "      <td>1</td>\n",
              "      <td>0</td>\n",
              "      <td>0</td>\n",
              "      <td>0</td>\n",
              "      <td>0</td>\n",
              "      <td>1</td>\n",
              "    </tr>\n",
              "    <tr>\n",
              "      <th>33</th>\n",
              "      <td>1</td>\n",
              "      <td>0</td>\n",
              "      <td>0</td>\n",
              "      <td>0</td>\n",
              "      <td>0</td>\n",
              "      <td>0</td>\n",
              "      <td>0</td>\n",
              "      <td>0</td>\n",
              "      <td>1</td>\n",
              "    </tr>\n",
              "    <tr>\n",
              "      <th>36</th>\n",
              "      <td>1</td>\n",
              "      <td>0</td>\n",
              "      <td>1</td>\n",
              "      <td>0</td>\n",
              "      <td>1</td>\n",
              "      <td>0</td>\n",
              "      <td>0</td>\n",
              "      <td>1</td>\n",
              "      <td>0</td>\n",
              "    </tr>\n",
              "    <tr>\n",
              "      <th>37</th>\n",
              "      <td>1</td>\n",
              "      <td>0</td>\n",
              "      <td>1</td>\n",
              "      <td>0</td>\n",
              "      <td>1</td>\n",
              "      <td>0</td>\n",
              "      <td>0</td>\n",
              "      <td>1</td>\n",
              "      <td>0</td>\n",
              "    </tr>\n",
              "    <tr>\n",
              "      <th>38</th>\n",
              "      <td>1</td>\n",
              "      <td>0</td>\n",
              "      <td>1</td>\n",
              "      <td>0</td>\n",
              "      <td>0</td>\n",
              "      <td>0</td>\n",
              "      <td>0</td>\n",
              "      <td>1</td>\n",
              "      <td>0</td>\n",
              "    </tr>\n",
              "    <tr>\n",
              "      <th>42</th>\n",
              "      <td>1</td>\n",
              "      <td>0</td>\n",
              "      <td>0</td>\n",
              "      <td>1</td>\n",
              "      <td>0</td>\n",
              "      <td>0</td>\n",
              "      <td>0</td>\n",
              "      <td>1</td>\n",
              "      <td>0</td>\n",
              "    </tr>\n",
              "    <tr>\n",
              "      <th>43</th>\n",
              "      <td>1</td>\n",
              "      <td>0</td>\n",
              "      <td>0</td>\n",
              "      <td>0</td>\n",
              "      <td>0</td>\n",
              "      <td>1</td>\n",
              "      <td>0</td>\n",
              "      <td>1</td>\n",
              "      <td>0</td>\n",
              "    </tr>\n",
              "    <tr>\n",
              "      <th>47</th>\n",
              "      <td>1</td>\n",
              "      <td>0</td>\n",
              "      <td>0</td>\n",
              "      <td>1</td>\n",
              "      <td>0</td>\n",
              "      <td>0</td>\n",
              "      <td>0</td>\n",
              "      <td>0</td>\n",
              "      <td>1</td>\n",
              "    </tr>\n",
              "    <tr>\n",
              "      <th>51</th>\n",
              "      <td>1</td>\n",
              "      <td>0</td>\n",
              "      <td>0</td>\n",
              "      <td>1</td>\n",
              "      <td>0</td>\n",
              "      <td>0</td>\n",
              "      <td>0</td>\n",
              "      <td>0</td>\n",
              "      <td>0</td>\n",
              "    </tr>\n",
              "    <tr>\n",
              "      <th>52</th>\n",
              "      <td>1</td>\n",
              "      <td>0</td>\n",
              "      <td>0</td>\n",
              "      <td>1</td>\n",
              "      <td>0</td>\n",
              "      <td>0</td>\n",
              "      <td>0</td>\n",
              "      <td>0</td>\n",
              "      <td>0</td>\n",
              "    </tr>\n",
              "    <tr>\n",
              "      <th>53</th>\n",
              "      <td>1</td>\n",
              "      <td>0</td>\n",
              "      <td>0</td>\n",
              "      <td>1</td>\n",
              "      <td>0</td>\n",
              "      <td>0</td>\n",
              "      <td>0</td>\n",
              "      <td>0</td>\n",
              "      <td>1</td>\n",
              "    </tr>\n",
              "    <tr>\n",
              "      <th>54</th>\n",
              "      <td>1</td>\n",
              "      <td>0</td>\n",
              "      <td>0</td>\n",
              "      <td>1</td>\n",
              "      <td>0</td>\n",
              "      <td>0</td>\n",
              "      <td>0</td>\n",
              "      <td>0</td>\n",
              "      <td>0</td>\n",
              "    </tr>\n",
              "    <tr>\n",
              "      <th>56</th>\n",
              "      <td>1</td>\n",
              "      <td>0</td>\n",
              "      <td>1</td>\n",
              "      <td>0</td>\n",
              "      <td>0</td>\n",
              "      <td>0</td>\n",
              "      <td>0</td>\n",
              "      <td>0</td>\n",
              "      <td>1</td>\n",
              "    </tr>\n",
              "    <tr>\n",
              "      <th>60</th>\n",
              "      <td>0</td>\n",
              "      <td>1</td>\n",
              "      <td>0</td>\n",
              "      <td>0</td>\n",
              "      <td>0</td>\n",
              "      <td>0</td>\n",
              "      <td>0</td>\n",
              "      <td>0</td>\n",
              "      <td>1</td>\n",
              "    </tr>\n",
              "    <tr>\n",
              "      <th>64</th>\n",
              "      <td>1</td>\n",
              "      <td>0</td>\n",
              "      <td>1</td>\n",
              "      <td>1</td>\n",
              "      <td>1</td>\n",
              "      <td>0</td>\n",
              "      <td>0</td>\n",
              "      <td>1</td>\n",
              "      <td>0</td>\n",
              "    </tr>\n",
              "    <tr>\n",
              "      <th>65</th>\n",
              "      <td>1</td>\n",
              "      <td>0</td>\n",
              "      <td>1</td>\n",
              "      <td>1</td>\n",
              "      <td>0</td>\n",
              "      <td>1</td>\n",
              "      <td>0</td>\n",
              "      <td>1</td>\n",
              "      <td>0</td>\n",
              "    </tr>\n",
              "    <tr>\n",
              "      <th>66</th>\n",
              "      <td>0</td>\n",
              "      <td>1</td>\n",
              "      <td>0</td>\n",
              "      <td>0</td>\n",
              "      <td>0</td>\n",
              "      <td>0</td>\n",
              "      <td>0</td>\n",
              "      <td>0</td>\n",
              "      <td>1</td>\n",
              "    </tr>\n",
              "    <tr>\n",
              "      <th>68</th>\n",
              "      <td>0</td>\n",
              "      <td>1</td>\n",
              "      <td>0</td>\n",
              "      <td>0</td>\n",
              "      <td>0</td>\n",
              "      <td>0</td>\n",
              "      <td>0</td>\n",
              "      <td>0</td>\n",
              "      <td>1</td>\n",
              "    </tr>\n",
              "    <tr>\n",
              "      <th>79</th>\n",
              "      <td>1</td>\n",
              "      <td>0</td>\n",
              "      <td>1</td>\n",
              "      <td>0</td>\n",
              "      <td>0</td>\n",
              "      <td>1</td>\n",
              "      <td>0</td>\n",
              "      <td>1</td>\n",
              "      <td>0</td>\n",
              "    </tr>\n",
              "  </tbody>\n",
              "</table>\n",
              "</div>"
            ],
            "text/plain": [
              "    chocolate  fruity  caramel  peanutyalmondy  nougat  crispedricewafer  \\\n",
              "0           1       0        1               0       0                 1   \n",
              "1           1       0        0               0       1                 0   \n",
              "23          1       0        0               0       0                 1   \n",
              "28          1       0        0               0       0                 1   \n",
              "32          1       0        0               1       0                 0   \n",
              "33          1       0        0               0       0                 0   \n",
              "36          1       0        1               0       1                 0   \n",
              "37          1       0        1               0       1                 0   \n",
              "38          1       0        1               0       0                 0   \n",
              "42          1       0        0               1       0                 0   \n",
              "43          1       0        0               0       0                 1   \n",
              "47          1       0        0               1       0                 0   \n",
              "51          1       0        0               1       0                 0   \n",
              "52          1       0        0               1       0                 0   \n",
              "53          1       0        0               1       0                 0   \n",
              "54          1       0        0               1       0                 0   \n",
              "56          1       0        1               0       0                 0   \n",
              "60          0       1        0               0       0                 0   \n",
              "64          1       0        1               1       1                 0   \n",
              "65          1       0        1               1       0                 1   \n",
              "66          0       1        0               0       0                 0   \n",
              "68          0       1        0               0       0                 0   \n",
              "79          1       0        1               0       0                 1   \n",
              "\n",
              "    hard  bar  pluribus  \n",
              "0      0    1         0  \n",
              "1      0    1         0  \n",
              "23     0    1         0  \n",
              "28     0    1         0  \n",
              "32     0    0         1  \n",
              "33     0    0         1  \n",
              "36     0    1         0  \n",
              "37     0    1         0  \n",
              "38     0    1         0  \n",
              "42     0    1         0  \n",
              "43     0    1         0  \n",
              "47     0    0         1  \n",
              "51     0    0         0  \n",
              "52     0    0         0  \n",
              "53     0    0         1  \n",
              "54     0    0         0  \n",
              "56     0    0         1  \n",
              "60     0    0         1  \n",
              "64     0    1         0  \n",
              "65     0    1         0  \n",
              "66     0    0         1  \n",
              "68     0    0         1  \n",
              "79     0    1         0  "
            ]
          },
          "metadata": {
            "tags": []
          },
          "execution_count": 395
        }
      ]
    },
    {
      "cell_type": "code",
      "metadata": {
        "colab": {
          "base_uri": "https://localhost:8080/"
        },
        "id": "UWgreCSJSoHK",
        "outputId": "cb9e2973-0da3-4cab-f446-b635e5625fba"
      },
      "source": [
        "pick_low = candy.loc[candy['winpercent']<= 0.59]\r\n",
        "print(pick_low) # list of all those below 60% win percent\r\n",
        "combos_low = pick_low[pick_low.columns[:-3]]\r\n",
        "print(combos_low)"
      ],
      "execution_count": 396,
      "outputs": [
        {
          "output_type": "stream",
          "text": [
            "    chocolate  fruity  caramel  peanutyalmondy  nougat  crispedricewafer  \\\n",
            "2           0       0        0               0       0                 0   \n",
            "3           0       0        0               0       0                 0   \n",
            "4           0       1        0               0       0                 0   \n",
            "5           1       0        0               1       0                 0   \n",
            "6           1       0        1               1       1                 0   \n",
            "..        ...     ...      ...             ...     ...               ...   \n",
            "80          0       1        0               0       0                 0   \n",
            "81          0       1        0               0       0                 0   \n",
            "82          0       1        0               0       0                 0   \n",
            "83          0       0        1               0       0                 0   \n",
            "84          1       0        0               0       0                 1   \n",
            "\n",
            "    hard  bar  pluribus  sugarpercent  pricepercent  winpercent  \n",
            "2      0    0         0          0.01          0.12        0.32  \n",
            "3      0    0         0          0.01          0.51        0.46  \n",
            "4      0    0         0          0.91          0.51        0.52  \n",
            "5      0    1         0          0.46          0.77        0.50  \n",
            "6      0    1         0          0.60          0.77        0.57  \n",
            "..   ...  ...       ...           ...           ...         ...  \n",
            "80     0    0         0          0.22          0.12        0.45  \n",
            "81     1    0         0          0.09          0.12        0.39  \n",
            "82     0    0         1          0.31          0.31        0.44  \n",
            "83     1    0         0          0.19          0.27        0.42  \n",
            "84     0    0         1          0.87          0.85        0.50  \n",
            "\n",
            "[62 rows x 12 columns]\n",
            "    chocolate  fruity  caramel  peanutyalmondy  nougat  crispedricewafer  \\\n",
            "2           0       0        0               0       0                 0   \n",
            "3           0       0        0               0       0                 0   \n",
            "4           0       1        0               0       0                 0   \n",
            "5           1       0        0               1       0                 0   \n",
            "6           1       0        1               1       1                 0   \n",
            "..        ...     ...      ...             ...     ...               ...   \n",
            "80          0       1        0               0       0                 0   \n",
            "81          0       1        0               0       0                 0   \n",
            "82          0       1        0               0       0                 0   \n",
            "83          0       0        1               0       0                 0   \n",
            "84          1       0        0               0       0                 1   \n",
            "\n",
            "    hard  bar  pluribus  \n",
            "2      0    0         0  \n",
            "3      0    0         0  \n",
            "4      0    0         0  \n",
            "5      0    1         0  \n",
            "6      0    1         0  \n",
            "..   ...  ...       ...  \n",
            "80     0    0         0  \n",
            "81     1    0         0  \n",
            "82     0    0         1  \n",
            "83     1    0         0  \n",
            "84     0    0         1  \n",
            "\n",
            "[62 rows x 9 columns]\n"
          ],
          "name": "stdout"
        }
      ]
    },
    {
      "cell_type": "code",
      "metadata": {
        "colab": {
          "base_uri": "https://localhost:8080/",
          "height": 596
        },
        "id": "d4GKaQCNdPHg",
        "outputId": "09e7fe02-593e-44ab-ea52-7374d8e95672"
      },
      "source": [
        "plt.figure(figsize=(20,10))\r\n",
        "sns.heatmap(pick_high.corr(),annot= True, cmap = 'coolwarm')\r\n",
        "plt.show()"
      ],
      "execution_count": 447,
      "outputs": [
        {
          "output_type": "display_data",
          "data": {
            "image/png": "[encoded data removed]",
            "text/plain": [
              "<Figure size 1440x720 with 2 Axes>"
            ]
          },
          "metadata": {
            "tags": [],
            "needs_background": "light"
          }
        }
      ]
    },
    {
      "cell_type": "code",
      "metadata": {
        "colab": {
          "base_uri": "https://localhost:8080/",
          "height": 1000
        },
        "id": "t7xzq6W7oWEP",
        "outputId": "f1e6d067-9732-4c88-b2d6-783e51049340"
      },
      "source": [
        "def display_all(data):\r\n",
        "    with pd.option_context(\"display.max_rows\", 100, \"display.max_columns\", 100): \r\n",
        "        display(data)\r\n",
        "def corrank(X):\r\n",
        "    import itertools\r\n",
        "    df = pd.DataFrame([[i,j,X.corr().loc[i,j]] for i,j in list(itertools.combinations(X.corr(), 2))],columns=['Feature1','Feature2','corr'])    \r\n",
        "    return df.sort_values(by='corr',ascending=False).reset_index(drop = True)\r\n",
        "\r\n",
        "correlation = display_all(corrank(pick_high))\r\n",
        "correlation\r\n",
        " \r\n"
      ],
      "execution_count": 453,
      "outputs": [
        {
          "output_type": "display_data",
          "data": {
            "text/html": [
              "<div>\n",
              "<style scoped>\n",
              "    .dataframe tbody tr th:only-of-type {\n",
              "        vertical-align: middle;\n",
              "    }\n",
              "\n",
              "    .dataframe tbody tr th {\n",
              "        vertical-align: top;\n",
              "    }\n",
              "\n",
              "    .dataframe thead th {\n",
              "        text-align: right;\n",
              "    }\n",
              "</style>\n",
              "<table border=\"1\" class=\"dataframe\">\n",
              "  <thead>\n",
              "    <tr style=\"text-align: right;\">\n",
              "      <th></th>\n",
              "      <th>Feature1</th>\n",
              "      <th>Feature2</th>\n",
              "      <th>corr</th>\n",
              "    </tr>\n",
              "  </thead>\n",
              "  <tbody>\n",
              "    <tr>\n",
              "      <th>0</th>\n",
              "      <td>chocolate</td>\n",
              "      <td>pricepercent</td>\n",
              "      <td>0.741385</td>\n",
              "    </tr>\n",
              "    <tr>\n",
              "      <th>1</th>\n",
              "      <td>crispedricewafer</td>\n",
              "      <td>bar</td>\n",
              "      <td>0.568796</td>\n",
              "    </tr>\n",
              "    <tr>\n",
              "      <th>2</th>\n",
              "      <td>fruity</td>\n",
              "      <td>pluribus</td>\n",
              "      <td>0.530330</td>\n",
              "    </tr>\n",
              "    <tr>\n",
              "      <th>3</th>\n",
              "      <td>caramel</td>\n",
              "      <td>bar</td>\n",
              "      <td>0.516459</td>\n",
              "    </tr>\n",
              "    <tr>\n",
              "      <th>4</th>\n",
              "      <td>bar</td>\n",
              "      <td>pricepercent</td>\n",
              "      <td>0.446833</td>\n",
              "    </tr>\n",
              "    <tr>\n",
              "      <th>5</th>\n",
              "      <td>nougat</td>\n",
              "      <td>bar</td>\n",
              "      <td>0.439298</td>\n",
              "    </tr>\n",
              "    <tr>\n",
              "      <th>6</th>\n",
              "      <td>sugarpercent</td>\n",
              "      <td>pricepercent</td>\n",
              "      <td>0.437699</td>\n",
              "    </tr>\n",
              "    <tr>\n",
              "      <th>7</th>\n",
              "      <td>peanutyalmondy</td>\n",
              "      <td>winpercent</td>\n",
              "      <td>0.421195</td>\n",
              "    </tr>\n",
              "    <tr>\n",
              "      <th>8</th>\n",
              "      <td>crispedricewafer</td>\n",
              "      <td>pricepercent</td>\n",
              "      <td>0.418635</td>\n",
              "    </tr>\n",
              "    <tr>\n",
              "      <th>9</th>\n",
              "      <td>chocolate</td>\n",
              "      <td>bar</td>\n",
              "      <td>0.404520</td>\n",
              "    </tr>\n",
              "    <tr>\n",
              "      <th>10</th>\n",
              "      <td>caramel</td>\n",
              "      <td>pricepercent</td>\n",
              "      <td>0.399861</td>\n",
              "    </tr>\n",
              "    <tr>\n",
              "      <th>11</th>\n",
              "      <td>caramel</td>\n",
              "      <td>nougat</td>\n",
              "      <td>0.387440</td>\n",
              "    </tr>\n",
              "    <tr>\n",
              "      <th>12</th>\n",
              "      <td>chocolate</td>\n",
              "      <td>winpercent</td>\n",
              "      <td>0.355847</td>\n",
              "    </tr>\n",
              "    <tr>\n",
              "      <th>13</th>\n",
              "      <td>caramel</td>\n",
              "      <td>sugarpercent</td>\n",
              "      <td>0.316967</td>\n",
              "    </tr>\n",
              "    <tr>\n",
              "      <th>14</th>\n",
              "      <td>chocolate</td>\n",
              "      <td>peanutyalmondy</td>\n",
              "      <td>0.310530</td>\n",
              "    </tr>\n",
              "    <tr>\n",
              "      <th>15</th>\n",
              "      <td>chocolate</td>\n",
              "      <td>caramel</td>\n",
              "      <td>0.282843</td>\n",
              "    </tr>\n",
              "    <tr>\n",
              "      <th>16</th>\n",
              "      <td>chocolate</td>\n",
              "      <td>sugarpercent</td>\n",
              "      <td>0.281577</td>\n",
              "    </tr>\n",
              "    <tr>\n",
              "      <th>17</th>\n",
              "      <td>chocolate</td>\n",
              "      <td>crispedricewafer</td>\n",
              "      <td>0.230089</td>\n",
              "    </tr>\n",
              "    <tr>\n",
              "      <th>18</th>\n",
              "      <td>caramel</td>\n",
              "      <td>crispedricewafer</td>\n",
              "      <td>0.189814</td>\n",
              "    </tr>\n",
              "    <tr>\n",
              "      <th>19</th>\n",
              "      <td>chocolate</td>\n",
              "      <td>nougat</td>\n",
              "      <td>0.177705</td>\n",
              "    </tr>\n",
              "    <tr>\n",
              "      <th>20</th>\n",
              "      <td>pricepercent</td>\n",
              "      <td>winpercent</td>\n",
              "      <td>0.111665</td>\n",
              "    </tr>\n",
              "    <tr>\n",
              "      <th>21</th>\n",
              "      <td>nougat</td>\n",
              "      <td>sugarpercent</td>\n",
              "      <td>0.066319</td>\n",
              "    </tr>\n",
              "    <tr>\n",
              "      <th>22</th>\n",
              "      <td>peanutyalmondy</td>\n",
              "      <td>pricepercent</td>\n",
              "      <td>0.033040</td>\n",
              "    </tr>\n",
              "    <tr>\n",
              "      <th>23</th>\n",
              "      <td>peanutyalmondy</td>\n",
              "      <td>sugarpercent</td>\n",
              "      <td>0.026043</td>\n",
              "    </tr>\n",
              "    <tr>\n",
              "      <th>24</th>\n",
              "      <td>nougat</td>\n",
              "      <td>winpercent</td>\n",
              "      <td>0.003601</td>\n",
              "    </tr>\n",
              "    <tr>\n",
              "      <th>25</th>\n",
              "      <td>pluribus</td>\n",
              "      <td>sugarpercent</td>\n",
              "      <td>0.003262</td>\n",
              "    </tr>\n",
              "    <tr>\n",
              "      <th>26</th>\n",
              "      <td>bar</td>\n",
              "      <td>sugarpercent</td>\n",
              "      <td>-0.001838</td>\n",
              "    </tr>\n",
              "    <tr>\n",
              "      <th>27</th>\n",
              "      <td>peanutyalmondy</td>\n",
              "      <td>pluribus</td>\n",
              "      <td>-0.024398</td>\n",
              "    </tr>\n",
              "    <tr>\n",
              "      <th>28</th>\n",
              "      <td>crispedricewafer</td>\n",
              "      <td>winpercent</td>\n",
              "      <td>-0.059682</td>\n",
              "    </tr>\n",
              "    <tr>\n",
              "      <th>29</th>\n",
              "      <td>caramel</td>\n",
              "      <td>winpercent</td>\n",
              "      <td>-0.099732</td>\n",
              "    </tr>\n",
              "    <tr>\n",
              "      <th>30</th>\n",
              "      <td>nougat</td>\n",
              "      <td>pricepercent</td>\n",
              "      <td>-0.104117</td>\n",
              "    </tr>\n",
              "    <tr>\n",
              "      <th>31</th>\n",
              "      <td>bar</td>\n",
              "      <td>winpercent</td>\n",
              "      <td>-0.104927</td>\n",
              "    </tr>\n",
              "    <tr>\n",
              "      <th>32</th>\n",
              "      <td>peanutyalmondy</td>\n",
              "      <td>nougat</td>\n",
              "      <td>-0.132847</td>\n",
              "    </tr>\n",
              "    <tr>\n",
              "      <th>33</th>\n",
              "      <td>sugarpercent</td>\n",
              "      <td>winpercent</td>\n",
              "      <td>-0.142380</td>\n",
              "    </tr>\n",
              "    <tr>\n",
              "      <th>34</th>\n",
              "      <td>fruity</td>\n",
              "      <td>nougat</td>\n",
              "      <td>-0.177705</td>\n",
              "    </tr>\n",
              "    <tr>\n",
              "      <th>35</th>\n",
              "      <td>crispedricewafer</td>\n",
              "      <td>sugarpercent</td>\n",
              "      <td>-0.206311</td>\n",
              "    </tr>\n",
              "    <tr>\n",
              "      <th>36</th>\n",
              "      <td>caramel</td>\n",
              "      <td>peanutyalmondy</td>\n",
              "      <td>-0.211445</td>\n",
              "    </tr>\n",
              "    <tr>\n",
              "      <th>37</th>\n",
              "      <td>fruity</td>\n",
              "      <td>crispedricewafer</td>\n",
              "      <td>-0.230089</td>\n",
              "    </tr>\n",
              "    <tr>\n",
              "      <th>38</th>\n",
              "      <td>nougat</td>\n",
              "      <td>crispedricewafer</td>\n",
              "      <td>-0.272587</td>\n",
              "    </tr>\n",
              "    <tr>\n",
              "      <th>39</th>\n",
              "      <td>peanutyalmondy</td>\n",
              "      <td>crispedricewafer</td>\n",
              "      <td>-0.273449</td>\n",
              "    </tr>\n",
              "    <tr>\n",
              "      <th>40</th>\n",
              "      <td>fruity</td>\n",
              "      <td>sugarpercent</td>\n",
              "      <td>-0.281577</td>\n",
              "    </tr>\n",
              "    <tr>\n",
              "      <th>41</th>\n",
              "      <td>fruity</td>\n",
              "      <td>caramel</td>\n",
              "      <td>-0.282843</td>\n",
              "    </tr>\n",
              "    <tr>\n",
              "      <th>42</th>\n",
              "      <td>pluribus</td>\n",
              "      <td>winpercent</td>\n",
              "      <td>-0.284292</td>\n",
              "    </tr>\n",
              "    <tr>\n",
              "      <th>43</th>\n",
              "      <td>peanutyalmondy</td>\n",
              "      <td>bar</td>\n",
              "      <td>-0.302407</td>\n",
              "    </tr>\n",
              "    <tr>\n",
              "      <th>44</th>\n",
              "      <td>fruity</td>\n",
              "      <td>peanutyalmondy</td>\n",
              "      <td>-0.310530</td>\n",
              "    </tr>\n",
              "    <tr>\n",
              "      <th>45</th>\n",
              "      <td>nougat</td>\n",
              "      <td>pluribus</td>\n",
              "      <td>-0.335083</td>\n",
              "    </tr>\n",
              "    <tr>\n",
              "      <th>46</th>\n",
              "      <td>caramel</td>\n",
              "      <td>pluribus</td>\n",
              "      <td>-0.341667</td>\n",
              "    </tr>\n",
              "    <tr>\n",
              "      <th>47</th>\n",
              "      <td>fruity</td>\n",
              "      <td>winpercent</td>\n",
              "      <td>-0.355847</td>\n",
              "    </tr>\n",
              "    <tr>\n",
              "      <th>48</th>\n",
              "      <td>pluribus</td>\n",
              "      <td>pricepercent</td>\n",
              "      <td>-0.362441</td>\n",
              "    </tr>\n",
              "    <tr>\n",
              "      <th>49</th>\n",
              "      <td>fruity</td>\n",
              "      <td>bar</td>\n",
              "      <td>-0.404520</td>\n",
              "    </tr>\n",
              "    <tr>\n",
              "      <th>50</th>\n",
              "      <td>crispedricewafer</td>\n",
              "      <td>pluribus</td>\n",
              "      <td>-0.433861</td>\n",
              "    </tr>\n",
              "    <tr>\n",
              "      <th>51</th>\n",
              "      <td>chocolate</td>\n",
              "      <td>pluribus</td>\n",
              "      <td>-0.530330</td>\n",
              "    </tr>\n",
              "    <tr>\n",
              "      <th>52</th>\n",
              "      <td>fruity</td>\n",
              "      <td>pricepercent</td>\n",
              "      <td>-0.741385</td>\n",
              "    </tr>\n",
              "    <tr>\n",
              "      <th>53</th>\n",
              "      <td>bar</td>\n",
              "      <td>pluribus</td>\n",
              "      <td>-0.762770</td>\n",
              "    </tr>\n",
              "    <tr>\n",
              "      <th>54</th>\n",
              "      <td>chocolate</td>\n",
              "      <td>fruity</td>\n",
              "      <td>-1.000000</td>\n",
              "    </tr>\n",
              "    <tr>\n",
              "      <th>55</th>\n",
              "      <td>chocolate</td>\n",
              "      <td>hard</td>\n",
              "      <td>NaN</td>\n",
              "    </tr>\n",
              "    <tr>\n",
              "      <th>56</th>\n",
              "      <td>fruity</td>\n",
              "      <td>hard</td>\n",
              "      <td>NaN</td>\n",
              "    </tr>\n",
              "    <tr>\n",
              "      <th>57</th>\n",
              "      <td>caramel</td>\n",
              "      <td>hard</td>\n",
              "      <td>NaN</td>\n",
              "    </tr>\n",
              "    <tr>\n",
              "      <th>58</th>\n",
              "      <td>peanutyalmondy</td>\n",
              "      <td>hard</td>\n",
              "      <td>NaN</td>\n",
              "    </tr>\n",
              "    <tr>\n",
              "      <th>59</th>\n",
              "      <td>nougat</td>\n",
              "      <td>hard</td>\n",
              "      <td>NaN</td>\n",
              "    </tr>\n",
              "    <tr>\n",
              "      <th>60</th>\n",
              "      <td>crispedricewafer</td>\n",
              "      <td>hard</td>\n",
              "      <td>NaN</td>\n",
              "    </tr>\n",
              "    <tr>\n",
              "      <th>61</th>\n",
              "      <td>hard</td>\n",
              "      <td>bar</td>\n",
              "      <td>NaN</td>\n",
              "    </tr>\n",
              "    <tr>\n",
              "      <th>62</th>\n",
              "      <td>hard</td>\n",
              "      <td>pluribus</td>\n",
              "      <td>NaN</td>\n",
              "    </tr>\n",
              "    <tr>\n",
              "      <th>63</th>\n",
              "      <td>hard</td>\n",
              "      <td>sugarpercent</td>\n",
              "      <td>NaN</td>\n",
              "    </tr>\n",
              "    <tr>\n",
              "      <th>64</th>\n",
              "      <td>hard</td>\n",
              "      <td>pricepercent</td>\n",
              "      <td>NaN</td>\n",
              "    </tr>\n",
              "    <tr>\n",
              "      <th>65</th>\n",
              "      <td>hard</td>\n",
              "      <td>winpercent</td>\n",
              "      <td>NaN</td>\n",
              "    </tr>\n",
              "  </tbody>\n",
              "</table>\n",
              "</div>"
            ],
            "text/plain": [
              "            Feature1          Feature2      corr\n",
              "0          chocolate      pricepercent  0.741385\n",
              "1   crispedricewafer               bar  0.568796\n",
              "2             fruity          pluribus  0.530330\n",
              "3            caramel               bar  0.516459\n",
              "4                bar      pricepercent  0.446833\n",
              "5             nougat               bar  0.439298\n",
              "6       sugarpercent      pricepercent  0.437699\n",
              "7     peanutyalmondy        winpercent  0.421195\n",
              "8   crispedricewafer      pricepercent  0.418635\n",
              "9          chocolate               bar  0.404520\n",
              "10           caramel      pricepercent  0.399861\n",
              "11           caramel            nougat  0.387440\n",
              "12         chocolate        winpercent  0.355847\n",
              "13           caramel      sugarpercent  0.316967\n",
              "14         chocolate    peanutyalmondy  0.310530\n",
              "15         chocolate           caramel  0.282843\n",
              "16         chocolate      sugarpercent  0.281577\n",
              "17         chocolate  crispedricewafer  0.230089\n",
              "18           caramel  crispedricewafer  0.189814\n",
              "19         chocolate            nougat  0.177705\n",
              "20      pricepercent        winpercent  0.111665\n",
              "21            nougat      sugarpercent  0.066319\n",
              "22    peanutyalmondy      pricepercent  0.033040\n",
              "23    peanutyalmondy      sugarpercent  0.026043\n",
              "24            nougat        winpercent  0.003601\n",
              "25          pluribus      sugarpercent  0.003262\n",
              "26               bar      sugarpercent -0.001838\n",
              "27    peanutyalmondy          pluribus -0.024398\n",
              "28  crispedricewafer        winpercent -0.059682\n",
              "29           caramel        winpercent -0.099732\n",
              "30            nougat      pricepercent -0.104117\n",
              "31               bar        winpercent -0.104927\n",
              "32    peanutyalmondy            nougat -0.132847\n",
              "33      sugarpercent        winpercent -0.142380\n",
              "34            fruity            nougat -0.177705\n",
              "35  crispedricewafer      sugarpercent -0.206311\n",
              "36           caramel    peanutyalmondy -0.211445\n",
              "37            fruity  crispedricewafer -0.230089\n",
              "38            nougat  crispedricewafer -0.272587\n",
              "39    peanutyalmondy  crispedricewafer -0.273449\n",
              "40            fruity      sugarpercent -0.281577\n",
              "41            fruity           caramel -0.282843\n",
              "42          pluribus        winpercent -0.284292\n",
              "43    peanutyalmondy               bar -0.302407\n",
              "44            fruity    peanutyalmondy -0.310530\n",
              "45            nougat          pluribus -0.335083\n",
              "46           caramel          pluribus -0.341667\n",
              "47            fruity        winpercent -0.355847\n",
              "48          pluribus      pricepercent -0.362441\n",
              "49            fruity               bar -0.404520\n",
              "50  crispedricewafer          pluribus -0.433861\n",
              "51         chocolate          pluribus -0.530330\n",
              "52            fruity      pricepercent -0.741385\n",
              "53               bar          pluribus -0.762770\n",
              "54         chocolate            fruity -1.000000\n",
              "55         chocolate              hard       NaN\n",
              "56            fruity              hard       NaN\n",
              "57           caramel              hard       NaN\n",
              "58    peanutyalmondy              hard       NaN\n",
              "59            nougat              hard       NaN\n",
              "60  crispedricewafer              hard       NaN\n",
              "61              hard               bar       NaN\n",
              "62              hard          pluribus       NaN\n",
              "63              hard      sugarpercent       NaN\n",
              "64              hard      pricepercent       NaN\n",
              "65              hard        winpercent       NaN"
            ]
          },
          "metadata": {
            "tags": []
          }
        }
      ]
    },
    {
      "cell_type": "markdown",
      "metadata": {
        "id": "GLceSSofBcgT"
      },
      "source": [
        "These above correlation ranks cleary explain how much any 2 features in our candy dataset are positively or negatively correlated or not actually related. \r\n",
        "This also cleary shows that producing a hard candy is not suggestible as it has almost no correlation or combination with any flavour as itself is not preferred in our highly winning competitors data whereas chocolate has good correlation with price percent which tells that, obviously being chocolate accounts to most of the obtained price percent. Then crispedricewafers being bars are of high correlation as wafers generally exsist in the form of bars."
      ]
    },
    {
      "cell_type": "code",
      "metadata": {
        "colab": {
          "base_uri": "https://localhost:8080/",
          "height": 595
        },
        "id": "jhXI-E119aKT",
        "outputId": "e82e84b2-0bfe-4263-bf7e-12f0289c051a"
      },
      "source": [
        "plt.figure(figsize=(20,10))\r\n",
        "sns.heatmap(pick_low.corr(),annot=True)\r\n",
        "plt.show()"
      ],
      "execution_count": 399,
      "outputs": [
        {
          "output_type": "display_data",
          "data": {
            "image/png": "[encoded data removed]",
            "text/plain": [
              "<Figure size 1440x720 with 2 Axes>"
            ]
          },
          "metadata": {
            "tags": [],
            "needs_background": "light"
          }
        }
      ]
    },
    {
      "cell_type": "code",
      "metadata": {
        "colab": {
          "base_uri": "https://localhost:8080/",
          "height": 1000
        },
        "id": "yR8HTYFesPX9",
        "outputId": "e538b8dc-39bb-4826-b875-0f28c8cea02d"
      },
      "source": [
        "def corrank(X):\r\n",
        "    import itertools\r\n",
        "    df = pd.DataFrame([[i,j,X.corr().loc[i,j]] for i,j in list(itertools.combinations(X.corr(), 2))],columns=['Feature1','Feature2','corr'])    \r\n",
        "    return df.sort_values(by='corr',ascending=False).reset_index(drop=True)\r\n",
        "\r\n",
        "correlation = display_all(corrank(pick_low))\r\n",
        "correlation"
      ],
      "execution_count": 400,
      "outputs": [
        {
          "output_type": "display_data",
          "data": {
            "text/html": [
              "<div>\n",
              "<style scoped>\n",
              "    .dataframe tbody tr th:only-of-type {\n",
              "        vertical-align: middle;\n",
              "    }\n",
              "\n",
              "    .dataframe tbody tr th {\n",
              "        vertical-align: top;\n",
              "    }\n",
              "\n",
              "    .dataframe thead th {\n",
              "        text-align: right;\n",
              "    }\n",
              "</style>\n",
              "<table border=\"1\" class=\"dataframe\">\n",
              "  <thead>\n",
              "    <tr style=\"text-align: right;\">\n",
              "      <th></th>\n",
              "      <th>Feature1</th>\n",
              "      <th>Feature2</th>\n",
              "      <th>corr</th>\n",
              "    </tr>\n",
              "  </thead>\n",
              "  <tbody>\n",
              "    <tr>\n",
              "      <th>0</th>\n",
              "      <td>chocolate</td>\n",
              "      <td>bar</td>\n",
              "      <td>0.567812</td>\n",
              "    </tr>\n",
              "    <tr>\n",
              "      <th>1</th>\n",
              "      <td>peanutyalmondy</td>\n",
              "      <td>bar</td>\n",
              "      <td>0.550572</td>\n",
              "    </tr>\n",
              "    <tr>\n",
              "      <th>2</th>\n",
              "      <td>nougat</td>\n",
              "      <td>bar</td>\n",
              "      <td>0.547207</td>\n",
              "    </tr>\n",
              "    <tr>\n",
              "      <th>3</th>\n",
              "      <td>peanutyalmondy</td>\n",
              "      <td>nougat</td>\n",
              "      <td>0.485308</td>\n",
              "    </tr>\n",
              "    <tr>\n",
              "      <th>4</th>\n",
              "      <td>bar</td>\n",
              "      <td>pricepercent</td>\n",
              "      <td>0.483551</td>\n",
              "    </tr>\n",
              "    <tr>\n",
              "      <th>5</th>\n",
              "      <td>chocolate</td>\n",
              "      <td>winpercent</td>\n",
              "      <td>0.431951</td>\n",
              "    </tr>\n",
              "    <tr>\n",
              "      <th>6</th>\n",
              "      <td>bar</td>\n",
              "      <td>winpercent</td>\n",
              "      <td>0.360278</td>\n",
              "    </tr>\n",
              "    <tr>\n",
              "      <th>7</th>\n",
              "      <td>chocolate</td>\n",
              "      <td>pricepercent</td>\n",
              "      <td>0.352799</td>\n",
              "    </tr>\n",
              "    <tr>\n",
              "      <th>8</th>\n",
              "      <td>peanutyalmondy</td>\n",
              "      <td>pricepercent</td>\n",
              "      <td>0.344324</td>\n",
              "    </tr>\n",
              "    <tr>\n",
              "      <th>9</th>\n",
              "      <td>fruity</td>\n",
              "      <td>hard</td>\n",
              "      <td>0.344267</td>\n",
              "    </tr>\n",
              "    <tr>\n",
              "      <th>10</th>\n",
              "      <td>sugarpercent</td>\n",
              "      <td>pricepercent</td>\n",
              "      <td>0.232755</td>\n",
              "    </tr>\n",
              "    <tr>\n",
              "      <th>11</th>\n",
              "      <td>chocolate</td>\n",
              "      <td>peanutyalmondy</td>\n",
              "      <td>0.216306</td>\n",
              "    </tr>\n",
              "    <tr>\n",
              "      <th>12</th>\n",
              "      <td>nougat</td>\n",
              "      <td>pricepercent</td>\n",
              "      <td>0.211244</td>\n",
              "    </tr>\n",
              "    <tr>\n",
              "      <th>13</th>\n",
              "      <td>chocolate</td>\n",
              "      <td>crispedricewafer</td>\n",
              "      <td>0.208313</td>\n",
              "    </tr>\n",
              "    <tr>\n",
              "      <th>14</th>\n",
              "      <td>crispedricewafer</td>\n",
              "      <td>sugarpercent</td>\n",
              "      <td>0.200386</td>\n",
              "    </tr>\n",
              "    <tr>\n",
              "      <th>15</th>\n",
              "      <td>chocolate</td>\n",
              "      <td>nougat</td>\n",
              "      <td>0.198383</td>\n",
              "    </tr>\n",
              "    <tr>\n",
              "      <th>16</th>\n",
              "      <td>hard</td>\n",
              "      <td>sugarpercent</td>\n",
              "      <td>0.195090</td>\n",
              "    </tr>\n",
              "    <tr>\n",
              "      <th>17</th>\n",
              "      <td>crispedricewafer</td>\n",
              "      <td>pricepercent</td>\n",
              "      <td>0.194446</td>\n",
              "    </tr>\n",
              "    <tr>\n",
              "      <th>18</th>\n",
              "      <td>pricepercent</td>\n",
              "      <td>winpercent</td>\n",
              "      <td>0.180585</td>\n",
              "    </tr>\n",
              "    <tr>\n",
              "      <th>19</th>\n",
              "      <td>caramel</td>\n",
              "      <td>nougat</td>\n",
              "      <td>0.180425</td>\n",
              "    </tr>\n",
              "    <tr>\n",
              "      <th>20</th>\n",
              "      <td>fruity</td>\n",
              "      <td>pluribus</td>\n",
              "      <td>0.176504</td>\n",
              "    </tr>\n",
              "    <tr>\n",
              "      <th>21</th>\n",
              "      <td>fruity</td>\n",
              "      <td>sugarpercent</td>\n",
              "      <td>0.145192</td>\n",
              "    </tr>\n",
              "    <tr>\n",
              "      <th>22</th>\n",
              "      <td>sugarpercent</td>\n",
              "      <td>winpercent</td>\n",
              "      <td>0.142874</td>\n",
              "    </tr>\n",
              "    <tr>\n",
              "      <th>23</th>\n",
              "      <td>pluribus</td>\n",
              "      <td>sugarpercent</td>\n",
              "      <td>0.130597</td>\n",
              "    </tr>\n",
              "    <tr>\n",
              "      <th>24</th>\n",
              "      <td>crispedricewafer</td>\n",
              "      <td>pluribus</td>\n",
              "      <td>0.108810</td>\n",
              "    </tr>\n",
              "    <tr>\n",
              "      <th>25</th>\n",
              "      <td>nougat</td>\n",
              "      <td>winpercent</td>\n",
              "      <td>0.104774</td>\n",
              "    </tr>\n",
              "    <tr>\n",
              "      <th>26</th>\n",
              "      <td>caramel</td>\n",
              "      <td>peanutyalmondy</td>\n",
              "      <td>0.103409</td>\n",
              "    </tr>\n",
              "    <tr>\n",
              "      <th>27</th>\n",
              "      <td>peanutyalmondy</td>\n",
              "      <td>winpercent</td>\n",
              "      <td>0.101217</td>\n",
              "    </tr>\n",
              "    <tr>\n",
              "      <th>28</th>\n",
              "      <td>crispedricewafer</td>\n",
              "      <td>winpercent</td>\n",
              "      <td>0.096515</td>\n",
              "    </tr>\n",
              "    <tr>\n",
              "      <th>29</th>\n",
              "      <td>nougat</td>\n",
              "      <td>sugarpercent</td>\n",
              "      <td>0.093696</td>\n",
              "    </tr>\n",
              "    <tr>\n",
              "      <th>30</th>\n",
              "      <td>caramel</td>\n",
              "      <td>pricepercent</td>\n",
              "      <td>0.089517</td>\n",
              "    </tr>\n",
              "    <tr>\n",
              "      <th>31</th>\n",
              "      <td>caramel</td>\n",
              "      <td>sugarpercent</td>\n",
              "      <td>0.086499</td>\n",
              "    </tr>\n",
              "    <tr>\n",
              "      <th>32</th>\n",
              "      <td>chocolate</td>\n",
              "      <td>caramel</td>\n",
              "      <td>0.043393</td>\n",
              "    </tr>\n",
              "    <tr>\n",
              "      <th>33</th>\n",
              "      <td>caramel</td>\n",
              "      <td>bar</td>\n",
              "      <td>0.019983</td>\n",
              "    </tr>\n",
              "    <tr>\n",
              "      <th>34</th>\n",
              "      <td>bar</td>\n",
              "      <td>sugarpercent</td>\n",
              "      <td>0.018310</td>\n",
              "    </tr>\n",
              "    <tr>\n",
              "      <th>35</th>\n",
              "      <td>peanutyalmondy</td>\n",
              "      <td>sugarpercent</td>\n",
              "      <td>-0.011688</td>\n",
              "    </tr>\n",
              "    <tr>\n",
              "      <th>36</th>\n",
              "      <td>caramel</td>\n",
              "      <td>winpercent</td>\n",
              "      <td>-0.025380</td>\n",
              "    </tr>\n",
              "    <tr>\n",
              "      <th>37</th>\n",
              "      <td>nougat</td>\n",
              "      <td>crispedricewafer</td>\n",
              "      <td>-0.028872</td>\n",
              "    </tr>\n",
              "    <tr>\n",
              "      <th>38</th>\n",
              "      <td>peanutyalmondy</td>\n",
              "      <td>crispedricewafer</td>\n",
              "      <td>-0.037921</td>\n",
              "    </tr>\n",
              "    <tr>\n",
              "      <th>39</th>\n",
              "      <td>caramel</td>\n",
              "      <td>crispedricewafer</td>\n",
              "      <td>-0.041910</td>\n",
              "    </tr>\n",
              "    <tr>\n",
              "      <th>40</th>\n",
              "      <td>crispedricewafer</td>\n",
              "      <td>bar</td>\n",
              "      <td>-0.052762</td>\n",
              "    </tr>\n",
              "    <tr>\n",
              "      <th>41</th>\n",
              "      <td>hard</td>\n",
              "      <td>pluribus</td>\n",
              "      <td>-0.054165</td>\n",
              "    </tr>\n",
              "    <tr>\n",
              "      <th>42</th>\n",
              "      <td>caramel</td>\n",
              "      <td>hard</td>\n",
              "      <td>-0.057530</td>\n",
              "    </tr>\n",
              "    <tr>\n",
              "      <th>43</th>\n",
              "      <td>crispedricewafer</td>\n",
              "      <td>hard</td>\n",
              "      <td>-0.072332</td>\n",
              "    </tr>\n",
              "    <tr>\n",
              "      <th>44</th>\n",
              "      <td>fruity</td>\n",
              "      <td>winpercent</td>\n",
              "      <td>-0.087104</td>\n",
              "    </tr>\n",
              "    <tr>\n",
              "      <th>45</th>\n",
              "      <td>pluribus</td>\n",
              "      <td>winpercent</td>\n",
              "      <td>-0.101871</td>\n",
              "    </tr>\n",
              "    <tr>\n",
              "      <th>46</th>\n",
              "      <td>chocolate</td>\n",
              "      <td>sugarpercent</td>\n",
              "      <td>-0.103792</td>\n",
              "    </tr>\n",
              "    <tr>\n",
              "      <th>47</th>\n",
              "      <td>pluribus</td>\n",
              "      <td>pricepercent</td>\n",
              "      <td>-0.116396</td>\n",
              "    </tr>\n",
              "    <tr>\n",
              "      <th>48</th>\n",
              "      <td>nougat</td>\n",
              "      <td>hard</td>\n",
              "      <td>-0.127389</td>\n",
              "    </tr>\n",
              "    <tr>\n",
              "      <th>49</th>\n",
              "      <td>fruity</td>\n",
              "      <td>crispedricewafer</td>\n",
              "      <td>-0.145776</td>\n",
              "    </tr>\n",
              "    <tr>\n",
              "      <th>50</th>\n",
              "      <td>hard</td>\n",
              "      <td>winpercent</td>\n",
              "      <td>-0.158154</td>\n",
              "    </tr>\n",
              "    <tr>\n",
              "      <th>51</th>\n",
              "      <td>caramel</td>\n",
              "      <td>pluribus</td>\n",
              "      <td>-0.164052</td>\n",
              "    </tr>\n",
              "    <tr>\n",
              "      <th>52</th>\n",
              "      <td>peanutyalmondy</td>\n",
              "      <td>hard</td>\n",
              "      <td>-0.167319</td>\n",
              "    </tr>\n",
              "    <tr>\n",
              "      <th>53</th>\n",
              "      <td>hard</td>\n",
              "      <td>pricepercent</td>\n",
              "      <td>-0.191313</td>\n",
              "    </tr>\n",
              "    <tr>\n",
              "      <th>54</th>\n",
              "      <td>chocolate</td>\n",
              "      <td>pluribus</td>\n",
              "      <td>-0.210354</td>\n",
              "    </tr>\n",
              "    <tr>\n",
              "      <th>55</th>\n",
              "      <td>peanutyalmondy</td>\n",
              "      <td>pluribus</td>\n",
              "      <td>-0.228466</td>\n",
              "    </tr>\n",
              "    <tr>\n",
              "      <th>56</th>\n",
              "      <td>hard</td>\n",
              "      <td>bar</td>\n",
              "      <td>-0.232798</td>\n",
              "    </tr>\n",
              "    <tr>\n",
              "      <th>57</th>\n",
              "      <td>fruity</td>\n",
              "      <td>nougat</td>\n",
              "      <td>-0.256736</td>\n",
              "    </tr>\n",
              "    <tr>\n",
              "      <th>58</th>\n",
              "      <td>fruity</td>\n",
              "      <td>caramel</td>\n",
              "      <td>-0.262649</td>\n",
              "    </tr>\n",
              "    <tr>\n",
              "      <th>59</th>\n",
              "      <td>chocolate</td>\n",
              "      <td>hard</td>\n",
              "      <td>-0.262804</td>\n",
              "    </tr>\n",
              "    <tr>\n",
              "      <th>60</th>\n",
              "      <td>nougat</td>\n",
              "      <td>pluribus</td>\n",
              "      <td>-0.265338</td>\n",
              "    </tr>\n",
              "    <tr>\n",
              "      <th>61</th>\n",
              "      <td>fruity</td>\n",
              "      <td>pricepercent</td>\n",
              "      <td>-0.279948</td>\n",
              "    </tr>\n",
              "    <tr>\n",
              "      <th>62</th>\n",
              "      <td>fruity</td>\n",
              "      <td>peanutyalmondy</td>\n",
              "      <td>-0.337209</td>\n",
              "    </tr>\n",
              "    <tr>\n",
              "      <th>63</th>\n",
              "      <td>fruity</td>\n",
              "      <td>bar</td>\n",
              "      <td>-0.469176</td>\n",
              "    </tr>\n",
              "    <tr>\n",
              "      <th>64</th>\n",
              "      <td>bar</td>\n",
              "      <td>pluribus</td>\n",
              "      <td>-0.484895</td>\n",
              "    </tr>\n",
              "    <tr>\n",
              "      <th>65</th>\n",
              "      <td>chocolate</td>\n",
              "      <td>fruity</td>\n",
              "      <td>-0.626874</td>\n",
              "    </tr>\n",
              "  </tbody>\n",
              "</table>\n",
              "</div>"
            ],
            "text/plain": [
              "            Feature1          Feature2      corr\n",
              "0          chocolate               bar  0.567812\n",
              "1     peanutyalmondy               bar  0.550572\n",
              "2             nougat               bar  0.547207\n",
              "3     peanutyalmondy            nougat  0.485308\n",
              "4                bar      pricepercent  0.483551\n",
              "5          chocolate        winpercent  0.431951\n",
              "6                bar        winpercent  0.360278\n",
              "7          chocolate      pricepercent  0.352799\n",
              "8     peanutyalmondy      pricepercent  0.344324\n",
              "9             fruity              hard  0.344267\n",
              "10      sugarpercent      pricepercent  0.232755\n",
              "11         chocolate    peanutyalmondy  0.216306\n",
              "12            nougat      pricepercent  0.211244\n",
              "13         chocolate  crispedricewafer  0.208313\n",
              "14  crispedricewafer      sugarpercent  0.200386\n",
              "15         chocolate            nougat  0.198383\n",
              "16              hard      sugarpercent  0.195090\n",
              "17  crispedricewafer      pricepercent  0.194446\n",
              "18      pricepercent        winpercent  0.180585\n",
              "19           caramel            nougat  0.180425\n",
              "20            fruity          pluribus  0.176504\n",
              "21            fruity      sugarpercent  0.145192\n",
              "22      sugarpercent        winpercent  0.142874\n",
              "23          pluribus      sugarpercent  0.130597\n",
              "24  crispedricewafer          pluribus  0.108810\n",
              "25            nougat        winpercent  0.104774\n",
              "26           caramel    peanutyalmondy  0.103409\n",
              "27    peanutyalmondy        winpercent  0.101217\n",
              "28  crispedricewafer        winpercent  0.096515\n",
              "29            nougat      sugarpercent  0.093696\n",
              "30           caramel      pricepercent  0.089517\n",
              "31           caramel      sugarpercent  0.086499\n",
              "32         chocolate           caramel  0.043393\n",
              "33           caramel               bar  0.019983\n",
              "34               bar      sugarpercent  0.018310\n",
              "35    peanutyalmondy      sugarpercent -0.011688\n",
              "36           caramel        winpercent -0.025380\n",
              "37            nougat  crispedricewafer -0.028872\n",
              "38    peanutyalmondy  crispedricewafer -0.037921\n",
              "39           caramel  crispedricewafer -0.041910\n",
              "40  crispedricewafer               bar -0.052762\n",
              "41              hard          pluribus -0.054165\n",
              "42           caramel              hard -0.057530\n",
              "43  crispedricewafer              hard -0.072332\n",
              "44            fruity        winpercent -0.087104\n",
              "45          pluribus        winpercent -0.101871\n",
              "46         chocolate      sugarpercent -0.103792\n",
              "47          pluribus      pricepercent -0.116396\n",
              "48            nougat              hard -0.127389\n",
              "49            fruity  crispedricewafer -0.145776\n",
              "50              hard        winpercent -0.158154\n",
              "51           caramel          pluribus -0.164052\n",
              "52    peanutyalmondy              hard -0.167319\n",
              "53              hard      pricepercent -0.191313\n",
              "54         chocolate          pluribus -0.210354\n",
              "55    peanutyalmondy          pluribus -0.228466\n",
              "56              hard               bar -0.232798\n",
              "57            fruity            nougat -0.256736\n",
              "58            fruity           caramel -0.262649\n",
              "59         chocolate              hard -0.262804\n",
              "60            nougat          pluribus -0.265338\n",
              "61            fruity      pricepercent -0.279948\n",
              "62            fruity    peanutyalmondy -0.337209\n",
              "63            fruity               bar -0.469176\n",
              "64               bar          pluribus -0.484895\n",
              "65         chocolate            fruity -0.626874"
            ]
          },
          "metadata": {
            "tags": []
          }
        }
      ]
    },
    {
      "cell_type": "markdown",
      "metadata": {
        "id": "691-i61lrOre"
      },
      "source": [
        "This is the list of correlation values of low performing competitors, that tells what combinations in candy are not to be preferred if we are aiming for success of our brand. But the top ranks in this correlation can be used in some cases."
      ]
    },
    {
      "cell_type": "code",
      "metadata": {
        "colab": {
          "base_uri": "https://localhost:8080/",
          "height": 1000
        },
        "id": "-kjNdVdXtQIT",
        "outputId": "f302002c-047c-4be5-becb-f6d7beef5b65"
      },
      "source": [
        "sns.countplot('chocolate',data = pick_high)\r\n",
        "plt.show()\r\n",
        "sns.countplot('fruity', data = pick_high) \r\n",
        "plt.show()\r\n",
        "sns.countplot('caramel',data = pick_high)\r\n",
        "plt.show()  \r\n",
        "sns.countplot('peanutyalmondy', data = pick_high)\r\n",
        "plt.show()\r\n",
        "sns.countplot('nougat', data= pick_high)\r\n",
        "plt.show()\r\n",
        "sns.countplot('crispedricewafer', data = pick_high)\r\n",
        "plt.show()\r\n",
        "sns.countplot('hard', data = pick_high)\r\n",
        "plt.show()\r\n",
        "sns.countplot('bar',data = pick_high)\r\n",
        "plt.show()\r\n",
        "sns.countplot('pluribus',data = pick_high)\r\n",
        "plt.show()\r\n"
      ],
      "execution_count": 401,
      "outputs": [
        {
          "output_type": "stream",
          "text": [
            "/usr/local/lib/python3.6/dist-packages/seaborn/_decorators.py:43: FutureWarning:\n",
            "\n",
            "Pass the following variable as a keyword arg: x. From version 0.12, the only valid positional argument will be `data`, and passing other arguments without an explicit keyword will result in an error or misinterpretation.\n",
            "\n"
          ],
          "name": "stderr"
        },
        {
          "output_type": "display_data",
          "data": {
            "image/png": "[encoded data removed]",
            "text/plain": [
              "<Figure size 432x288 with 1 Axes>"
            ]
          },
          "metadata": {
            "tags": [],
            "needs_background": "light"
          }
        },
        {
          "output_type": "stream",
          "text": [
            "/usr/local/lib/python3.6/dist-packages/seaborn/_decorators.py:43: FutureWarning:\n",
            "\n",
            "Pass the following variable as a keyword arg: x. From version 0.12, the only valid positional argument will be `data`, and passing other arguments without an explicit keyword will result in an error or misinterpretation.\n",
            "\n"
          ],
          "name": "stderr"
        },
        {
          "output_type": "display_data",
          "data": {
            "image/png": "[encoded data removed]",
            "text/plain": [
              "<Figure size 432x288 with 1 Axes>"
            ]
          },
          "metadata": {
            "tags": [],
            "needs_background": "light"
          }
        },
        {
          "output_type": "stream",
          "text": [
            "/usr/local/lib/python3.6/dist-packages/seaborn/_decorators.py:43: FutureWarning:\n",
            "\n",
            "Pass the following variable as a keyword arg: x. From version 0.12, the only valid positional argument will be `data`, and passing other arguments without an explicit keyword will result in an error or misinterpretation.\n",
            "\n"
          ],
          "name": "stderr"
        },
        {
          "output_type": "display_data",
          "data": {
            "image/png": "[encoded data removed]",
            "text/plain": [
              "<Figure size 432x288 with 1 Axes>"
            ]
          },
          "metadata": {
            "tags": [],
            "needs_background": "light"
          }
        },
        {
          "output_type": "stream",
          "text": [
            "/usr/local/lib/python3.6/dist-packages/seaborn/_decorators.py:43: FutureWarning:\n",
            "\n",
            "Pass the following variable as a keyword arg: x. From version 0.12, the only valid positional argument will be `data`, and passing other arguments without an explicit keyword will result in an error or misinterpretation.\n",
            "\n"
          ],
          "name": "stderr"
        },
        {
          "output_type": "display_data",
          "data": {
            "image/png": "[encoded data removed]",
            "text/plain": [
              "<Figure size 432x288 with 1 Axes>"
            ]
          },
          "metadata": {
            "tags": [],
            "needs_background": "light"
          }
        },
        {
          "output_type": "stream",
          "text": [
            "/usr/local/lib/python3.6/dist-packages/seaborn/_decorators.py:43: FutureWarning:\n",
            "\n",
            "Pass the following variable as a keyword arg: x. From version 0.12, the only valid positional argument will be `data`, and passing other arguments without an explicit keyword will result in an error or misinterpretation.\n",
            "\n"
          ],
          "name": "stderr"
        },
        {
          "output_type": "display_data",
          "data": {
            "image/png": "[encoded data removed]",
            "text/plain": [
              "<Figure size 432x288 with 1 Axes>"
            ]
          },
          "metadata": {
            "tags": [],
            "needs_background": "light"
          }
        },
        {
          "output_type": "stream",
          "text": [
            "/usr/local/lib/python3.6/dist-packages/seaborn/_decorators.py:43: FutureWarning:\n",
            "\n",
            "Pass the following variable as a keyword arg: x. From version 0.12, the only valid positional argument will be `data`, and passing other arguments without an explicit keyword will result in an error or misinterpretation.\n",
            "\n"
          ],
          "name": "stderr"
        },
        {
          "output_type": "display_data",
          "data": {
            "image/png": "[encoded data removed]",
            "text/plain": [
              "<Figure size 432x288 with 1 Axes>"
            ]
          },
          "metadata": {
            "tags": [],
            "needs_background": "light"
          }
        },
        {
          "output_type": "stream",
          "text": [
            "/usr/local/lib/python3.6/dist-packages/seaborn/_decorators.py:43: FutureWarning:\n",
            "\n",
            "Pass the following variable as a keyword arg: x. From version 0.12, the only valid positional argument will be `data`, and passing other arguments without an explicit keyword will result in an error or misinterpretation.\n",
            "\n"
          ],
          "name": "stderr"
        },
        {
          "output_type": "display_data",
          "data": {
            "image/png": "[encoded data removed]",
            "text/plain": [
              "<Figure size 432x288 with 1 Axes>"
            ]
          },
          "metadata": {
            "tags": [],
            "needs_background": "light"
          }
        },
        {
          "output_type": "stream",
          "text": [
            "/usr/local/lib/python3.6/dist-packages/seaborn/_decorators.py:43: FutureWarning:\n",
            "\n",
            "Pass the following variable as a keyword arg: x. From version 0.12, the only valid positional argument will be `data`, and passing other arguments without an explicit keyword will result in an error or misinterpretation.\n",
            "\n"
          ],
          "name": "stderr"
        },
        {
          "output_type": "display_data",
          "data": {
            "image/png": "[encoded data removed]",
            "text/plain": [
              "<Figure size 432x288 with 1 Axes>"
            ]
          },
          "metadata": {
            "tags": [],
            "needs_background": "light"
          }
        },
        {
          "output_type": "stream",
          "text": [
            "/usr/local/lib/python3.6/dist-packages/seaborn/_decorators.py:43: FutureWarning:\n",
            "\n",
            "Pass the following variable as a keyword arg: x. From version 0.12, the only valid positional argument will be `data`, and passing other arguments without an explicit keyword will result in an error or misinterpretation.\n",
            "\n"
          ],
          "name": "stderr"
        },
        {
          "output_type": "display_data",
          "data": {
            "image/png": "[encoded data removed]",
            "text/plain": [
              "<Figure size 432x288 with 1 Axes>"
            ]
          },
          "metadata": {
            "tags": [],
            "needs_background": "light"
          }
        }
      ]
    },
    {
      "cell_type": "markdown",
      "metadata": {
        "id": "zSEYb2hX2T10"
      },
      "source": [
        "Each count plot represents count of presence of flavour in candies on the whole in high performing brands. y-axis indicates the count of candies with the presence or absence i.e., 1 or 0 respectively, of a particular flavour ( on x-axis) of the high win percent competitors. It can be inferred that not many competitors produce candys with fruity,crispedricewafer,nougat flavours and hard candies but chocolate flavour and choclate-bar type candys are produced largely."
      ]
    },
    {
      "cell_type": "code",
      "metadata": {
        "colab": {
          "base_uri": "https://localhost:8080/",
          "height": 285
        },
        "id": "QHGS4LQJcva-",
        "outputId": "90decac3-0c9e-46f5-adfc-497c3603b9cc"
      },
      "source": [
        "combos.plot.bar(stacked = True)\r\n",
        "plt.legend(loc='upper left', bbox_to_anchor=(1, 1))\r\n"
      ],
      "execution_count": 402,
      "outputs": [
        {
          "output_type": "execute_result",
          "data": {
            "text/plain": [
              "<matplotlib.legend.Legend at 0x7ff3bcabb048>"
            ]
          },
          "metadata": {
            "tags": []
          },
          "execution_count": 402
        },
        {
          "output_type": "display_data",
          "data": {
            "image/png": "[encoded data removed]",
            "text/plain": [
              "<Figure size 432x288 with 1 Axes>"
            ]
          },
          "metadata": {
            "tags": [],
            "needs_background": "light"
          }
        }
      ]
    },
    {
      "cell_type": "markdown",
      "metadata": {
        "id": "FqlU-8Gr6o9t"
      },
      "source": [
        "The maximum number of combination flavours of a candy is 5 and the minimum is 2, among those with high win percentage.\r\n",
        "This plot is a quick view of candies with their combinations.\r\n",
        "This plot also shows that chocolate flavour is present in almost all of them as choclate is basically a key ingredient in a chocolate or candy."
      ]
    },
    {
      "cell_type": "markdown",
      "metadata": {
        "id": "qGc7Jf0vtjP5"
      },
      "source": [
        "***Observing variations and combinations in sugar, price and win percents among our top 23 brands with high win percentage***."
      ]
    },
    {
      "cell_type": "code",
      "metadata": {
        "colab": {
          "base_uri": "https://localhost:8080/",
          "height": 728
        },
        "id": "AnDC69DdisIA",
        "outputId": "c9925c30-f684-440d-d6f1-ebd4bf16babe"
      },
      "source": [
        "types_percent =  pick_high[pick_high.columns[9:]]\r\n",
        "types_percent"
      ],
      "execution_count": 403,
      "outputs": [
        {
          "output_type": "execute_result",
          "data": {
            "text/html": [
              "<div>\n",
              "<style scoped>\n",
              "    .dataframe tbody tr th:only-of-type {\n",
              "        vertical-align: middle;\n",
              "    }\n",
              "\n",
              "    .dataframe tbody tr th {\n",
              "        vertical-align: top;\n",
              "    }\n",
              "\n",
              "    .dataframe thead th {\n",
              "        text-align: right;\n",
              "    }\n",
              "</style>\n",
              "<table border=\"1\" class=\"dataframe\">\n",
              "  <thead>\n",
              "    <tr style=\"text-align: right;\">\n",
              "      <th></th>\n",
              "      <th>sugarpercent</th>\n",
              "      <th>pricepercent</th>\n",
              "      <th>winpercent</th>\n",
              "    </tr>\n",
              "  </thead>\n",
              "  <tbody>\n",
              "    <tr>\n",
              "      <th>0</th>\n",
              "      <td>0.73</td>\n",
              "      <td>0.86</td>\n",
              "      <td>0.67</td>\n",
              "    </tr>\n",
              "    <tr>\n",
              "      <th>1</th>\n",
              "      <td>0.60</td>\n",
              "      <td>0.51</td>\n",
              "      <td>0.68</td>\n",
              "    </tr>\n",
              "    <tr>\n",
              "      <th>23</th>\n",
              "      <td>0.43</td>\n",
              "      <td>0.92</td>\n",
              "      <td>0.62</td>\n",
              "    </tr>\n",
              "    <tr>\n",
              "      <th>28</th>\n",
              "      <td>0.31</td>\n",
              "      <td>0.51</td>\n",
              "      <td>0.77</td>\n",
              "    </tr>\n",
              "    <tr>\n",
              "      <th>32</th>\n",
              "      <td>0.82</td>\n",
              "      <td>0.65</td>\n",
              "      <td>0.71</td>\n",
              "    </tr>\n",
              "    <tr>\n",
              "      <th>33</th>\n",
              "      <td>0.82</td>\n",
              "      <td>0.65</td>\n",
              "      <td>0.67</td>\n",
              "    </tr>\n",
              "    <tr>\n",
              "      <th>36</th>\n",
              "      <td>0.60</td>\n",
              "      <td>0.65</td>\n",
              "      <td>0.73</td>\n",
              "    </tr>\n",
              "    <tr>\n",
              "      <th>37</th>\n",
              "      <td>0.73</td>\n",
              "      <td>0.44</td>\n",
              "      <td>0.61</td>\n",
              "    </tr>\n",
              "    <tr>\n",
              "      <th>38</th>\n",
              "      <td>0.96</td>\n",
              "      <td>0.86</td>\n",
              "      <td>0.64</td>\n",
              "    </tr>\n",
              "    <tr>\n",
              "      <th>42</th>\n",
              "      <td>0.60</td>\n",
              "      <td>0.77</td>\n",
              "      <td>0.71</td>\n",
              "    </tr>\n",
              "    <tr>\n",
              "      <th>43</th>\n",
              "      <td>0.31</td>\n",
              "      <td>0.77</td>\n",
              "      <td>0.66</td>\n",
              "    </tr>\n",
              "    <tr>\n",
              "      <th>47</th>\n",
              "      <td>0.59</td>\n",
              "      <td>0.65</td>\n",
              "      <td>0.69</td>\n",
              "    </tr>\n",
              "    <tr>\n",
              "      <th>51</th>\n",
              "      <td>0.03</td>\n",
              "      <td>0.28</td>\n",
              "      <td>0.82</td>\n",
              "    </tr>\n",
              "    <tr>\n",
              "      <th>52</th>\n",
              "      <td>0.72</td>\n",
              "      <td>0.65</td>\n",
              "      <td>0.84</td>\n",
              "    </tr>\n",
              "    <tr>\n",
              "      <th>53</th>\n",
              "      <td>0.41</td>\n",
              "      <td>0.65</td>\n",
              "      <td>0.73</td>\n",
              "    </tr>\n",
              "    <tr>\n",
              "      <th>54</th>\n",
              "      <td>0.99</td>\n",
              "      <td>0.65</td>\n",
              "      <td>0.73</td>\n",
              "    </tr>\n",
              "    <tr>\n",
              "      <th>56</th>\n",
              "      <td>0.86</td>\n",
              "      <td>0.86</td>\n",
              "      <td>0.66</td>\n",
              "    </tr>\n",
              "    <tr>\n",
              "      <th>60</th>\n",
              "      <td>0.94</td>\n",
              "      <td>0.22</td>\n",
              "      <td>0.63</td>\n",
              "    </tr>\n",
              "    <tr>\n",
              "      <th>64</th>\n",
              "      <td>0.55</td>\n",
              "      <td>0.65</td>\n",
              "      <td>0.77</td>\n",
              "    </tr>\n",
              "    <tr>\n",
              "      <th>65</th>\n",
              "      <td>0.60</td>\n",
              "      <td>0.65</td>\n",
              "      <td>0.60</td>\n",
              "    </tr>\n",
              "    <tr>\n",
              "      <th>66</th>\n",
              "      <td>0.07</td>\n",
              "      <td>0.12</td>\n",
              "      <td>0.60</td>\n",
              "    </tr>\n",
              "    <tr>\n",
              "      <th>68</th>\n",
              "      <td>0.15</td>\n",
              "      <td>0.22</td>\n",
              "      <td>0.67</td>\n",
              "    </tr>\n",
              "    <tr>\n",
              "      <th>79</th>\n",
              "      <td>0.55</td>\n",
              "      <td>0.91</td>\n",
              "      <td>0.82</td>\n",
              "    </tr>\n",
              "  </tbody>\n",
              "</table>\n",
              "</div>"
            ],
            "text/plain": [
              "    sugarpercent  pricepercent  winpercent\n",
              "0           0.73          0.86        0.67\n",
              "1           0.60          0.51        0.68\n",
              "23          0.43          0.92        0.62\n",
              "28          0.31          0.51        0.77\n",
              "32          0.82          0.65        0.71\n",
              "33          0.82          0.65        0.67\n",
              "36          0.60          0.65        0.73\n",
              "37          0.73          0.44        0.61\n",
              "38          0.96          0.86        0.64\n",
              "42          0.60          0.77        0.71\n",
              "43          0.31          0.77        0.66\n",
              "47          0.59          0.65        0.69\n",
              "51          0.03          0.28        0.82\n",
              "52          0.72          0.65        0.84\n",
              "53          0.41          0.65        0.73\n",
              "54          0.99          0.65        0.73\n",
              "56          0.86          0.86        0.66\n",
              "60          0.94          0.22        0.63\n",
              "64          0.55          0.65        0.77\n",
              "65          0.60          0.65        0.60\n",
              "66          0.07          0.12        0.60\n",
              "68          0.15          0.22        0.67\n",
              "79          0.55          0.91        0.82"
            ]
          },
          "metadata": {
            "tags": []
          },
          "execution_count": 403
        }
      ]
    },
    {
      "cell_type": "code",
      "metadata": {
        "colab": {
          "base_uri": "https://localhost:8080/",
          "height": 355
        },
        "id": "NlqkTjfvi7cG",
        "outputId": "f8b77248-3714-44b3-acb2-e1849e93ef5a"
      },
      "source": [
        "types_percent.hist(bins=15, color='steelblue', edgecolor='black', linewidth=1.0,\r\n",
        "           xlabelsize=10, ylabelsize=10, grid=False)    \r\n",
        "plt.tight_layout(rect=(0, 0, 1.2, 1.2))  \r\n",
        "# graphical representation of frequency of percent values on y axis and different percent values present on x axis"
      ],
      "execution_count": 404,
      "outputs": [
        {
          "output_type": "display_data",
          "data": {
            "image/png": "[encoded data removed]",
            "text/plain": [
              "<Figure size 432x288 with 4 Axes>"
            ]
          },
          "metadata": {
            "tags": [],
            "needs_background": "light"
          }
        }
      ]
    },
    {
      "cell_type": "code",
      "metadata": {
        "colab": {
          "base_uri": "https://localhost:8080/",
          "height": 285
        },
        "id": "s2H17fwVl7d2",
        "outputId": "f576c3b7-d9f2-4ca6-cdf6-7706bb6ee553"
      },
      "source": [
        "types_percent.plot.bar(stacked = True)\r\n",
        "plt.legend(loc='upper left', bbox_to_anchor=(1,1)) \r\n"
      ],
      "execution_count": 405,
      "outputs": [
        {
          "output_type": "execute_result",
          "data": {
            "text/plain": [
              "<matplotlib.legend.Legend at 0x7ff3bb810400>"
            ]
          },
          "metadata": {
            "tags": []
          },
          "execution_count": 405
        },
        {
          "output_type": "display_data",
          "data": {
            "image/png": "[encoded data removed]",
            "text/plain": [
              "<Figure size 432x288 with 1 Axes>"
            ]
          },
          "metadata": {
            "tags": [],
            "needs_background": "light"
          }
        }
      ]
    },
    {
      "cell_type": "markdown",
      "metadata": {
        "id": "aWJrYOKL_qUy"
      },
      "source": [
        "Tells us about the proportions of percentage values in each individual competitor of the list of high winpercent competitors. We can observe that in most of the cases those with more win percent also have more price percent. But almost all with more win percent have more sugars in them as well."
      ]
    },
    {
      "cell_type": "markdown",
      "metadata": {
        "id": "5VEHBB6fJjMd"
      },
      "source": [
        "***Univariate Analysis***"
      ]
    },
    {
      "cell_type": "code",
      "metadata": {
        "colab": {
          "base_uri": "https://localhost:8080/",
          "height": 346
        },
        "id": "J2_6k01QKsTB",
        "outputId": "57210f8e-ffec-4ea7-b416-a278c8e7260b"
      },
      "source": [
        "sns.boxplot(x=\"chocolate\", y=\"winpercent\", data=pick_high).set_title('Effect of presence of Chocolate on Win Percent')\r\n",
        "plt.show()\r\n",
        "brand_choc = pick_high.chocolate.value_counts()\r\n",
        "brand_choc[brand_choc>1]    \r\n",
        "#Seaborn is a Python data visualization library based on matplotlib. It provides a high-level interface for drawing attractive and informative statistical graphics. \r\n",
        "print(brand_choc)"
      ],
      "execution_count": 406,
      "outputs": [
        {
          "output_type": "display_data",
          "data": {
            "image/png": "[encoded data removed]",
            "text/plain": [
              "<Figure size 432x288 with 1 Axes>"
            ]
          },
          "metadata": {
            "tags": [],
            "needs_background": "light"
          }
        },
        {
          "output_type": "stream",
          "text": [
            "1    20\n",
            "0     3\n",
            "Name: chocolate, dtype: int64\n"
          ],
          "name": "stdout"
        }
      ]
    },
    {
      "cell_type": "markdown",
      "metadata": {
        "id": "NLVzG145aLyB"
      },
      "source": [
        "This shows that more than 50% quartile of candies have Chocolate and it contributues to upto 70% of win percent when compared to without chocolate.\r\n",
        "\r\n",
        "---Quartiles tell us about the spread of a data set by breaking the data set into quarters, just like the median breaks it in half. ... "
      ]
    },
    {
      "cell_type": "code",
      "metadata": {
        "colab": {
          "base_uri": "https://localhost:8080/",
          "height": 346
        },
        "id": "b82kA3cuT5PI",
        "outputId": "d095c10a-32b8-4ec3-d0c7-30d7368eae08"
      },
      "source": [
        "sns.boxplot(x=\"fruity\", y=\"winpercent\", data=pick_high).set_title('Effect of presence of Fruit flavour on Win Percent')\r\n",
        "plt.show()\r\n",
        "brand_choc = pick_high.fruity.value_counts()\r\n",
        "brand_choc[brand_choc>1]\r\n",
        "print(brand_choc)"
      ],
      "execution_count": 407,
      "outputs": [
        {
          "output_type": "display_data",
          "data": {
            "image/png": "[encoded data removed]",
            "text/plain": [
              "<Figure size 432x288 with 1 Axes>"
            ]
          },
          "metadata": {
            "tags": [],
            "needs_background": "light"
          }
        },
        {
          "output_type": "stream",
          "text": [
            "0    20\n",
            "1     3\n",
            "Name: fruity, dtype: int64\n"
          ],
          "name": "stdout"
        }
      ]
    },
    {
      "cell_type": "markdown",
      "metadata": {
        "id": "Nx18cJfBbb5S"
      },
      "source": [
        "This shows that upto 50% quartile of candies not containing fruit flavour contributues to upto 70% of win percent when compared to containing fruit flavour."
      ]
    },
    {
      "cell_type": "code",
      "metadata": {
        "colab": {
          "base_uri": "https://localhost:8080/",
          "height": 346
        },
        "id": "Dz3Dn2ROUG9g",
        "outputId": "d9b577eb-2eea-46ef-869d-d55544d2e2ed"
      },
      "source": [
        "sns.boxplot(x=\"caramel\", y=\"winpercent\", data=pick_high).set_title('Effect of presence of Caramel on Win Percent')\r\n",
        "plt.show()\r\n",
        "brand_choc = pick_high.caramel.value_counts()\r\n",
        "brand_choc[brand_choc>1]\r\n",
        "print(brand_choc)"
      ],
      "execution_count": 408,
      "outputs": [
        {
          "output_type": "display_data",
          "data": {
            "image/png": "[encoded data removed]",
            "text/plain": [
              "<Figure size 432x288 with 1 Axes>"
            ]
          },
          "metadata": {
            "tags": [],
            "needs_background": "light"
          }
        },
        {
          "output_type": "stream",
          "text": [
            "0    15\n",
            "1     8\n",
            "Name: caramel, dtype: int64\n"
          ],
          "name": "stdout"
        }
      ]
    },
    {
      "cell_type": "markdown",
      "metadata": {
        "id": "K4alurFdcRXF"
      },
      "source": [
        "This shows that nearly upto 50% quartile of candies 'not' having caramel contributues to nearly 70% of win percent when compared to having caramel."
      ]
    },
    {
      "cell_type": "code",
      "metadata": {
        "colab": {
          "base_uri": "https://localhost:8080/",
          "height": 346
        },
        "id": "pn3OqhoydKLV",
        "outputId": "f06631c5-4590-4949-d4bf-9e1d6589ee94"
      },
      "source": [
        "sns.boxplot(x=\"peanutyalmondy\", y=\"winpercent\", data=pick_high).set_title('Effect of presence of Peanuts and/or Almonds on Win Percent')\r\n",
        "plt.show()\r\n",
        "brand_choc = pick_high.peanutyalmondy.value_counts()\r\n",
        "brand_choc[brand_choc>1]\r\n",
        "print(brand_choc)"
      ],
      "execution_count": 409,
      "outputs": [
        {
          "output_type": "display_data",
          "data": {
            "image/png": "[encoded data removed]",
            "text/plain": [
              "<Figure size 432x288 with 1 Axes>"
            ]
          },
          "metadata": {
            "tags": [],
            "needs_background": "light"
          }
        },
        {
          "output_type": "stream",
          "text": [
            "0    14\n",
            "1     9\n",
            "Name: peanutyalmondy, dtype: int64\n"
          ],
          "name": "stdout"
        }
      ]
    },
    {
      "cell_type": "markdown",
      "metadata": {
        "id": "WFiYFpUgdZ9V"
      },
      "source": [
        "This shows that upto 50% quartile of the candies not having peanuts and/or almonds contributes to nearly 70% of win percent."
      ]
    },
    {
      "cell_type": "code",
      "metadata": {
        "colab": {
          "base_uri": "https://localhost:8080/",
          "height": 346
        },
        "id": "G7Qo4AkV2DuM",
        "outputId": "9f5d0ca2-3d99-4681-edf4-fa17f9bc16ea"
      },
      "source": [
        "sns.boxplot(x=\"nougat\", y=\"winpercent\", data=pick_high).set_title('Effect of presence of nougat on Win Percent')\r\n",
        "plt.show() # also with reference to value counts in nougat\r\n",
        "\r\n",
        "brand_choc = pick_high.nougat.value_counts()\r\n",
        "brand_choc[brand_choc>1]\r\n",
        "print(brand_choc)"
      ],
      "execution_count": 410,
      "outputs": [
        {
          "output_type": "display_data",
          "data": {
            "image/png": "[encoded data removed]",
            "text/plain": [
              "<Figure size 432x288 with 1 Axes>"
            ]
          },
          "metadata": {
            "tags": [],
            "needs_background": "light"
          }
        },
        {
          "output_type": "stream",
          "text": [
            "0    19\n",
            "1     4\n",
            "Name: nougat, dtype: int64\n"
          ],
          "name": "stdout"
        }
      ]
    },
    {
      "cell_type": "markdown",
      "metadata": {
        "id": "IfglX3qi2jiL"
      },
      "source": [
        "\r\n",
        "\r\n",
        "This shows that more percent quartile of candies having no nougat contributes to a higher winning percent than having nougat\r\n",
        "\r\n"
      ]
    },
    {
      "cell_type": "code",
      "metadata": {
        "colab": {
          "base_uri": "https://localhost:8080/",
          "height": 346
        },
        "id": "bXEukFNs4UGE",
        "outputId": "433bac2d-8d66-4fa8-eb08-bde0ca82da33"
      },
      "source": [
        "sns.boxplot(x=\"crispedricewafer\", y=\"winpercent\", data=pick_high).set_title('Effect of presence of crispedricewafer on Win Percent')\r\n",
        "plt.show()\r\n",
        "brand_choc = pick_high.crispedricewafer.value_counts()\r\n",
        "brand_choc[brand_choc>1]\r\n",
        "print(brand_choc)"
      ],
      "execution_count": 411,
      "outputs": [
        {
          "output_type": "display_data",
          "data": {
            "image/png": "[encoded data removed]",
            "text/plain": [
              "<Figure size 432x288 with 1 Axes>"
            ]
          },
          "metadata": {
            "tags": [],
            "needs_background": "light"
          }
        },
        {
          "output_type": "stream",
          "text": [
            "0    17\n",
            "1     6\n",
            "Name: crispedricewafer, dtype: int64\n"
          ],
          "name": "stdout"
        }
      ]
    },
    {
      "cell_type": "markdown",
      "metadata": {
        "id": "8aOpxKVJ509u"
      },
      "source": [
        "\r\n",
        "This shows that upto 50% quartile of candies not having crispedricewafer contributes to a higher win percent of nearly 70% when compared to having crispedricewafer"
      ]
    },
    {
      "cell_type": "code",
      "metadata": {
        "colab": {
          "base_uri": "https://localhost:8080/",
          "height": 329
        },
        "id": "5I0hvCHh4eg4",
        "outputId": "60f8c94a-d32a-456d-a666-9cbe3537c915"
      },
      "source": [
        "sns.boxplot(x=\"hard\", y=\"winpercent\", data=pick_high).set_title('Effect of Candy being hard on Win Percent')\r\n",
        "plt.show()\r\n",
        "brand_choc = pick_high.hard.value_counts()\r\n",
        "brand_choc[brand_choc>1]\r\n",
        "print(brand_choc)"
      ],
      "execution_count": 412,
      "outputs": [
        {
          "output_type": "display_data",
          "data": {
            "image/png": "[encoded data removed]",
            "text/plain": [
              "<Figure size 432x288 with 1 Axes>"
            ]
          },
          "metadata": {
            "tags": [],
            "needs_background": "light"
          }
        },
        {
          "output_type": "stream",
          "text": [
            "0    23\n",
            "Name: hard, dtype: int64\n"
          ],
          "name": "stdout"
        }
      ]
    },
    {
      "cell_type": "markdown",
      "metadata": {
        "id": "009aVJmG7e0j"
      },
      "source": [
        "This cleary shows that to get a good win percent its not suggestible to produce hard type of candies as they are not much preferred."
      ]
    },
    {
      "cell_type": "code",
      "metadata": {
        "colab": {
          "base_uri": "https://localhost:8080/",
          "height": 346
        },
        "id": "wqMNlvDqWSsK",
        "outputId": "7333bc5b-52cc-40ec-b510-aaa3207905f7"
      },
      "source": [
        "sns.boxplot(x=\"bar\", y=\"winpercent\", data=pick_high).set_title('Effect of candy being bar on Win Percent')\r\n",
        "plt.show()\r\n",
        "brand_choc = pick_high.bar.value_counts()\r\n",
        "brand_choc[brand_choc>1]\r\n",
        "print(brand_choc)"
      ],
      "execution_count": 413,
      "outputs": [
        {
          "output_type": "display_data",
          "data": {
            "image/png": "[encoded data removed]",
            "text/plain": [
              "<Figure size 432x288 with 1 Axes>"
            ]
          },
          "metadata": {
            "tags": [],
            "needs_background": "light"
          }
        },
        {
          "output_type": "stream",
          "text": [
            "1    12\n",
            "0    11\n",
            "Name: bar, dtype: int64\n"
          ],
          "name": "stdout"
        }
      ]
    },
    {
      "cell_type": "markdown",
      "metadata": {
        "id": "lkXE3yHyXC-F"
      },
      "source": [
        "This shows that upto 50% quartile of candies being 'not' bar contributes to a slightly higher win percent than being bar i.e., upto nearly 70%. So, bar type candy production can not be overlooked as it can be preffered as much as it may not be"
      ]
    },
    {
      "cell_type": "code",
      "metadata": {
        "colab": {
          "base_uri": "https://localhost:8080/",
          "height": 346
        },
        "id": "IZ4zL7TH4lBk",
        "outputId": "6da4a606-5e02-4c0e-90b9-b8d64944ae73"
      },
      "source": [
        "sns.boxplot(x=\"pluribus\", y=\"winpercent\", data=pick_high).set_title('Effect of Pluribus on Winpercent')\r\n",
        "plt.show()\r\n",
        "brand_choc = pick_high.pluribus.value_counts()\r\n",
        "brand_choc[brand_choc>1]\r\n",
        "print(brand_choc)"
      ],
      "execution_count": 414,
      "outputs": [
        {
          "output_type": "display_data",
          "data": {
            "image/png": "[encoded data removed]",
            "text/plain": [
              "<Figure size 432x288 with 1 Axes>"
            ]
          },
          "metadata": {
            "tags": [],
            "needs_background": "light"
          }
        },
        {
          "output_type": "stream",
          "text": [
            "0    15\n",
            "1     8\n",
            "Name: pluribus, dtype: int64\n"
          ],
          "name": "stdout"
        }
      ]
    },
    {
      "cell_type": "markdown",
      "metadata": {
        "id": "SQJPkOXO7_C3"
      },
      "source": [
        "This shows that upto 50% quartile of not pluribus type production contributes to more than 70% of win percent when compared to being pluribus."
      ]
    },
    {
      "cell_type": "markdown",
      "metadata": {
        "id": "YF_wE5_u9KfP"
      },
      "source": [
        "In all the above box plots, 50% quartile of candies with presence of certain flavour is generally preffered in order to have a common criteria for comparision and better understanding of influence of a flavour presence/absence on win percent."
      ]
    },
    {
      "cell_type": "markdown",
      "metadata": {
        "id": "MPZp1oh0UeTa"
      },
      "source": [
        "***Bivariate Analysis***"
      ]
    },
    {
      "cell_type": "code",
      "metadata": {
        "colab": {
          "base_uri": "https://localhost:8080/",
          "height": 297
        },
        "id": "f3l50NHxdV0G",
        "outputId": "3a54519a-c804-45f2-b030-37bf33dc7c37"
      },
      "source": [
        "sns.jointplot( x= 'sugarpercent', y= 'winpercent',hue = 'chocolate',kind = 'scatter', height = 4, data = pick_high)\r\n",
        "plt.show()\r\n"
      ],
      "execution_count": 415,
      "outputs": [
        {
          "output_type": "display_data",
          "data": {
            "image/png": "[encoded data removed]",
            "text/plain": [
              "<Figure size 288x288 with 3 Axes>"
            ]
          },
          "metadata": {
            "tags": [],
            "needs_background": "light"
          }
        }
      ]
    },
    {
      "cell_type": "markdown",
      "metadata": {
        "id": "YHqLOeudMy5o"
      },
      "source": [
        "chocolate in candy with sugar percent to more than 50% leads to mostly around 70 % of winpercent"
      ]
    },
    {
      "cell_type": "code",
      "metadata": {
        "colab": {
          "base_uri": "https://localhost:8080/",
          "height": 297
        },
        "id": "5tZKnE5J9wRh",
        "outputId": "ad09e1fd-34c4-4b19-f662-c3ac3ff69336"
      },
      "source": [
        "sns.jointplot( x= 'sugarpercent', y= 'winpercent',hue = 'fruity',kind = 'scatter', height = 4, data = pick_high)\r\n",
        "plt.show()"
      ],
      "execution_count": 416,
      "outputs": [
        {
          "output_type": "display_data",
          "data": {
            "image/png": "[encoded data removed]",
            "text/plain": [
              "<Figure size 288x288 with 3 Axes>"
            ]
          },
          "metadata": {
            "tags": [],
            "needs_background": "light"
          }
        }
      ]
    },
    {
      "cell_type": "markdown",
      "metadata": {
        "id": "GQhxDu0uNK0U"
      },
      "source": [
        "\r\n",
        "No fruit flavour in candy with sugar percent to more than 50% leads to mostly around 70 % of winpercent\r\n",
        "\r\n"
      ]
    },
    {
      "cell_type": "code",
      "metadata": {
        "colab": {
          "base_uri": "https://localhost:8080/",
          "height": 297
        },
        "id": "bi939aX19wJp",
        "outputId": "ad8f94d8-b3b5-43f6-b0af-3fd4c3c2f3fd"
      },
      "source": [
        "sns.jointplot( x= 'sugarpercent', y= 'winpercent',hue = 'caramel',kind = 'scatter', height = 4, data = pick_high)\r\n",
        "plt.show()"
      ],
      "execution_count": 417,
      "outputs": [
        {
          "output_type": "display_data",
          "data": {
            "image/png": "[encoded data removed]",
            "text/plain": [
              "<Figure size 288x288 with 3 Axes>"
            ]
          },
          "metadata": {
            "tags": [],
            "needs_background": "light"
          }
        }
      ]
    },
    {
      "cell_type": "markdown",
      "metadata": {
        "id": "cBXcnvKLNfUN"
      },
      "source": [
        "Mostly, no caramel in candy with sugar percent to more than 50% leads to mostly around 70 % of winpercent"
      ]
    },
    {
      "cell_type": "code",
      "metadata": {
        "colab": {
          "base_uri": "https://localhost:8080/",
          "height": 297
        },
        "id": "fo4XCVSG9wCa",
        "outputId": "731f562a-1366-462e-f932-34c7c68bf5c7"
      },
      "source": [
        "sns.jointplot( x= 'sugarpercent', y= 'winpercent',hue = 'peanutyalmondy',kind = 'scatter', height = 4, data = pick_high) \r\n",
        "plt.show()"
      ],
      "execution_count": 418,
      "outputs": [
        {
          "output_type": "display_data",
          "data": {
            "image/png": "[encoded data removed]",
            "text/plain": [
              "<Figure size 288x288 with 3 Axes>"
            ]
          },
          "metadata": {
            "tags": [],
            "needs_background": "light"
          }
        }
      ]
    },
    {
      "cell_type": "markdown",
      "metadata": {
        "id": "DNoRv8Z9OCyu"
      },
      "source": [
        "No peanuts and/ or almonds in candy with sugar percent to more than 50% leads to less than 70 % of winpercent"
      ]
    },
    {
      "cell_type": "code",
      "metadata": {
        "colab": {
          "base_uri": "https://localhost:8080/",
          "height": 297
        },
        "id": "WE9fR4_z9v22",
        "outputId": "807f2dbb-d9be-4fe0-af13-bb065c560582"
      },
      "source": [
        "sns.jointplot( x= 'sugarpercent', y= 'winpercent',hue = 'nougat',kind = 'scatter', height = 4, data = pick_high) \r\n",
        "plt.show()"
      ],
      "execution_count": 419,
      "outputs": [
        {
          "output_type": "display_data",
          "data": {
            "image/png": "[encoded data removed]",
            "text/plain": [
              "<Figure size 288x288 with 3 Axes>"
            ]
          },
          "metadata": {
            "tags": [],
            "needs_background": "light"
          }
        }
      ]
    },
    {
      "cell_type": "markdown",
      "metadata": {
        "id": "aSY3Ko-POfAG"
      },
      "source": [
        "Mostly on the whole, absence of nougat in candy with sugar percent to more than 50% leads to mostly around 70 % of winpercent when compared having nougat"
      ]
    },
    {
      "cell_type": "code",
      "metadata": {
        "colab": {
          "base_uri": "https://localhost:8080/",
          "height": 297
        },
        "id": "XdDCq5n49vuR",
        "outputId": "e3344b2f-03b5-48de-87e8-ee3f1a990add"
      },
      "source": [
        "sns.jointplot( x= 'sugarpercent', y= 'winpercent',hue = 'crispedricewafer',kind = 'scatter', height = 4, data = pick_high)\r\n",
        "plt.show()"
      ],
      "execution_count": 420,
      "outputs": [
        {
          "output_type": "display_data",
          "data": {
            "image/png": "[encoded data removed]",
            "text/plain": [
              "<Figure size 288x288 with 3 Axes>"
            ]
          },
          "metadata": {
            "tags": [],
            "needs_background": "light"
          }
        }
      ]
    },
    {
      "cell_type": "markdown",
      "metadata": {
        "id": "ha06t-SGPPZ2"
      },
      "source": [
        "Not being crispedricewafer type of candy with sugar percent to more than 50% leads to mostly around 70 % of winpercent"
      ]
    },
    {
      "cell_type": "code",
      "metadata": {
        "colab": {
          "base_uri": "https://localhost:8080/",
          "height": 297
        },
        "id": "qHZhyjJI9vl1",
        "outputId": "55e60b48-57c1-4715-8c36-5979ecba532b"
      },
      "source": [
        "sns.jointplot( x= 'sugarpercent', y= 'winpercent',hue = 'hard',kind = 'scatter', height = 4, data = pick_high) \r\n",
        "plt.show()"
      ],
      "execution_count": 421,
      "outputs": [
        {
          "output_type": "display_data",
          "data": {
            "image/png": "[encoded data removed]",
            "text/plain": [
              "<Figure size 288x288 with 3 Axes>"
            ]
          },
          "metadata": {
            "tags": [],
            "needs_background": "light"
          }
        }
      ]
    },
    {
      "cell_type": "markdown",
      "metadata": {
        "id": "iMVjR_IaQMXE"
      },
      "source": [
        "Clearly, not being hard leads to around 70% and more win percent."
      ]
    },
    {
      "cell_type": "code",
      "metadata": {
        "colab": {
          "base_uri": "https://localhost:8080/",
          "height": 297
        },
        "id": "cjZhKQPK9vdk",
        "outputId": "5dc989c9-00fe-4d97-e3e9-a01fdaf4a2e2"
      },
      "source": [
        "sns.jointplot( x= 'sugarpercent', y= 'winpercent',hue = 'bar',kind = 'scatter', height = 4, data = pick_high) \r\n",
        "plt.show()"
      ],
      "execution_count": 422,
      "outputs": [
        {
          "output_type": "display_data",
          "data": {
            "image/png": "[encoded data removed]",
            "text/plain": [
              "<Figure size 288x288 with 3 Axes>"
            ]
          },
          "metadata": {
            "tags": [],
            "needs_background": "light"
          }
        }
      ]
    },
    {
      "cell_type": "markdown",
      "metadata": {
        "id": "NPCE9mOmQhxA"
      },
      "source": [
        "Being bar candy with sugar percent to more than 50% leads to mostly in between 60 to 70% of winpercent"
      ]
    },
    {
      "cell_type": "code",
      "metadata": {
        "colab": {
          "base_uri": "https://localhost:8080/",
          "height": 297
        },
        "id": "LYCTw6Gy9vOF",
        "outputId": "fff9f4f3-fb61-482e-a856-577147d45289"
      },
      "source": [
        "sns.jointplot( x= 'sugarpercent', y= 'winpercent',hue = 'pluribus',kind = 'scatter', height = 4, data = pick_high) \r\n",
        "plt.show()"
      ],
      "execution_count": 423,
      "outputs": [
        {
          "output_type": "display_data",
          "data": {
            "image/png": "[encoded data removed]",
            "text/plain": [
              "<Figure size 288x288 with 3 Axes>"
            ]
          },
          "metadata": {
            "tags": [],
            "needs_background": "light"
          }
        }
      ]
    },
    {
      "cell_type": "markdown",
      "metadata": {
        "id": "GUKg3rspQwNB"
      },
      "source": [
        "Being a pluribus with sugar percent to more than 50% leads to sharply around 70 % of winpercent"
      ]
    },
    {
      "cell_type": "code",
      "metadata": {
        "colab": {
          "base_uri": "https://localhost:8080/",
          "height": 299
        },
        "id": "u6lpN97KsGTV",
        "outputId": "50bdd211-f3ee-4962-89b6-8d16bd15a073"
      },
      "source": [
        "x= pick_high.sugarpercent\r\n",
        "y= pick_high.winpercent\r\n",
        "x_p = pick_high.pricepercent\r\n",
        "\r\n",
        "plt.subplot(1,2,1)\r\n",
        "plt.plot(x,y,'g*', data = pick_high)\r\n",
        "plt.xlabel('sugarpercent')\r\n",
        "plt.ylabel('winpercent')\r\n",
        "plt.subplot(1,2,2)\r\n",
        "plt.plot(x_p,y,'r+', data = pick_high)\r\n",
        "plt.xlabel('pricepercent')\r\n",
        "\r\n"
      ],
      "execution_count": 424,
      "outputs": [
        {
          "output_type": "execute_result",
          "data": {
            "text/plain": [
              "Text(0.5, 0, 'pricepercent')"
            ]
          },
          "metadata": {
            "tags": []
          },
          "execution_count": 424
        },
        {
          "output_type": "display_data",
          "data": {
            "image/png": "[encoded data removed]",
            "text/plain": [
              "<Figure size 432x288 with 2 Axes>"
            ]
          },
          "metadata": {
            "tags": [],
            "needs_background": "light"
          }
        }
      ]
    },
    {
      "cell_type": "markdown",
      "metadata": {
        "id": "EkT7O-gdRRJr"
      },
      "source": [
        "Kind of a cluster of points in both plots say that with sugar percent more than 60% upto 80% and price percent around 60 to 70% contributes to approximately 68 to 74% of win percent."
      ]
    },
    {
      "cell_type": "code",
      "metadata": {
        "colab": {
          "base_uri": "https://localhost:8080/",
          "height": 314
        },
        "id": "PJpw4EinlLoh",
        "outputId": "8e6aa60d-40c3-45a8-e58d-7a1556bdbaab"
      },
      "source": [
        "sns.jointplot( x= 'sugarpercent', y= 'winpercent',kind = 'reg', height = 4, data = pick_high)\r\n"
      ],
      "execution_count": 425,
      "outputs": [
        {
          "output_type": "execute_result",
          "data": {
            "text/plain": [
              "<seaborn.axisgrid.JointGrid at 0x7ff3bcfe4f28>"
            ]
          },
          "metadata": {
            "tags": []
          },
          "execution_count": 425
        },
        {
          "output_type": "display_data",
          "data": {
            "image/png": "[encoded data removed]",
            "text/plain": [
              "<Figure size 288x288 with 3 Axes>"
            ]
          },
          "metadata": {
            "tags": [],
            "needs_background": "light"
          }
        }
      ]
    },
    {
      "cell_type": "markdown",
      "metadata": {
        "id": "GgDmo7COIpuH"
      },
      "source": [
        "This plot tells us that main chance of achieving win percent to upto 65 to 70% is when sugarpercent is around 60%"
      ]
    },
    {
      "cell_type": "code",
      "metadata": {
        "colab": {
          "base_uri": "https://localhost:8080/",
          "height": 297
        },
        "id": "ayNJHguXYI6a",
        "outputId": "22fa121e-004e-4b1d-a41f-65cc43edff4c"
      },
      "source": [
        "sns.jointplot( x= 'pricepercent', y= 'sugarpercent',kind = 'reg', height = 4, data = pick_high)\r\n",
        "plt.show()"
      ],
      "execution_count": 426,
      "outputs": [
        {
          "output_type": "display_data",
          "data": {
            "image/png": "[encoded data removed]",
            "text/plain": [
              "<Figure size 288x288 with 3 Axes>"
            ]
          },
          "metadata": {
            "tags": [],
            "needs_background": "light"
          }
        }
      ]
    },
    {
      "cell_type": "markdown",
      "metadata": {
        "id": "Y4PIMhO0YUWK"
      },
      "source": [
        "Price percent of around 50-60% has sugar percent of around 55-65%"
      ]
    },
    {
      "cell_type": "code",
      "metadata": {
        "colab": {
          "base_uri": "https://localhost:8080/",
          "height": 297
        },
        "id": "NXg8OYnpt58S",
        "outputId": "0aad6f4b-47e3-4c3c-f22f-1fdef72419ed"
      },
      "source": [
        "sns.jointplot( x= 'pricepercent', y= 'winpercent',kind = 'reg', height = 4, data = pick_high)\r\n",
        "plt.show()"
      ],
      "execution_count": 427,
      "outputs": [
        {
          "output_type": "display_data",
          "data": {
            "image/png": "[encoded data removed]",
            "text/plain": [
              "<Figure size 288x288 with 3 Axes>"
            ]
          },
          "metadata": {
            "tags": [],
            "needs_background": "light"
          }
        }
      ]
    },
    {
      "cell_type": "markdown",
      "metadata": {
        "id": "dVrhEWdBua-d"
      },
      "source": [
        "This plot tells us that main chance of achieving win percent to upto 65 to 73% is when pricepercent is around 60 to 65%"
      ]
    },
    {
      "cell_type": "code",
      "metadata": {
        "colab": {
          "base_uri": "https://localhost:8080/",
          "height": 717
        },
        "id": "0EYXO18RAZgv",
        "outputId": "0b45fe27-cfd8-46fd-802c-9b4eff2a2d9f"
      },
      "source": [
        "import plotly.express as px   #used for highly interactice plots and rapid plotting and figure making\r\n",
        "#import plotly.io as pio  #supporting low level interface for displaying reading and writing figures\r\n",
        " \r\n",
        "fig = px.scatter_3d(data_frame = pick_high, x = 'pricepercent', y = 'winpercent',z = 'sugarpercent',color_discrete_sequence= ['magenta','green'], template = 'ggplot2',height = 700)\r\n",
        "pio.show(fig)\r\n"
      ],
      "execution_count": 454,
      "outputs": [
        {
          "output_type": "display_data",
          "data": {
            "text/html": [
              "<html>\n",
              "<head><meta charset=\"utf-8\" /></head>\n",
              "<body>\n",
              "    <div>\n",
              "            <script src=\"https://cdnjs.cloudflare.com/ajax/libs/mathjax/2.7.5/MathJax.js?config=TeX-AMS-MML_SVG\"></script><script type=\"text/javascript\">if (window.MathJax) {MathJax.Hub.Config({SVG: {font: \"STIX-Web\"}});}</script>\n",
              "                <script type=\"text/javascript\">window.PlotlyConfig = {MathJaxConfig: 'local'};</script>\n",
              "        <script src=\"https://cdn.plot.ly/plotly-latest.min.js\"></script>    \n",
              "            <div id=\"4ed47479-4151-4677-965a-f61a2b5ff233\" class=\"plotly-graph-div\" style=\"height:700px; width:100%;\"></div>\n",
              "            <script type=\"text/javascript\">\n",
              "                \n",
              "                    window.PLOTLYENV=window.PLOTLYENV || {};\n",
              "                    \n",
              "                if (document.getElementById(\"4ed47479-4151-4677-965a-f61a2b5ff233\")) {\n",
              "                    Plotly.newPlot(\n",
              "                        '4ed47479-4151-4677-965a-f61a2b5ff233',\n",
              "                        [{\"hoverlabel\": {\"namelength\": 0}, \"hovertemplate\": \"pricepercent=%{x}<br>winpercent=%{y}<br>sugarpercent=%{z}\", \"legendgroup\": \"\", \"marker\": {\"color\": \"magenta\", \"symbol\": \"circle\"}, \"mode\": \"markers\", \"name\": \"\", \"scene\": \"scene\", \"showlegend\": false, \"type\": \"scatter3d\", \"x\": [0.86, 0.51, 0.92, 0.51, 0.65, 0.65, 0.65, 0.44, 0.86, 0.77, 0.77, 0.65, 0.28, 0.65, 0.65, 0.65, 0.86, 0.22, 0.65, 0.65, 0.12, 0.22, 0.91], \"y\": [0.67, 0.68, 0.62, 0.77, 0.71, 0.67, 0.73, 0.61, 0.64, 0.71, 0.66, 0.69, 0.82, 0.84, 0.73, 0.73, 0.66, 0.63, 0.77, 0.6, 0.6, 0.67, 0.82], \"z\": [0.73, 0.6, 0.43, 0.31, 0.82, 0.82, 0.6, 0.73, 0.96, 0.6, 0.31, 0.59, 0.03, 0.72, 0.41, 0.99, 0.86, 0.94, 0.55, 0.6, 0.07, 0.15, 0.55]}],\n",
              "                        {\"height\": 700, \"legend\": {\"tracegroupgap\": 0}, \"margin\": {\"t\": 60}, \"scene\": {\"domain\": {\"x\": [0.0, 1.0], \"y\": [0.0, 1.0]}, \"xaxis\": {\"title\": {\"text\": \"pricepercent\"}}, \"yaxis\": {\"title\": {\"text\": \"winpercent\"}}, \"zaxis\": {\"title\": {\"text\": \"sugarpercent\"}}}, \"template\": {\"data\": {\"bar\": [{\"error_x\": {\"color\": \"rgb(51,51,51)\"}, \"error_y\": {\"color\": \"rgb(51,51,51)\"}, \"marker\": {\"line\": {\"color\": \"rgb(237,237,237)\", \"width\": 0.5}}, \"type\": \"bar\"}], \"barpolar\": [{\"marker\": {\"line\": {\"color\": \"rgb(237,237,237)\", \"width\": 0.5}}, \"type\": \"barpolar\"}], \"carpet\": [{\"aaxis\": {\"endlinecolor\": \"rgb(51,51,51)\", \"gridcolor\": \"white\", \"linecolor\": \"white\", \"minorgridcolor\": \"white\", \"startlinecolor\": \"rgb(51,51,51)\"}, \"baxis\": {\"endlinecolor\": \"rgb(51,51,51)\", \"gridcolor\": \"white\", \"linecolor\": \"white\", \"minorgridcolor\": \"white\", \"startlinecolor\": \"rgb(51,51,51)\"}, \"type\": \"carpet\"}], \"choropleth\": [{\"colorbar\": {\"outlinewidth\": 0, \"tickcolor\": \"rgb(237,237,237)\", \"ticklen\": 6, \"ticks\": \"inside\"}, \"type\": \"choropleth\"}], \"contour\": [{\"colorbar\": {\"outlinewidth\": 0, \"tickcolor\": \"rgb(237,237,237)\", \"ticklen\": 6, \"ticks\": \"inside\"}, \"colorscale\": [[0, \"rgb(20,44,66)\"], [1, \"rgb(90,179,244)\"]], \"type\": \"contour\"}], \"contourcarpet\": [{\"colorbar\": {\"outlinewidth\": 0, \"tickcolor\": \"rgb(237,237,237)\", \"ticklen\": 6, \"ticks\": \"inside\"}, \"type\": \"contourcarpet\"}], \"heatmap\": [{\"colorbar\": {\"outlinewidth\": 0, \"tickcolor\": \"rgb(237,237,237)\", \"ticklen\": 6, \"ticks\": \"inside\"}, \"colorscale\": [[0, \"rgb(20,44,66)\"], [1, \"rgb(90,179,244)\"]], \"type\": \"heatmap\"}], \"heatmapgl\": [{\"colorbar\": {\"outlinewidth\": 0, \"tickcolor\": \"rgb(237,237,237)\", \"ticklen\": 6, \"ticks\": \"inside\"}, \"colorscale\": [[0, \"rgb(20,44,66)\"], [1, \"rgb(90,179,244)\"]], \"type\": \"heatmapgl\"}], \"histogram\": [{\"marker\": {\"colorbar\": {\"outlinewidth\": 0, \"tickcolor\": \"rgb(237,237,237)\", \"ticklen\": 6, \"ticks\": \"inside\"}}, \"type\": \"histogram\"}], \"histogram2d\": [{\"colorbar\": {\"outlinewidth\": 0, \"tickcolor\": \"rgb(237,237,237)\", \"ticklen\": 6, \"ticks\": \"inside\"}, \"colorscale\": [[0, \"rgb(20,44,66)\"], [1, \"rgb(90,179,244)\"]], \"type\": \"histogram2d\"}], \"histogram2dcontour\": [{\"colorbar\": {\"outlinewidth\": 0, \"tickcolor\": \"rgb(237,237,237)\", \"ticklen\": 6, \"ticks\": \"inside\"}, \"colorscale\": [[0, \"rgb(20,44,66)\"], [1, \"rgb(90,179,244)\"]], \"type\": \"histogram2dcontour\"}], \"mesh3d\": [{\"colorbar\": {\"outlinewidth\": 0, \"tickcolor\": \"rgb(237,237,237)\", \"ticklen\": 6, \"ticks\": \"inside\"}, \"type\": \"mesh3d\"}], \"parcoords\": [{\"line\": {\"colorbar\": {\"outlinewidth\": 0, \"tickcolor\": \"rgb(237,237,237)\", \"ticklen\": 6, \"ticks\": \"inside\"}}, \"type\": \"parcoords\"}], \"pie\": [{\"automargin\": true, \"type\": \"pie\"}], \"scatter\": [{\"marker\": {\"colorbar\": {\"outlinewidth\": 0, \"tickcolor\": \"rgb(237,237,237)\", \"ticklen\": 6, \"ticks\": \"inside\"}}, \"type\": \"scatter\"}], \"scatter3d\": [{\"line\": {\"colorbar\": {\"outlinewidth\": 0, \"tickcolor\": \"rgb(237,237,237)\", \"ticklen\": 6, \"ticks\": \"inside\"}}, \"marker\": {\"colorbar\": {\"outlinewidth\": 0, \"tickcolor\": \"rgb(237,237,237)\", \"ticklen\": 6, \"ticks\": \"inside\"}}, \"type\": \"scatter3d\"}], \"scattercarpet\": [{\"marker\": {\"colorbar\": {\"outlinewidth\": 0, \"tickcolor\": \"rgb(237,237,237)\", \"ticklen\": 6, \"ticks\": \"inside\"}}, \"type\": \"scattercarpet\"}], \"scattergeo\": [{\"marker\": {\"colorbar\": {\"outlinewidth\": 0, \"tickcolor\": \"rgb(237,237,237)\", \"ticklen\": 6, \"ticks\": \"inside\"}}, \"type\": \"scattergeo\"}], \"scattergl\": [{\"marker\": {\"colorbar\": {\"outlinewidth\": 0, \"tickcolor\": \"rgb(237,237,237)\", \"ticklen\": 6, \"ticks\": \"inside\"}}, \"type\": \"scattergl\"}], \"scattermapbox\": [{\"marker\": {\"colorbar\": {\"outlinewidth\": 0, \"tickcolor\": \"rgb(237,237,237)\", \"ticklen\": 6, \"ticks\": \"inside\"}}, \"type\": \"scattermapbox\"}], \"scatterpolar\": [{\"marker\": {\"colorbar\": {\"outlinewidth\": 0, \"tickcolor\": \"rgb(237,237,237)\", \"ticklen\": 6, \"ticks\": \"inside\"}}, \"type\": \"scatterpolar\"}], \"scatterpolargl\": [{\"marker\": {\"colorbar\": {\"outlinewidth\": 0, \"tickcolor\": \"rgb(237,237,237)\", \"ticklen\": 6, \"ticks\": \"inside\"}}, \"type\": \"scatterpolargl\"}], \"scatterternary\": [{\"marker\": {\"colorbar\": {\"outlinewidth\": 0, \"tickcolor\": \"rgb(237,237,237)\", \"ticklen\": 6, \"ticks\": \"inside\"}}, \"type\": \"scatterternary\"}], \"surface\": [{\"colorbar\": {\"outlinewidth\": 0, \"tickcolor\": \"rgb(237,237,237)\", \"ticklen\": 6, \"ticks\": \"inside\"}, \"colorscale\": [[0, \"rgb(20,44,66)\"], [1, \"rgb(90,179,244)\"]], \"type\": \"surface\"}], \"table\": [{\"cells\": {\"fill\": {\"color\": \"rgb(237,237,237)\"}, \"line\": {\"color\": \"white\"}}, \"header\": {\"fill\": {\"color\": \"rgb(217,217,217)\"}, \"line\": {\"color\": \"white\"}}, \"type\": \"table\"}]}, \"layout\": {\"annotationdefaults\": {\"arrowhead\": 0, \"arrowwidth\": 1}, \"coloraxis\": {\"colorbar\": {\"outlinewidth\": 0, \"tickcolor\": \"rgb(237,237,237)\", \"ticklen\": 6, \"ticks\": \"inside\"}}, \"colorscale\": {\"sequential\": [[0, \"rgb(20,44,66)\"], [1, \"rgb(90,179,244)\"]], \"sequentialminus\": [[0, \"rgb(20,44,66)\"], [1, \"rgb(90,179,244)\"]]}, \"colorway\": [\"#F8766D\", \"#A3A500\", \"#00BF7D\", \"#00B0F6\", \"#E76BF3\"], \"font\": {\"color\": \"rgb(51,51,51)\"}, \"geo\": {\"bgcolor\": \"white\", \"lakecolor\": \"white\", \"landcolor\": \"rgb(237,237,237)\", \"showlakes\": true, \"showland\": true, \"subunitcolor\": \"white\"}, \"hoverlabel\": {\"align\": \"left\"}, \"hovermode\": \"closest\", \"paper_bgcolor\": \"white\", \"plot_bgcolor\": \"rgb(237,237,237)\", \"polar\": {\"angularaxis\": {\"gridcolor\": \"white\", \"linecolor\": \"white\", \"showgrid\": true, \"tickcolor\": \"rgb(51,51,51)\", \"ticks\": \"outside\"}, \"bgcolor\": \"rgb(237,237,237)\", \"radialaxis\": {\"gridcolor\": \"white\", \"linecolor\": \"white\", \"showgrid\": true, \"tickcolor\": \"rgb(51,51,51)\", \"ticks\": \"outside\"}}, \"scene\": {\"xaxis\": {\"backgroundcolor\": \"rgb(237,237,237)\", \"gridcolor\": \"white\", \"gridwidth\": 2, \"linecolor\": \"white\", \"showbackground\": true, \"showgrid\": true, \"tickcolor\": \"rgb(51,51,51)\", \"ticks\": \"outside\", \"zerolinecolor\": \"white\"}, \"yaxis\": {\"backgroundcolor\": \"rgb(237,237,237)\", \"gridcolor\": \"white\", \"gridwidth\": 2, \"linecolor\": \"white\", \"showbackground\": true, \"showgrid\": true, \"tickcolor\": \"rgb(51,51,51)\", \"ticks\": \"outside\", \"zerolinecolor\": \"white\"}, \"zaxis\": {\"backgroundcolor\": \"rgb(237,237,237)\", \"gridcolor\": \"white\", \"gridwidth\": 2, \"linecolor\": \"white\", \"showbackground\": true, \"showgrid\": true, \"tickcolor\": \"rgb(51,51,51)\", \"ticks\": \"outside\", \"zerolinecolor\": \"white\"}}, \"shapedefaults\": {\"fillcolor\": \"black\", \"line\": {\"width\": 0}, \"opacity\": 0.3}, \"ternary\": {\"aaxis\": {\"gridcolor\": \"white\", \"linecolor\": \"white\", \"showgrid\": true, \"tickcolor\": \"rgb(51,51,51)\", \"ticks\": \"outside\"}, \"baxis\": {\"gridcolor\": \"white\", \"linecolor\": \"white\", \"showgrid\": true, \"tickcolor\": \"rgb(51,51,51)\", \"ticks\": \"outside\"}, \"bgcolor\": \"rgb(237,237,237)\", \"caxis\": {\"gridcolor\": \"white\", \"linecolor\": \"white\", \"showgrid\": true, \"tickcolor\": \"rgb(51,51,51)\", \"ticks\": \"outside\"}}, \"xaxis\": {\"automargin\": true, \"gridcolor\": \"white\", \"linecolor\": \"white\", \"showgrid\": true, \"tickcolor\": \"rgb(51,51,51)\", \"ticks\": \"outside\", \"title\": {\"standoff\": 15}, \"zerolinecolor\": \"white\"}, \"yaxis\": {\"automargin\": true, \"gridcolor\": \"white\", \"linecolor\": \"white\", \"showgrid\": true, \"tickcolor\": \"rgb(51,51,51)\", \"ticks\": \"outside\", \"title\": {\"standoff\": 15}, \"zerolinecolor\": \"white\"}}}},\n",
              "                        {\"responsive\": true}\n",
              "                    ).then(function(){\n",
              "                            \n",
              "var gd = document.getElementById('4ed47479-4151-4677-965a-f61a2b5ff233');\n",
              "var x = new MutationObserver(function (mutations, observer) {{\n",
              "        var display = window.getComputedStyle(gd).display;\n",
              "        if (!display || display === 'none') {{\n",
              "            console.log([gd, 'removed!']);\n",
              "            Plotly.purge(gd);\n",
              "            observer.disconnect();\n",
              "        }}\n",
              "}});\n",
              "\n",
              "// Listen for the removal of the full notebook cells\n",
              "var notebookContainer = gd.closest('#notebook-container');\n",
              "if (notebookContainer) {{\n",
              "    x.observe(notebookContainer, {childList: true});\n",
              "}}\n",
              "\n",
              "// Listen for the clearing of the current output cell\n",
              "var outputEl = gd.closest('.output');\n",
              "if (outputEl) {{\n",
              "    x.observe(outputEl, {childList: true});\n",
              "}}\n",
              "\n",
              "                        })\n",
              "                };\n",
              "                \n",
              "            </script>\n",
              "        </div>\n",
              "</body>\n",
              "</html>"
            ]
          },
          "metadata": {
            "tags": []
          }
        }
      ]
    },
    {
      "cell_type": "markdown",
      "metadata": {
        "id": "b-ZtEti8aTFt"
      },
      "source": [
        "This animated 3d scatter plot shows at every point for what percent of price and sugar percent what is the win percent obtained."
      ]
    },
    {
      "cell_type": "code",
      "metadata": {
        "colab": {
          "base_uri": "https://localhost:8080/",
          "height": 407
        },
        "id": "05IdtpwTxzEL",
        "outputId": "3e64737d-bffe-4dff-92e9-31826991112f"
      },
      "source": [
        "from mlxtend.frequent_patterns import apriori  #used for Association Rules Generation(internally) from Frequent Itemsets\r\n",
        "combos =  pick_high[pick_high.columns[:-3]]\r\n",
        "combination = apriori(combos, min_support=0.3,use_colnames=True).sort_values(by='support')\r\n",
        "\r\n",
        "\r\n",
        "combination.plot(kind='barh',x='itemsets',y='support',title=f'Most used combination',sort_columns=True,figsize = (11,6),legend=False)"
      ],
      "execution_count": 455,
      "outputs": [
        {
          "output_type": "execute_result",
          "data": {
            "text/plain": [
              "<matplotlib.axes._subplots.AxesSubplot at 0x7ff3bb7f0828>"
            ]
          },
          "metadata": {
            "tags": []
          },
          "execution_count": 455
        },
        {
          "output_type": "display_data",
          "data": {
            "image/png": "[encoded data removed]",
            "text/plain": [
              "<Figure size 792x432 with 1 Axes>"
            ]
          },
          "metadata": {
            "tags": [],
            "needs_background": "light"
          }
        }
      ]
    },
    {
      "cell_type": "markdown",
      "metadata": {
        "id": "KGJzhrq7reuV"
      },
      "source": [
        "The above graph gives a representation of most frequently used combinations. This shows that chocolate is the most frequently used ingredient and it also contributes a major role in combinations. That means many leading competitors with high win percent prefer to have chocolate as the main ingredient in candies also in combination with other flavours."
      ]
    },
    {
      "cell_type": "code",
      "metadata": {
        "colab": {
          "base_uri": "https://localhost:8080/"
        },
        "id": "U7VM8EoRjzo2",
        "outputId": "97a14241-ac80-4429-e71f-0786e502018f"
      },
      "source": [
        "all_types_percent = candy[candy.columns[9:]]\r\n",
        "all_types_percent.info()"
      ],
      "execution_count": 430,
      "outputs": [
        {
          "output_type": "stream",
          "text": [
            "<class 'pandas.core.frame.DataFrame'>\n",
            "RangeIndex: 85 entries, 0 to 84\n",
            "Data columns (total 3 columns):\n",
            " #   Column        Non-Null Count  Dtype  \n",
            "---  ------        --------------  -----  \n",
            " 0   sugarpercent  85 non-null     float64\n",
            " 1   pricepercent  85 non-null     float64\n",
            " 2   winpercent    85 non-null     float64\n",
            "dtypes: float64(3)\n",
            "memory usage: 2.1 KB\n"
          ],
          "name": "stdout"
        }
      ]
    },
    {
      "cell_type": "code",
      "metadata": {
        "colab": {
          "base_uri": "https://localhost:8080/",
          "height": 402
        },
        "id": "ZDvC-AqOQzrE",
        "outputId": "0215fda1-71e4-4d77-f38e-5bea7915898c"
      },
      "source": [
        "all_types = candy[candy.columns[:-3]]\r\n",
        "all_types_percent = candy[candy.columns[9:]]\r\n",
        "\r\n",
        "from sklearn.preprocessing import StandardScaler\r\n",
        "for col in all_types_percent:\r\n",
        "  ss = StandardScaler()\r\n",
        "  std = ss.fit_transform(all_types_percent.values)\r\n",
        "  \r\n",
        "std_df = pd.DataFrame(std,index = all_types_percent.index , columns = all_types_percent.columns)\r\n",
        "std_df"
      ],
      "execution_count": 431,
      "outputs": [
        {
          "output_type": "execute_result",
          "data": {
            "text/html": [
              "<div>\n",
              "<style scoped>\n",
              "    .dataframe tbody tr th:only-of-type {\n",
              "        vertical-align: middle;\n",
              "    }\n",
              "\n",
              "    .dataframe tbody tr th {\n",
              "        vertical-align: top;\n",
              "    }\n",
              "\n",
              "    .dataframe thead th {\n",
              "        text-align: right;\n",
              "    }\n",
              "</style>\n",
              "<table border=\"1\" class=\"dataframe\">\n",
              "  <thead>\n",
              "    <tr style=\"text-align: right;\">\n",
              "      <th></th>\n",
              "      <th>sugarpercent</th>\n",
              "      <th>pricepercent</th>\n",
              "      <th>winpercent</th>\n",
              "    </tr>\n",
              "  </thead>\n",
              "  <tbody>\n",
              "    <tr>\n",
              "      <th>0</th>\n",
              "      <td>0.900102</td>\n",
              "      <td>1.375198</td>\n",
              "      <td>1.141323</td>\n",
              "    </tr>\n",
              "    <tr>\n",
              "      <th>1</th>\n",
              "      <td>0.436845</td>\n",
              "      <td>0.145497</td>\n",
              "      <td>1.209498</td>\n",
              "    </tr>\n",
              "    <tr>\n",
              "      <th>2</th>\n",
              "      <td>-1.665629</td>\n",
              "      <td>-1.224740</td>\n",
              "      <td>-1.244788</td>\n",
              "    </tr>\n",
              "    <tr>\n",
              "      <th>3</th>\n",
              "      <td>-1.665629</td>\n",
              "      <td>0.145497</td>\n",
              "      <td>-0.290344</td>\n",
              "    </tr>\n",
              "    <tr>\n",
              "      <th>4</th>\n",
              "      <td>1.541535</td>\n",
              "      <td>0.145497</td>\n",
              "      <td>0.118704</td>\n",
              "    </tr>\n",
              "    <tr>\n",
              "      <th>...</th>\n",
              "      <td>...</td>\n",
              "      <td>...</td>\n",
              "      <td>...</td>\n",
              "    </tr>\n",
              "    <tr>\n",
              "      <th>80</th>\n",
              "      <td>-0.917291</td>\n",
              "      <td>-1.224740</td>\n",
              "      <td>-0.358518</td>\n",
              "    </tr>\n",
              "    <tr>\n",
              "      <th>81</th>\n",
              "      <td>-1.380548</td>\n",
              "      <td>-1.224740</td>\n",
              "      <td>-0.767566</td>\n",
              "    </tr>\n",
              "    <tr>\n",
              "      <th>82</th>\n",
              "      <td>-0.596574</td>\n",
              "      <td>-0.557189</td>\n",
              "      <td>-0.426693</td>\n",
              "    </tr>\n",
              "    <tr>\n",
              "      <th>83</th>\n",
              "      <td>-1.024196</td>\n",
              "      <td>-0.697726</td>\n",
              "      <td>-0.563042</td>\n",
              "    </tr>\n",
              "    <tr>\n",
              "      <th>84</th>\n",
              "      <td>1.398994</td>\n",
              "      <td>1.340064</td>\n",
              "      <td>-0.017645</td>\n",
              "    </tr>\n",
              "  </tbody>\n",
              "</table>\n",
              "<p>85 rows × 3 columns</p>\n",
              "</div>"
            ],
            "text/plain": [
              "    sugarpercent  pricepercent  winpercent\n",
              "0       0.900102      1.375198    1.141323\n",
              "1       0.436845      0.145497    1.209498\n",
              "2      -1.665629     -1.224740   -1.244788\n",
              "3      -1.665629      0.145497   -0.290344\n",
              "4       1.541535      0.145497    0.118704\n",
              "..           ...           ...         ...\n",
              "80     -0.917291     -1.224740   -0.358518\n",
              "81     -1.380548     -1.224740   -0.767566\n",
              "82     -0.596574     -0.557189   -0.426693\n",
              "83     -1.024196     -0.697726   -0.563042\n",
              "84      1.398994      1.340064   -0.017645\n",
              "\n",
              "[85 rows x 3 columns]"
            ]
          },
          "metadata": {
            "tags": []
          },
          "execution_count": 431
        }
      ]
    },
    {
      "cell_type": "code",
      "metadata": {
        "colab": {
          "base_uri": "https://localhost:8080/",
          "height": 1000
        },
        "id": "FI_uoXwK3-62",
        "outputId": "276dab01-e0ef-44d9-93a0-da245c2f097c"
      },
      "source": [
        "d_f = pd.concat([all_types, std_df], axis = 1)\r\n",
        "display_all(d_f)"
      ],
      "execution_count": 432,
      "outputs": [
        {
          "output_type": "display_data",
          "data": {
            "text/html": [
              "<div>\n",
              "<style scoped>\n",
              "    .dataframe tbody tr th:only-of-type {\n",
              "        vertical-align: middle;\n",
              "    }\n",
              "\n",
              "    .dataframe tbody tr th {\n",
              "        vertical-align: top;\n",
              "    }\n",
              "\n",
              "    .dataframe thead th {\n",
              "        text-align: right;\n",
              "    }\n",
              "</style>\n",
              "<table border=\"1\" class=\"dataframe\">\n",
              "  <thead>\n",
              "    <tr style=\"text-align: right;\">\n",
              "      <th></th>\n",
              "      <th>chocolate</th>\n",
              "      <th>fruity</th>\n",
              "      <th>caramel</th>\n",
              "      <th>peanutyalmondy</th>\n",
              "      <th>nougat</th>\n",
              "      <th>crispedricewafer</th>\n",
              "      <th>hard</th>\n",
              "      <th>bar</th>\n",
              "      <th>pluribus</th>\n",
              "      <th>sugarpercent</th>\n",
              "      <th>pricepercent</th>\n",
              "      <th>winpercent</th>\n",
              "    </tr>\n",
              "  </thead>\n",
              "  <tbody>\n",
              "    <tr>\n",
              "      <th>0</th>\n",
              "      <td>1</td>\n",
              "      <td>0</td>\n",
              "      <td>1</td>\n",
              "      <td>0</td>\n",
              "      <td>0</td>\n",
              "      <td>1</td>\n",
              "      <td>0</td>\n",
              "      <td>1</td>\n",
              "      <td>0</td>\n",
              "      <td>0.900102</td>\n",
              "      <td>1.375198</td>\n",
              "      <td>1.141323</td>\n",
              "    </tr>\n",
              "    <tr>\n",
              "      <th>1</th>\n",
              "      <td>1</td>\n",
              "      <td>0</td>\n",
              "      <td>0</td>\n",
              "      <td>0</td>\n",
              "      <td>1</td>\n",
              "      <td>0</td>\n",
              "      <td>0</td>\n",
              "      <td>1</td>\n",
              "      <td>0</td>\n",
              "      <td>0.436845</td>\n",
              "      <td>0.145497</td>\n",
              "      <td>1.209498</td>\n",
              "    </tr>\n",
              "    <tr>\n",
              "      <th>2</th>\n",
              "      <td>0</td>\n",
              "      <td>0</td>\n",
              "      <td>0</td>\n",
              "      <td>0</td>\n",
              "      <td>0</td>\n",
              "      <td>0</td>\n",
              "      <td>0</td>\n",
              "      <td>0</td>\n",
              "      <td>0</td>\n",
              "      <td>-1.665629</td>\n",
              "      <td>-1.224740</td>\n",
              "      <td>-1.244788</td>\n",
              "    </tr>\n",
              "    <tr>\n",
              "      <th>3</th>\n",
              "      <td>0</td>\n",
              "      <td>0</td>\n",
              "      <td>0</td>\n",
              "      <td>0</td>\n",
              "      <td>0</td>\n",
              "      <td>0</td>\n",
              "      <td>0</td>\n",
              "      <td>0</td>\n",
              "      <td>0</td>\n",
              "      <td>-1.665629</td>\n",
              "      <td>0.145497</td>\n",
              "      <td>-0.290344</td>\n",
              "    </tr>\n",
              "    <tr>\n",
              "      <th>4</th>\n",
              "      <td>0</td>\n",
              "      <td>1</td>\n",
              "      <td>0</td>\n",
              "      <td>0</td>\n",
              "      <td>0</td>\n",
              "      <td>0</td>\n",
              "      <td>0</td>\n",
              "      <td>0</td>\n",
              "      <td>0</td>\n",
              "      <td>1.541535</td>\n",
              "      <td>0.145497</td>\n",
              "      <td>0.118704</td>\n",
              "    </tr>\n",
              "    <tr>\n",
              "      <th>5</th>\n",
              "      <td>1</td>\n",
              "      <td>0</td>\n",
              "      <td>0</td>\n",
              "      <td>1</td>\n",
              "      <td>0</td>\n",
              "      <td>0</td>\n",
              "      <td>0</td>\n",
              "      <td>1</td>\n",
              "      <td>0</td>\n",
              "      <td>-0.062047</td>\n",
              "      <td>1.058989</td>\n",
              "      <td>-0.017645</td>\n",
              "    </tr>\n",
              "    <tr>\n",
              "      <th>6</th>\n",
              "      <td>1</td>\n",
              "      <td>0</td>\n",
              "      <td>1</td>\n",
              "      <td>1</td>\n",
              "      <td>1</td>\n",
              "      <td>0</td>\n",
              "      <td>0</td>\n",
              "      <td>1</td>\n",
              "      <td>0</td>\n",
              "      <td>0.436845</td>\n",
              "      <td>1.058989</td>\n",
              "      <td>0.459577</td>\n",
              "    </tr>\n",
              "    <tr>\n",
              "      <th>7</th>\n",
              "      <td>0</td>\n",
              "      <td>0</td>\n",
              "      <td>0</td>\n",
              "      <td>1</td>\n",
              "      <td>0</td>\n",
              "      <td>0</td>\n",
              "      <td>0</td>\n",
              "      <td>0</td>\n",
              "      <td>1</td>\n",
              "      <td>-0.596574</td>\n",
              "      <td>0.145497</td>\n",
              "      <td>-1.858360</td>\n",
              "    </tr>\n",
              "    <tr>\n",
              "      <th>8</th>\n",
              "      <td>0</td>\n",
              "      <td>0</td>\n",
              "      <td>0</td>\n",
              "      <td>0</td>\n",
              "      <td>0</td>\n",
              "      <td>0</td>\n",
              "      <td>0</td>\n",
              "      <td>0</td>\n",
              "      <td>1</td>\n",
              "      <td>1.541535</td>\n",
              "      <td>-0.522054</td>\n",
              "      <td>-0.835741</td>\n",
              "    </tr>\n",
              "    <tr>\n",
              "      <th>9</th>\n",
              "      <td>0</td>\n",
              "      <td>1</td>\n",
              "      <td>1</td>\n",
              "      <td>0</td>\n",
              "      <td>0</td>\n",
              "      <td>0</td>\n",
              "      <td>0</td>\n",
              "      <td>0</td>\n",
              "      <td>0</td>\n",
              "      <td>0.436845</td>\n",
              "      <td>-0.522054</td>\n",
              "      <td>-1.040264</td>\n",
              "    </tr>\n",
              "    <tr>\n",
              "      <th>10</th>\n",
              "      <td>1</td>\n",
              "      <td>0</td>\n",
              "      <td>0</td>\n",
              "      <td>0</td>\n",
              "      <td>1</td>\n",
              "      <td>0</td>\n",
              "      <td>0</td>\n",
              "      <td>1</td>\n",
              "      <td>0</td>\n",
              "      <td>0.436845</td>\n",
              "      <td>0.145497</td>\n",
              "      <td>-0.767566</td>\n",
              "    </tr>\n",
              "    <tr>\n",
              "      <th>11</th>\n",
              "      <td>0</td>\n",
              "      <td>1</td>\n",
              "      <td>0</td>\n",
              "      <td>0</td>\n",
              "      <td>0</td>\n",
              "      <td>0</td>\n",
              "      <td>0</td>\n",
              "      <td>0</td>\n",
              "      <td>1</td>\n",
              "      <td>0.900102</td>\n",
              "      <td>0.145497</td>\n",
              "      <td>-0.972090</td>\n",
              "    </tr>\n",
              "    <tr>\n",
              "      <th>12</th>\n",
              "      <td>0</td>\n",
              "      <td>1</td>\n",
              "      <td>0</td>\n",
              "      <td>0</td>\n",
              "      <td>0</td>\n",
              "      <td>0</td>\n",
              "      <td>0</td>\n",
              "      <td>0</td>\n",
              "      <td>1</td>\n",
              "      <td>-1.523088</td>\n",
              "      <td>-0.522054</td>\n",
              "      <td>-1.722011</td>\n",
              "    </tr>\n",
              "    <tr>\n",
              "      <th>13</th>\n",
              "      <td>0</td>\n",
              "      <td>1</td>\n",
              "      <td>0</td>\n",
              "      <td>0</td>\n",
              "      <td>0</td>\n",
              "      <td>0</td>\n",
              "      <td>0</td>\n",
              "      <td>0</td>\n",
              "      <td>1</td>\n",
              "      <td>0.900102</td>\n",
              "      <td>0.145497</td>\n",
              "      <td>-0.563042</td>\n",
              "    </tr>\n",
              "    <tr>\n",
              "      <th>14</th>\n",
              "      <td>0</td>\n",
              "      <td>1</td>\n",
              "      <td>0</td>\n",
              "      <td>0</td>\n",
              "      <td>0</td>\n",
              "      <td>0</td>\n",
              "      <td>1</td>\n",
              "      <td>0</td>\n",
              "      <td>0</td>\n",
              "      <td>0.900102</td>\n",
              "      <td>-1.540949</td>\n",
              "      <td>-0.767566</td>\n",
              "    </tr>\n",
              "    <tr>\n",
              "      <th>15</th>\n",
              "      <td>0</td>\n",
              "      <td>1</td>\n",
              "      <td>0</td>\n",
              "      <td>0</td>\n",
              "      <td>0</td>\n",
              "      <td>0</td>\n",
              "      <td>0</td>\n",
              "      <td>0</td>\n",
              "      <td>1</td>\n",
              "      <td>-1.238007</td>\n",
              "      <td>-1.540949</td>\n",
              "      <td>-0.494868</td>\n",
              "    </tr>\n",
              "    <tr>\n",
              "      <th>16</th>\n",
              "      <td>0</td>\n",
              "      <td>1</td>\n",
              "      <td>0</td>\n",
              "      <td>0</td>\n",
              "      <td>0</td>\n",
              "      <td>0</td>\n",
              "      <td>1</td>\n",
              "      <td>0</td>\n",
              "      <td>0</td>\n",
              "      <td>0.900102</td>\n",
              "      <td>-0.522054</td>\n",
              "      <td>-0.767566</td>\n",
              "    </tr>\n",
              "    <tr>\n",
              "      <th>17</th>\n",
              "      <td>0</td>\n",
              "      <td>1</td>\n",
              "      <td>0</td>\n",
              "      <td>0</td>\n",
              "      <td>0</td>\n",
              "      <td>0</td>\n",
              "      <td>1</td>\n",
              "      <td>0</td>\n",
              "      <td>1</td>\n",
              "      <td>1.541535</td>\n",
              "      <td>-0.065308</td>\n",
              "      <td>-0.222169</td>\n",
              "    </tr>\n",
              "    <tr>\n",
              "      <th>18</th>\n",
              "      <td>0</td>\n",
              "      <td>1</td>\n",
              "      <td>0</td>\n",
              "      <td>0</td>\n",
              "      <td>0</td>\n",
              "      <td>0</td>\n",
              "      <td>0</td>\n",
              "      <td>0</td>\n",
              "      <td>1</td>\n",
              "      <td>-0.062047</td>\n",
              "      <td>-0.030174</td>\n",
              "      <td>0.459577</td>\n",
              "    </tr>\n",
              "    <tr>\n",
              "      <th>19</th>\n",
              "      <td>0</td>\n",
              "      <td>0</td>\n",
              "      <td>0</td>\n",
              "      <td>0</td>\n",
              "      <td>0</td>\n",
              "      <td>0</td>\n",
              "      <td>0</td>\n",
              "      <td>0</td>\n",
              "      <td>1</td>\n",
              "      <td>-0.062047</td>\n",
              "      <td>-0.030174</td>\n",
              "      <td>-1.108439</td>\n",
              "    </tr>\n",
              "    <tr>\n",
              "      <th>20</th>\n",
              "      <td>0</td>\n",
              "      <td>1</td>\n",
              "      <td>0</td>\n",
              "      <td>0</td>\n",
              "      <td>0</td>\n",
              "      <td>0</td>\n",
              "      <td>0</td>\n",
              "      <td>0</td>\n",
              "      <td>1</td>\n",
              "      <td>-0.062047</td>\n",
              "      <td>-0.030174</td>\n",
              "      <td>0.050529</td>\n",
              "    </tr>\n",
              "    <tr>\n",
              "      <th>21</th>\n",
              "      <td>0</td>\n",
              "      <td>1</td>\n",
              "      <td>0</td>\n",
              "      <td>0</td>\n",
              "      <td>0</td>\n",
              "      <td>0</td>\n",
              "      <td>0</td>\n",
              "      <td>0</td>\n",
              "      <td>1</td>\n",
              "      <td>-0.062047</td>\n",
              "      <td>-0.030174</td>\n",
              "      <td>-0.563042</td>\n",
              "    </tr>\n",
              "    <tr>\n",
              "      <th>22</th>\n",
              "      <td>1</td>\n",
              "      <td>0</td>\n",
              "      <td>0</td>\n",
              "      <td>0</td>\n",
              "      <td>0</td>\n",
              "      <td>0</td>\n",
              "      <td>0</td>\n",
              "      <td>0</td>\n",
              "      <td>1</td>\n",
              "      <td>-1.238007</td>\n",
              "      <td>-1.330143</td>\n",
              "      <td>0.323228</td>\n",
              "    </tr>\n",
              "    <tr>\n",
              "      <th>23</th>\n",
              "      <td>1</td>\n",
              "      <td>0</td>\n",
              "      <td>0</td>\n",
              "      <td>0</td>\n",
              "      <td>0</td>\n",
              "      <td>1</td>\n",
              "      <td>0</td>\n",
              "      <td>1</td>\n",
              "      <td>0</td>\n",
              "      <td>-0.168953</td>\n",
              "      <td>1.586004</td>\n",
              "      <td>0.800450</td>\n",
              "    </tr>\n",
              "    <tr>\n",
              "      <th>24</th>\n",
              "      <td>1</td>\n",
              "      <td>0</td>\n",
              "      <td>0</td>\n",
              "      <td>0</td>\n",
              "      <td>0</td>\n",
              "      <td>0</td>\n",
              "      <td>0</td>\n",
              "      <td>1</td>\n",
              "      <td>0</td>\n",
              "      <td>-0.168953</td>\n",
              "      <td>1.586004</td>\n",
              "      <td>0.391403</td>\n",
              "    </tr>\n",
              "    <tr>\n",
              "      <th>25</th>\n",
              "      <td>1</td>\n",
              "      <td>0</td>\n",
              "      <td>0</td>\n",
              "      <td>0</td>\n",
              "      <td>0</td>\n",
              "      <td>0</td>\n",
              "      <td>0</td>\n",
              "      <td>1</td>\n",
              "      <td>0</td>\n",
              "      <td>-0.168953</td>\n",
              "      <td>1.586004</td>\n",
              "      <td>0.595926</td>\n",
              "    </tr>\n",
              "    <tr>\n",
              "      <th>26</th>\n",
              "      <td>0</td>\n",
              "      <td>1</td>\n",
              "      <td>0</td>\n",
              "      <td>0</td>\n",
              "      <td>0</td>\n",
              "      <td>0</td>\n",
              "      <td>1</td>\n",
              "      <td>0</td>\n",
              "      <td>1</td>\n",
              "      <td>-1.380548</td>\n",
              "      <td>0.145497</td>\n",
              "      <td>-1.517487</td>\n",
              "    </tr>\n",
              "    <tr>\n",
              "      <th>27</th>\n",
              "      <td>1</td>\n",
              "      <td>0</td>\n",
              "      <td>0</td>\n",
              "      <td>0</td>\n",
              "      <td>0</td>\n",
              "      <td>0</td>\n",
              "      <td>0</td>\n",
              "      <td>0</td>\n",
              "      <td>1</td>\n",
              "      <td>-0.988561</td>\n",
              "      <td>0.145497</td>\n",
              "      <td>0.459577</td>\n",
              "    </tr>\n",
              "    <tr>\n",
              "      <th>28</th>\n",
              "      <td>1</td>\n",
              "      <td>0</td>\n",
              "      <td>0</td>\n",
              "      <td>0</td>\n",
              "      <td>0</td>\n",
              "      <td>1</td>\n",
              "      <td>0</td>\n",
              "      <td>1</td>\n",
              "      <td>0</td>\n",
              "      <td>-0.596574</td>\n",
              "      <td>0.145497</td>\n",
              "      <td>1.823070</td>\n",
              "    </tr>\n",
              "    <tr>\n",
              "      <th>29</th>\n",
              "      <td>0</td>\n",
              "      <td>1</td>\n",
              "      <td>0</td>\n",
              "      <td>0</td>\n",
              "      <td>0</td>\n",
              "      <td>0</td>\n",
              "      <td>0</td>\n",
              "      <td>0</td>\n",
              "      <td>0</td>\n",
              "      <td>-0.917291</td>\n",
              "      <td>-1.224740</td>\n",
              "      <td>-0.631217</td>\n",
              "    </tr>\n",
              "    <tr>\n",
              "      <th>30</th>\n",
              "      <td>0</td>\n",
              "      <td>1</td>\n",
              "      <td>0</td>\n",
              "      <td>0</td>\n",
              "      <td>0</td>\n",
              "      <td>0</td>\n",
              "      <td>1</td>\n",
              "      <td>0</td>\n",
              "      <td>0</td>\n",
              "      <td>-1.523088</td>\n",
              "      <td>-1.295009</td>\n",
              "      <td>-0.767566</td>\n",
              "    </tr>\n",
              "    <tr>\n",
              "      <th>31</th>\n",
              "      <td>0</td>\n",
              "      <td>1</td>\n",
              "      <td>0</td>\n",
              "      <td>0</td>\n",
              "      <td>0</td>\n",
              "      <td>0</td>\n",
              "      <td>0</td>\n",
              "      <td>0</td>\n",
              "      <td>0</td>\n",
              "      <td>-0.739115</td>\n",
              "      <td>-0.662592</td>\n",
              "      <td>0.186879</td>\n",
              "    </tr>\n",
              "    <tr>\n",
              "      <th>32</th>\n",
              "      <td>1</td>\n",
              "      <td>0</td>\n",
              "      <td>0</td>\n",
              "      <td>1</td>\n",
              "      <td>0</td>\n",
              "      <td>0</td>\n",
              "      <td>0</td>\n",
              "      <td>0</td>\n",
              "      <td>1</td>\n",
              "      <td>1.220818</td>\n",
              "      <td>0.637378</td>\n",
              "      <td>1.414022</td>\n",
              "    </tr>\n",
              "    <tr>\n",
              "      <th>33</th>\n",
              "      <td>1</td>\n",
              "      <td>0</td>\n",
              "      <td>0</td>\n",
              "      <td>0</td>\n",
              "      <td>0</td>\n",
              "      <td>0</td>\n",
              "      <td>0</td>\n",
              "      <td>0</td>\n",
              "      <td>1</td>\n",
              "      <td>1.220818</td>\n",
              "      <td>0.637378</td>\n",
              "      <td>1.141323</td>\n",
              "    </tr>\n",
              "    <tr>\n",
              "      <th>34</th>\n",
              "      <td>0</td>\n",
              "      <td>1</td>\n",
              "      <td>0</td>\n",
              "      <td>0</td>\n",
              "      <td>0</td>\n",
              "      <td>0</td>\n",
              "      <td>0</td>\n",
              "      <td>0</td>\n",
              "      <td>1</td>\n",
              "      <td>1.398994</td>\n",
              "      <td>-0.522054</td>\n",
              "      <td>-0.290344</td>\n",
              "    </tr>\n",
              "    <tr>\n",
              "      <th>35</th>\n",
              "      <td>1</td>\n",
              "      <td>0</td>\n",
              "      <td>1</td>\n",
              "      <td>0</td>\n",
              "      <td>0</td>\n",
              "      <td>0</td>\n",
              "      <td>0</td>\n",
              "      <td>0</td>\n",
              "      <td>1</td>\n",
              "      <td>-0.632209</td>\n",
              "      <td>0.145497</td>\n",
              "      <td>0.323228</td>\n",
              "    </tr>\n",
              "    <tr>\n",
              "      <th>36</th>\n",
              "      <td>1</td>\n",
              "      <td>0</td>\n",
              "      <td>1</td>\n",
              "      <td>0</td>\n",
              "      <td>1</td>\n",
              "      <td>0</td>\n",
              "      <td>0</td>\n",
              "      <td>1</td>\n",
              "      <td>0</td>\n",
              "      <td>0.436845</td>\n",
              "      <td>0.637378</td>\n",
              "      <td>1.550371</td>\n",
              "    </tr>\n",
              "    <tr>\n",
              "      <th>37</th>\n",
              "      <td>1</td>\n",
              "      <td>0</td>\n",
              "      <td>1</td>\n",
              "      <td>0</td>\n",
              "      <td>1</td>\n",
              "      <td>0</td>\n",
              "      <td>0</td>\n",
              "      <td>1</td>\n",
              "      <td>0</td>\n",
              "      <td>0.900102</td>\n",
              "      <td>-0.100443</td>\n",
              "      <td>0.732276</td>\n",
              "    </tr>\n",
              "    <tr>\n",
              "      <th>38</th>\n",
              "      <td>1</td>\n",
              "      <td>0</td>\n",
              "      <td>1</td>\n",
              "      <td>0</td>\n",
              "      <td>0</td>\n",
              "      <td>0</td>\n",
              "      <td>0</td>\n",
              "      <td>1</td>\n",
              "      <td>0</td>\n",
              "      <td>1.719710</td>\n",
              "      <td>1.375198</td>\n",
              "      <td>0.936799</td>\n",
              "    </tr>\n",
              "    <tr>\n",
              "      <th>39</th>\n",
              "      <td>1</td>\n",
              "      <td>0</td>\n",
              "      <td>0</td>\n",
              "      <td>0</td>\n",
              "      <td>0</td>\n",
              "      <td>0</td>\n",
              "      <td>0</td>\n",
              "      <td>1</td>\n",
              "      <td>0</td>\n",
              "      <td>-0.596574</td>\n",
              "      <td>1.375198</td>\n",
              "      <td>-0.153994</td>\n",
              "    </tr>\n",
              "    <tr>\n",
              "      <th>40</th>\n",
              "      <td>1</td>\n",
              "      <td>0</td>\n",
              "      <td>0</td>\n",
              "      <td>1</td>\n",
              "      <td>0</td>\n",
              "      <td>0</td>\n",
              "      <td>0</td>\n",
              "      <td>1</td>\n",
              "      <td>0</td>\n",
              "      <td>-0.596574</td>\n",
              "      <td>1.586004</td>\n",
              "      <td>0.323228</td>\n",
              "    </tr>\n",
              "    <tr>\n",
              "      <th>41</th>\n",
              "      <td>0</td>\n",
              "      <td>1</td>\n",
              "      <td>0</td>\n",
              "      <td>0</td>\n",
              "      <td>0</td>\n",
              "      <td>0</td>\n",
              "      <td>1</td>\n",
              "      <td>0</td>\n",
              "      <td>1</td>\n",
              "      <td>1.327724</td>\n",
              "      <td>-0.522054</td>\n",
              "      <td>0.323228</td>\n",
              "    </tr>\n",
              "    <tr>\n",
              "      <th>42</th>\n",
              "      <td>1</td>\n",
              "      <td>0</td>\n",
              "      <td>0</td>\n",
              "      <td>1</td>\n",
              "      <td>0</td>\n",
              "      <td>0</td>\n",
              "      <td>0</td>\n",
              "      <td>1</td>\n",
              "      <td>0</td>\n",
              "      <td>0.436845</td>\n",
              "      <td>1.058989</td>\n",
              "      <td>1.414022</td>\n",
              "    </tr>\n",
              "    <tr>\n",
              "      <th>43</th>\n",
              "      <td>1</td>\n",
              "      <td>0</td>\n",
              "      <td>0</td>\n",
              "      <td>0</td>\n",
              "      <td>0</td>\n",
              "      <td>1</td>\n",
              "      <td>0</td>\n",
              "      <td>1</td>\n",
              "      <td>0</td>\n",
              "      <td>-0.596574</td>\n",
              "      <td>1.058989</td>\n",
              "      <td>1.073149</td>\n",
              "    </tr>\n",
              "    <tr>\n",
              "      <th>44</th>\n",
              "      <td>0</td>\n",
              "      <td>1</td>\n",
              "      <td>0</td>\n",
              "      <td>0</td>\n",
              "      <td>0</td>\n",
              "      <td>0</td>\n",
              "      <td>0</td>\n",
              "      <td>0</td>\n",
              "      <td>1</td>\n",
              "      <td>-0.988561</td>\n",
              "      <td>1.796809</td>\n",
              "      <td>-1.926535</td>\n",
              "    </tr>\n",
              "    <tr>\n",
              "      <th>45</th>\n",
              "      <td>0</td>\n",
              "      <td>1</td>\n",
              "      <td>0</td>\n",
              "      <td>0</td>\n",
              "      <td>0</td>\n",
              "      <td>0</td>\n",
              "      <td>0</td>\n",
              "      <td>0</td>\n",
              "      <td>1</td>\n",
              "      <td>-0.917291</td>\n",
              "      <td>-0.522054</td>\n",
              "      <td>-0.767566</td>\n",
              "    </tr>\n",
              "    <tr>\n",
              "      <th>46</th>\n",
              "      <td>0</td>\n",
              "      <td>0</td>\n",
              "      <td>0</td>\n",
              "      <td>1</td>\n",
              "      <td>1</td>\n",
              "      <td>0</td>\n",
              "      <td>0</td>\n",
              "      <td>1</td>\n",
              "      <td>0</td>\n",
              "      <td>-0.062047</td>\n",
              "      <td>1.058989</td>\n",
              "      <td>-0.290344</td>\n",
              "    </tr>\n",
              "    <tr>\n",
              "      <th>47</th>\n",
              "      <td>1</td>\n",
              "      <td>0</td>\n",
              "      <td>0</td>\n",
              "      <td>1</td>\n",
              "      <td>0</td>\n",
              "      <td>0</td>\n",
              "      <td>0</td>\n",
              "      <td>0</td>\n",
              "      <td>1</td>\n",
              "      <td>0.401210</td>\n",
              "      <td>0.637378</td>\n",
              "      <td>1.277673</td>\n",
              "    </tr>\n",
              "    <tr>\n",
              "      <th>48</th>\n",
              "      <td>0</td>\n",
              "      <td>0</td>\n",
              "      <td>0</td>\n",
              "      <td>0</td>\n",
              "      <td>0</td>\n",
              "      <td>0</td>\n",
              "      <td>0</td>\n",
              "      <td>0</td>\n",
              "      <td>1</td>\n",
              "      <td>-1.380548</td>\n",
              "      <td>-1.576083</td>\n",
              "      <td>-0.835741</td>\n",
              "    </tr>\n",
              "    <tr>\n",
              "      <th>49</th>\n",
              "      <td>0</td>\n",
              "      <td>1</td>\n",
              "      <td>0</td>\n",
              "      <td>0</td>\n",
              "      <td>0</td>\n",
              "      <td>0</td>\n",
              "      <td>1</td>\n",
              "      <td>0</td>\n",
              "      <td>1</td>\n",
              "      <td>0.436845</td>\n",
              "      <td>1.304929</td>\n",
              "      <td>-0.631217</td>\n",
              "    </tr>\n",
              "    <tr>\n",
              "      <th>50</th>\n",
              "      <td>0</td>\n",
              "      <td>1</td>\n",
              "      <td>0</td>\n",
              "      <td>0</td>\n",
              "      <td>0</td>\n",
              "      <td>0</td>\n",
              "      <td>0</td>\n",
              "      <td>0</td>\n",
              "      <td>1</td>\n",
              "      <td>0.365575</td>\n",
              "      <td>-1.224740</td>\n",
              "      <td>-0.903915</td>\n",
              "    </tr>\n",
              "    <tr>\n",
              "      <th>51</th>\n",
              "      <td>1</td>\n",
              "      <td>0</td>\n",
              "      <td>0</td>\n",
              "      <td>1</td>\n",
              "      <td>0</td>\n",
              "      <td>0</td>\n",
              "      <td>0</td>\n",
              "      <td>0</td>\n",
              "      <td>0</td>\n",
              "      <td>-1.594359</td>\n",
              "      <td>-0.662592</td>\n",
              "      <td>2.163943</td>\n",
              "    </tr>\n",
              "    <tr>\n",
              "      <th>52</th>\n",
              "      <td>1</td>\n",
              "      <td>0</td>\n",
              "      <td>0</td>\n",
              "      <td>1</td>\n",
              "      <td>0</td>\n",
              "      <td>0</td>\n",
              "      <td>0</td>\n",
              "      <td>0</td>\n",
              "      <td>0</td>\n",
              "      <td>0.864467</td>\n",
              "      <td>0.637378</td>\n",
              "      <td>2.300292</td>\n",
              "    </tr>\n",
              "    <tr>\n",
              "      <th>53</th>\n",
              "      <td>1</td>\n",
              "      <td>0</td>\n",
              "      <td>0</td>\n",
              "      <td>1</td>\n",
              "      <td>0</td>\n",
              "      <td>0</td>\n",
              "      <td>0</td>\n",
              "      <td>0</td>\n",
              "      <td>1</td>\n",
              "      <td>-0.240223</td>\n",
              "      <td>0.637378</td>\n",
              "      <td>1.550371</td>\n",
              "    </tr>\n",
              "    <tr>\n",
              "      <th>54</th>\n",
              "      <td>1</td>\n",
              "      <td>0</td>\n",
              "      <td>0</td>\n",
              "      <td>1</td>\n",
              "      <td>0</td>\n",
              "      <td>0</td>\n",
              "      <td>0</td>\n",
              "      <td>0</td>\n",
              "      <td>0</td>\n",
              "      <td>1.826616</td>\n",
              "      <td>0.637378</td>\n",
              "      <td>1.550371</td>\n",
              "    </tr>\n",
              "    <tr>\n",
              "      <th>55</th>\n",
              "      <td>0</td>\n",
              "      <td>1</td>\n",
              "      <td>0</td>\n",
              "      <td>0</td>\n",
              "      <td>0</td>\n",
              "      <td>0</td>\n",
              "      <td>1</td>\n",
              "      <td>0</td>\n",
              "      <td>0</td>\n",
              "      <td>0.900102</td>\n",
              "      <td>1.726541</td>\n",
              "      <td>-1.040264</td>\n",
              "    </tr>\n",
              "    <tr>\n",
              "      <th>56</th>\n",
              "      <td>1</td>\n",
              "      <td>0</td>\n",
              "      <td>1</td>\n",
              "      <td>0</td>\n",
              "      <td>0</td>\n",
              "      <td>0</td>\n",
              "      <td>0</td>\n",
              "      <td>0</td>\n",
              "      <td>1</td>\n",
              "      <td>1.363359</td>\n",
              "      <td>1.375198</td>\n",
              "      <td>1.073149</td>\n",
              "    </tr>\n",
              "    <tr>\n",
              "      <th>57</th>\n",
              "      <td>0</td>\n",
              "      <td>0</td>\n",
              "      <td>0</td>\n",
              "      <td>0</td>\n",
              "      <td>0</td>\n",
              "      <td>0</td>\n",
              "      <td>1</td>\n",
              "      <td>0</td>\n",
              "      <td>1</td>\n",
              "      <td>0.900102</td>\n",
              "      <td>-1.400412</td>\n",
              "      <td>-1.381138</td>\n",
              "    </tr>\n",
              "    <tr>\n",
              "      <th>58</th>\n",
              "      <td>0</td>\n",
              "      <td>1</td>\n",
              "      <td>0</td>\n",
              "      <td>0</td>\n",
              "      <td>0</td>\n",
              "      <td>0</td>\n",
              "      <td>1</td>\n",
              "      <td>0</td>\n",
              "      <td>1</td>\n",
              "      <td>1.398994</td>\n",
              "      <td>-0.662592</td>\n",
              "      <td>-0.494868</td>\n",
              "    </tr>\n",
              "    <tr>\n",
              "      <th>59</th>\n",
              "      <td>1</td>\n",
              "      <td>0</td>\n",
              "      <td>0</td>\n",
              "      <td>0</td>\n",
              "      <td>0</td>\n",
              "      <td>0</td>\n",
              "      <td>0</td>\n",
              "      <td>0</td>\n",
              "      <td>1</td>\n",
              "      <td>-0.917291</td>\n",
              "      <td>-1.365278</td>\n",
              "      <td>-1.040264</td>\n",
              "    </tr>\n",
              "    <tr>\n",
              "      <th>60</th>\n",
              "      <td>0</td>\n",
              "      <td>1</td>\n",
              "      <td>0</td>\n",
              "      <td>0</td>\n",
              "      <td>0</td>\n",
              "      <td>0</td>\n",
              "      <td>0</td>\n",
              "      <td>0</td>\n",
              "      <td>1</td>\n",
              "      <td>1.648440</td>\n",
              "      <td>-0.873397</td>\n",
              "      <td>0.868625</td>\n",
              "    </tr>\n",
              "    <tr>\n",
              "      <th>61</th>\n",
              "      <td>0</td>\n",
              "      <td>1</td>\n",
              "      <td>0</td>\n",
              "      <td>0</td>\n",
              "      <td>0</td>\n",
              "      <td>0</td>\n",
              "      <td>0</td>\n",
              "      <td>0</td>\n",
              "      <td>1</td>\n",
              "      <td>1.648440</td>\n",
              "      <td>-0.873397</td>\n",
              "      <td>0.323228</td>\n",
              "    </tr>\n",
              "    <tr>\n",
              "      <th>62</th>\n",
              "      <td>1</td>\n",
              "      <td>0</td>\n",
              "      <td>0</td>\n",
              "      <td>0</td>\n",
              "      <td>0</td>\n",
              "      <td>0</td>\n",
              "      <td>0</td>\n",
              "      <td>0</td>\n",
              "      <td>1</td>\n",
              "      <td>-0.739115</td>\n",
              "      <td>1.796809</td>\n",
              "      <td>-0.835741</td>\n",
              "    </tr>\n",
              "    <tr>\n",
              "      <th>63</th>\n",
              "      <td>0</td>\n",
              "      <td>1</td>\n",
              "      <td>0</td>\n",
              "      <td>0</td>\n",
              "      <td>0</td>\n",
              "      <td>0</td>\n",
              "      <td>1</td>\n",
              "      <td>0</td>\n",
              "      <td>1</td>\n",
              "      <td>-0.739115</td>\n",
              "      <td>-1.224740</td>\n",
              "      <td>-0.290344</td>\n",
              "    </tr>\n",
              "    <tr>\n",
              "      <th>64</th>\n",
              "      <td>1</td>\n",
              "      <td>0</td>\n",
              "      <td>1</td>\n",
              "      <td>1</td>\n",
              "      <td>1</td>\n",
              "      <td>0</td>\n",
              "      <td>0</td>\n",
              "      <td>1</td>\n",
              "      <td>0</td>\n",
              "      <td>0.258669</td>\n",
              "      <td>0.637378</td>\n",
              "      <td>1.823070</td>\n",
              "    </tr>\n",
              "    <tr>\n",
              "      <th>65</th>\n",
              "      <td>1</td>\n",
              "      <td>0</td>\n",
              "      <td>1</td>\n",
              "      <td>1</td>\n",
              "      <td>0</td>\n",
              "      <td>1</td>\n",
              "      <td>0</td>\n",
              "      <td>1</td>\n",
              "      <td>0</td>\n",
              "      <td>0.436845</td>\n",
              "      <td>0.637378</td>\n",
              "      <td>0.664101</td>\n",
              "    </tr>\n",
              "    <tr>\n",
              "      <th>66</th>\n",
              "      <td>0</td>\n",
              "      <td>1</td>\n",
              "      <td>0</td>\n",
              "      <td>0</td>\n",
              "      <td>0</td>\n",
              "      <td>0</td>\n",
              "      <td>0</td>\n",
              "      <td>0</td>\n",
              "      <td>1</td>\n",
              "      <td>-1.451818</td>\n",
              "      <td>-1.224740</td>\n",
              "      <td>0.664101</td>\n",
              "    </tr>\n",
              "    <tr>\n",
              "      <th>67</th>\n",
              "      <td>0</td>\n",
              "      <td>1</td>\n",
              "      <td>0</td>\n",
              "      <td>0</td>\n",
              "      <td>0</td>\n",
              "      <td>0</td>\n",
              "      <td>0</td>\n",
              "      <td>0</td>\n",
              "      <td>1</td>\n",
              "      <td>-1.451818</td>\n",
              "      <td>-1.224740</td>\n",
              "      <td>0.186879</td>\n",
              "    </tr>\n",
              "    <tr>\n",
              "      <th>68</th>\n",
              "      <td>0</td>\n",
              "      <td>1</td>\n",
              "      <td>0</td>\n",
              "      <td>0</td>\n",
              "      <td>0</td>\n",
              "      <td>0</td>\n",
              "      <td>0</td>\n",
              "      <td>0</td>\n",
              "      <td>1</td>\n",
              "      <td>-1.166737</td>\n",
              "      <td>-0.873397</td>\n",
              "      <td>1.141323</td>\n",
              "    </tr>\n",
              "    <tr>\n",
              "      <th>69</th>\n",
              "      <td>0</td>\n",
              "      <td>1</td>\n",
              "      <td>0</td>\n",
              "      <td>0</td>\n",
              "      <td>0</td>\n",
              "      <td>0</td>\n",
              "      <td>1</td>\n",
              "      <td>0</td>\n",
              "      <td>1</td>\n",
              "      <td>0.329940</td>\n",
              "      <td>-1.435546</td>\n",
              "      <td>-1.040264</td>\n",
              "    </tr>\n",
              "    <tr>\n",
              "      <th>70</th>\n",
              "      <td>0</td>\n",
              "      <td>0</td>\n",
              "      <td>1</td>\n",
              "      <td>0</td>\n",
              "      <td>0</td>\n",
              "      <td>0</td>\n",
              "      <td>0</td>\n",
              "      <td>0</td>\n",
              "      <td>1</td>\n",
              "      <td>1.719710</td>\n",
              "      <td>1.058989</td>\n",
              "      <td>-1.176614</td>\n",
              "    </tr>\n",
              "    <tr>\n",
              "      <th>71</th>\n",
              "      <td>0</td>\n",
              "      <td>0</td>\n",
              "      <td>1</td>\n",
              "      <td>0</td>\n",
              "      <td>0</td>\n",
              "      <td>0</td>\n",
              "      <td>0</td>\n",
              "      <td>0</td>\n",
              "      <td>0</td>\n",
              "      <td>-0.204588</td>\n",
              "      <td>-0.522054</td>\n",
              "      <td>-1.244788</td>\n",
              "    </tr>\n",
              "    <tr>\n",
              "      <th>72</th>\n",
              "      <td>0</td>\n",
              "      <td>1</td>\n",
              "      <td>0</td>\n",
              "      <td>0</td>\n",
              "      <td>0</td>\n",
              "      <td>0</td>\n",
              "      <td>0</td>\n",
              "      <td>0</td>\n",
              "      <td>0</td>\n",
              "      <td>-1.131102</td>\n",
              "      <td>-1.224740</td>\n",
              "      <td>-1.585661</td>\n",
              "    </tr>\n",
              "    <tr>\n",
              "      <th>73</th>\n",
              "      <td>0</td>\n",
              "      <td>1</td>\n",
              "      <td>0</td>\n",
              "      <td>0</td>\n",
              "      <td>0</td>\n",
              "      <td>0</td>\n",
              "      <td>0</td>\n",
              "      <td>0</td>\n",
              "      <td>1</td>\n",
              "      <td>0.436845</td>\n",
              "      <td>1.023855</td>\n",
              "      <td>0.323228</td>\n",
              "    </tr>\n",
              "    <tr>\n",
              "      <th>74</th>\n",
              "      <td>1</td>\n",
              "      <td>1</td>\n",
              "      <td>0</td>\n",
              "      <td>0</td>\n",
              "      <td>0</td>\n",
              "      <td>0</td>\n",
              "      <td>1</td>\n",
              "      <td>0</td>\n",
              "      <td>0</td>\n",
              "      <td>0.436845</td>\n",
              "      <td>-0.522054</td>\n",
              "      <td>-0.085820</td>\n",
              "    </tr>\n",
              "    <tr>\n",
              "      <th>75</th>\n",
              "      <td>1</td>\n",
              "      <td>0</td>\n",
              "      <td>0</td>\n",
              "      <td>0</td>\n",
              "      <td>0</td>\n",
              "      <td>0</td>\n",
              "      <td>0</td>\n",
              "      <td>0</td>\n",
              "      <td>0</td>\n",
              "      <td>-0.596574</td>\n",
              "      <td>0.145497</td>\n",
              "      <td>-0.494868</td>\n",
              "    </tr>\n",
              "    <tr>\n",
              "      <th>76</th>\n",
              "      <td>1</td>\n",
              "      <td>0</td>\n",
              "      <td>0</td>\n",
              "      <td>0</td>\n",
              "      <td>0</td>\n",
              "      <td>0</td>\n",
              "      <td>0</td>\n",
              "      <td>0</td>\n",
              "      <td>1</td>\n",
              "      <td>-1.095466</td>\n",
              "      <td>-1.611218</td>\n",
              "      <td>-0.290344</td>\n",
              "    </tr>\n",
              "    <tr>\n",
              "      <th>77</th>\n",
              "      <td>1</td>\n",
              "      <td>0</td>\n",
              "      <td>0</td>\n",
              "      <td>0</td>\n",
              "      <td>0</td>\n",
              "      <td>0</td>\n",
              "      <td>0</td>\n",
              "      <td>1</td>\n",
              "      <td>0</td>\n",
              "      <td>-0.062047</td>\n",
              "      <td>-0.522054</td>\n",
              "      <td>-0.017645</td>\n",
              "    </tr>\n",
              "    <tr>\n",
              "      <th>78</th>\n",
              "      <td>0</td>\n",
              "      <td>1</td>\n",
              "      <td>0</td>\n",
              "      <td>0</td>\n",
              "      <td>0</td>\n",
              "      <td>0</td>\n",
              "      <td>0</td>\n",
              "      <td>0</td>\n",
              "      <td>1</td>\n",
              "      <td>-0.596574</td>\n",
              "      <td>-0.732860</td>\n",
              "      <td>-0.222169</td>\n",
              "    </tr>\n",
              "    <tr>\n",
              "      <th>79</th>\n",
              "      <td>1</td>\n",
              "      <td>0</td>\n",
              "      <td>1</td>\n",
              "      <td>0</td>\n",
              "      <td>0</td>\n",
              "      <td>1</td>\n",
              "      <td>0</td>\n",
              "      <td>1</td>\n",
              "      <td>0</td>\n",
              "      <td>0.258669</td>\n",
              "      <td>1.550869</td>\n",
              "      <td>2.163943</td>\n",
              "    </tr>\n",
              "    <tr>\n",
              "      <th>80</th>\n",
              "      <td>0</td>\n",
              "      <td>1</td>\n",
              "      <td>0</td>\n",
              "      <td>0</td>\n",
              "      <td>0</td>\n",
              "      <td>0</td>\n",
              "      <td>0</td>\n",
              "      <td>0</td>\n",
              "      <td>0</td>\n",
              "      <td>-0.917291</td>\n",
              "      <td>-1.224740</td>\n",
              "      <td>-0.358518</td>\n",
              "    </tr>\n",
              "    <tr>\n",
              "      <th>81</th>\n",
              "      <td>0</td>\n",
              "      <td>1</td>\n",
              "      <td>0</td>\n",
              "      <td>0</td>\n",
              "      <td>0</td>\n",
              "      <td>0</td>\n",
              "      <td>1</td>\n",
              "      <td>0</td>\n",
              "      <td>0</td>\n",
              "      <td>-1.380548</td>\n",
              "      <td>-1.224740</td>\n",
              "      <td>-0.767566</td>\n",
              "    </tr>\n",
              "    <tr>\n",
              "      <th>82</th>\n",
              "      <td>0</td>\n",
              "      <td>1</td>\n",
              "      <td>0</td>\n",
              "      <td>0</td>\n",
              "      <td>0</td>\n",
              "      <td>0</td>\n",
              "      <td>0</td>\n",
              "      <td>0</td>\n",
              "      <td>1</td>\n",
              "      <td>-0.596574</td>\n",
              "      <td>-0.557189</td>\n",
              "      <td>-0.426693</td>\n",
              "    </tr>\n",
              "    <tr>\n",
              "      <th>83</th>\n",
              "      <td>0</td>\n",
              "      <td>0</td>\n",
              "      <td>1</td>\n",
              "      <td>0</td>\n",
              "      <td>0</td>\n",
              "      <td>0</td>\n",
              "      <td>1</td>\n",
              "      <td>0</td>\n",
              "      <td>0</td>\n",
              "      <td>-1.024196</td>\n",
              "      <td>-0.697726</td>\n",
              "      <td>-0.563042</td>\n",
              "    </tr>\n",
              "    <tr>\n",
              "      <th>84</th>\n",
              "      <td>1</td>\n",
              "      <td>0</td>\n",
              "      <td>0</td>\n",
              "      <td>0</td>\n",
              "      <td>0</td>\n",
              "      <td>1</td>\n",
              "      <td>0</td>\n",
              "      <td>0</td>\n",
              "      <td>1</td>\n",
              "      <td>1.398994</td>\n",
              "      <td>1.340064</td>\n",
              "      <td>-0.017645</td>\n",
              "    </tr>\n",
              "  </tbody>\n",
              "</table>\n",
              "</div>"
            ],
            "text/plain": [
              "    chocolate  fruity  caramel  peanutyalmondy  nougat  crispedricewafer  \\\n",
              "0           1       0        1               0       0                 1   \n",
              "1           1       0        0               0       1                 0   \n",
              "2           0       0        0               0       0                 0   \n",
              "3           0       0        0               0       0                 0   \n",
              "4           0       1        0               0       0                 0   \n",
              "5           1       0        0               1       0                 0   \n",
              "6           1       0        1               1       1                 0   \n",
              "7           0       0        0               1       0                 0   \n",
              "8           0       0        0               0       0                 0   \n",
              "9           0       1        1               0       0                 0   \n",
              "10          1       0        0               0       1                 0   \n",
              "11          0       1        0               0       0                 0   \n",
              "12          0       1        0               0       0                 0   \n",
              "13          0       1        0               0       0                 0   \n",
              "14          0       1        0               0       0                 0   \n",
              "15          0       1        0               0       0                 0   \n",
              "16          0       1        0               0       0                 0   \n",
              "17          0       1        0               0       0                 0   \n",
              "18          0       1        0               0       0                 0   \n",
              "19          0       0        0               0       0                 0   \n",
              "20          0       1        0               0       0                 0   \n",
              "21          0       1        0               0       0                 0   \n",
              "22          1       0        0               0       0                 0   \n",
              "23          1       0        0               0       0                 1   \n",
              "24          1       0        0               0       0                 0   \n",
              "25          1       0        0               0       0                 0   \n",
              "26          0       1        0               0       0                 0   \n",
              "27          1       0        0               0       0                 0   \n",
              "28          1       0        0               0       0                 1   \n",
              "29          0       1        0               0       0                 0   \n",
              "30          0       1        0               0       0                 0   \n",
              "31          0       1        0               0       0                 0   \n",
              "32          1       0        0               1       0                 0   \n",
              "33          1       0        0               0       0                 0   \n",
              "34          0       1        0               0       0                 0   \n",
              "35          1       0        1               0       0                 0   \n",
              "36          1       0        1               0       1                 0   \n",
              "37          1       0        1               0       1                 0   \n",
              "38          1       0        1               0       0                 0   \n",
              "39          1       0        0               0       0                 0   \n",
              "40          1       0        0               1       0                 0   \n",
              "41          0       1        0               0       0                 0   \n",
              "42          1       0        0               1       0                 0   \n",
              "43          1       0        0               0       0                 1   \n",
              "44          0       1        0               0       0                 0   \n",
              "45          0       1        0               0       0                 0   \n",
              "46          0       0        0               1       1                 0   \n",
              "47          1       0        0               1       0                 0   \n",
              "48          0       0        0               0       0                 0   \n",
              "49          0       1        0               0       0                 0   \n",
              "50          0       1        0               0       0                 0   \n",
              "51          1       0        0               1       0                 0   \n",
              "52          1       0        0               1       0                 0   \n",
              "53          1       0        0               1       0                 0   \n",
              "54          1       0        0               1       0                 0   \n",
              "55          0       1        0               0       0                 0   \n",
              "56          1       0        1               0       0                 0   \n",
              "57          0       0        0               0       0                 0   \n",
              "58          0       1        0               0       0                 0   \n",
              "59          1       0        0               0       0                 0   \n",
              "60          0       1        0               0       0                 0   \n",
              "61          0       1        0               0       0                 0   \n",
              "62          1       0        0               0       0                 0   \n",
              "63          0       1        0               0       0                 0   \n",
              "64          1       0        1               1       1                 0   \n",
              "65          1       0        1               1       0                 1   \n",
              "66          0       1        0               0       0                 0   \n",
              "67          0       1        0               0       0                 0   \n",
              "68          0       1        0               0       0                 0   \n",
              "69          0       1        0               0       0                 0   \n",
              "70          0       0        1               0       0                 0   \n",
              "71          0       0        1               0       0                 0   \n",
              "72          0       1        0               0       0                 0   \n",
              "73          0       1        0               0       0                 0   \n",
              "74          1       1        0               0       0                 0   \n",
              "75          1       0        0               0       0                 0   \n",
              "76          1       0        0               0       0                 0   \n",
              "77          1       0        0               0       0                 0   \n",
              "78          0       1        0               0       0                 0   \n",
              "79          1       0        1               0       0                 1   \n",
              "80          0       1        0               0       0                 0   \n",
              "81          0       1        0               0       0                 0   \n",
              "82          0       1        0               0       0                 0   \n",
              "83          0       0        1               0       0                 0   \n",
              "84          1       0        0               0       0                 1   \n",
              "\n",
              "    hard  bar  pluribus  sugarpercent  pricepercent  winpercent  \n",
              "0      0    1         0      0.900102      1.375198    1.141323  \n",
              "1      0    1         0      0.436845      0.145497    1.209498  \n",
              "2      0    0         0     -1.665629     -1.224740   -1.244788  \n",
              "3      0    0         0     -1.665629      0.145497   -0.290344  \n",
              "4      0    0         0      1.541535      0.145497    0.118704  \n",
              "5      0    1         0     -0.062047      1.058989   -0.017645  \n",
              "6      0    1         0      0.436845      1.058989    0.459577  \n",
              "7      0    0         1     -0.596574      0.145497   -1.858360  \n",
              "8      0    0         1      1.541535     -0.522054   -0.835741  \n",
              "9      0    0         0      0.436845     -0.522054   -1.040264  \n",
              "10     0    1         0      0.436845      0.145497   -0.767566  \n",
              "11     0    0         1      0.900102      0.145497   -0.972090  \n",
              "12     0    0         1     -1.523088     -0.522054   -1.722011  \n",
              "13     0    0         1      0.900102      0.145497   -0.563042  \n",
              "14     1    0         0      0.900102     -1.540949   -0.767566  \n",
              "15     0    0         1     -1.238007     -1.540949   -0.494868  \n",
              "16     1    0         0      0.900102     -0.522054   -0.767566  \n",
              "17     1    0         1      1.541535     -0.065308   -0.222169  \n",
              "18     0    0         1     -0.062047     -0.030174    0.459577  \n",
              "19     0    0         1     -0.062047     -0.030174   -1.108439  \n",
              "20     0    0         1     -0.062047     -0.030174    0.050529  \n",
              "21     0    0         1     -0.062047     -0.030174   -0.563042  \n",
              "22     0    0         1     -1.238007     -1.330143    0.323228  \n",
              "23     0    1         0     -0.168953      1.586004    0.800450  \n",
              "24     0    1         0     -0.168953      1.586004    0.391403  \n",
              "25     0    1         0     -0.168953      1.586004    0.595926  \n",
              "26     1    0         1     -1.380548      0.145497   -1.517487  \n",
              "27     0    0         1     -0.988561      0.145497    0.459577  \n",
              "28     0    1         0     -0.596574      0.145497    1.823070  \n",
              "29     0    0         0     -0.917291     -1.224740   -0.631217  \n",
              "30     1    0         0     -1.523088     -1.295009   -0.767566  \n",
              "31     0    0         0     -0.739115     -0.662592    0.186879  \n",
              "32     0    0         1      1.220818      0.637378    1.414022  \n",
              "33     0    0         1      1.220818      0.637378    1.141323  \n",
              "34     0    0         1      1.398994     -0.522054   -0.290344  \n",
              "35     0    0         1     -0.632209      0.145497    0.323228  \n",
              "36     0    1         0      0.436845      0.637378    1.550371  \n",
              "37     0    1         0      0.900102     -0.100443    0.732276  \n",
              "38     0    1         0      1.719710      1.375198    0.936799  \n",
              "39     0    1         0     -0.596574      1.375198   -0.153994  \n",
              "40     0    1         0     -0.596574      1.586004    0.323228  \n",
              "41     1    0         1      1.327724     -0.522054    0.323228  \n",
              "42     0    1         0      0.436845      1.058989    1.414022  \n",
              "43     0    1         0     -0.596574      1.058989    1.073149  \n",
              "44     0    0         1     -0.988561      1.796809   -1.926535  \n",
              "45     0    0         1     -0.917291     -0.522054   -0.767566  \n",
              "46     0    1         0     -0.062047      1.058989   -0.290344  \n",
              "47     0    0         1      0.401210      0.637378    1.277673  \n",
              "48     0    0         1     -1.380548     -1.576083   -0.835741  \n",
              "49     1    0         1      0.436845      1.304929   -0.631217  \n",
              "50     0    0         1      0.365575     -1.224740   -0.903915  \n",
              "51     0    0         0     -1.594359     -0.662592    2.163943  \n",
              "52     0    0         0      0.864467      0.637378    2.300292  \n",
              "53     0    0         1     -0.240223      0.637378    1.550371  \n",
              "54     0    0         0      1.826616      0.637378    1.550371  \n",
              "55     1    0         0      0.900102      1.726541   -1.040264  \n",
              "56     0    0         1      1.363359      1.375198    1.073149  \n",
              "57     1    0         1      0.900102     -1.400412   -1.381138  \n",
              "58     1    0         1      1.398994     -0.662592   -0.494868  \n",
              "59     0    0         1     -0.917291     -1.365278   -1.040264  \n",
              "60     0    0         1      1.648440     -0.873397    0.868625  \n",
              "61     0    0         1      1.648440     -0.873397    0.323228  \n",
              "62     0    0         1     -0.739115      1.796809   -0.835741  \n",
              "63     1    0         1     -0.739115     -1.224740   -0.290344  \n",
              "64     0    1         0      0.258669      0.637378    1.823070  \n",
              "65     0    1         0      0.436845      0.637378    0.664101  \n",
              "66     0    0         1     -1.451818     -1.224740    0.664101  \n",
              "67     0    0         1     -1.451818     -1.224740    0.186879  \n",
              "68     0    0         1     -1.166737     -0.873397    1.141323  \n",
              "69     1    0         1      0.329940     -1.435546   -1.040264  \n",
              "70     0    0         1      1.719710      1.058989   -1.176614  \n",
              "71     0    0         0     -0.204588     -0.522054   -1.244788  \n",
              "72     0    0         0     -1.131102     -1.224740   -1.585661  \n",
              "73     0    0         1      0.436845      1.023855    0.323228  \n",
              "74     1    0         0      0.436845     -0.522054   -0.085820  \n",
              "75     0    0         0     -0.596574      0.145497   -0.494868  \n",
              "76     0    0         1     -1.095466     -1.611218   -0.290344  \n",
              "77     0    1         0     -0.062047     -0.522054   -0.017645  \n",
              "78     0    0         1     -0.596574     -0.732860   -0.222169  \n",
              "79     0    1         0      0.258669      1.550869    2.163943  \n",
              "80     0    0         0     -0.917291     -1.224740   -0.358518  \n",
              "81     1    0         0     -1.380548     -1.224740   -0.767566  \n",
              "82     0    0         1     -0.596574     -0.557189   -0.426693  \n",
              "83     1    0         0     -1.024196     -0.697726   -0.563042  \n",
              "84     0    0         1      1.398994      1.340064   -0.017645  "
            ]
          },
          "metadata": {
            "tags": []
          }
        }
      ]
    },
    {
      "cell_type": "markdown",
      "metadata": {
        "id": "fOuYqpu_k2oA"
      },
      "source": [
        "***Features selection using Decision Tree Model and Lasso Model***"
      ]
    },
    {
      "cell_type": "code",
      "metadata": {
        "colab": {
          "base_uri": "https://localhost:8080/",
          "height": 353
        },
        "id": "42421sAWHUUf",
        "outputId": "6546d443-2bdf-418d-97f5-c17985f0a30f"
      },
      "source": [
        "from sklearn import tree\r\n",
        "dtree = tree.DecisionTreeRegressor(max_depth=3).fit(d_f[d_f.columns[0:-1]],d_f[d_f.columns[11:]])\r\n",
        "imp = pd.DataFrame.from_dict({'Name':d_f.columns[0:-1],'Importance':dtree.feature_importances_})\r\n",
        "imp_plot = imp.sort_values(by='Importance',ascending=True).reset_index(drop=True)\r\n",
        "imp_plot[imp_plot.Importance>0].plot(kind='barh',x='Name',y='Importance',title= 'Importance of Feature',sort_columns=True,figsize = (10,5),legend=False)"
      ],
      "execution_count": 458,
      "outputs": [
        {
          "output_type": "execute_result",
          "data": {
            "text/plain": [
              "<matplotlib.axes._subplots.AxesSubplot at 0x7ff3ba4080b8>"
            ]
          },
          "metadata": {
            "tags": []
          },
          "execution_count": 458
        },
        {
          "output_type": "display_data",
          "data": {
            "image/png": "[encoded data removed]",
            "text/plain": [
              "<Figure size 720x360 with 1 Axes>"
            ]
          },
          "metadata": {
            "tags": [],
            "needs_background": "light"
          }
        }
      ]
    },
    {
      "cell_type": "markdown",
      "metadata": {
        "id": "RgmSpcj8bS6O"
      },
      "source": [
        "This graph clearly shows the types that are not actually important with their absence in the plot like hard,crispedricewafer, nougat. It also shows candies with chocolate are of high importance."
      ]
    },
    {
      "cell_type": "code",
      "metadata": {
        "id": "1CkFr4gJe9Vu"
      },
      "source": [
        "from sklearn.linear_model import Lasso\r\n",
        "from sklearn.feature_selection import SelectFromModel\r\n",
        "pd.pandas.set_option('display.max_columns',None)"
      ],
      "execution_count": 434,
      "outputs": []
    },
    {
      "cell_type": "code",
      "metadata": {
        "colab": {
          "base_uri": "https://localhost:8080/"
        },
        "id": "8CssDEcdfsyc",
        "outputId": "fd1aec8d-3db2-493b-e524-0797025a70f4"
      },
      "source": [
        "X_train = d_f[d_f.columns[0:-1]]\r\n",
        "y_train = d_f[d_f.columns[-1]]\r\n",
        "feature_select_model = SelectFromModel(Lasso(alpha = 0.005, random_state=0)) \\the bigger the alpha value the lesser features are selected\r\n",
        "feature_select_model.fit(X_train,y_train)  \r\n",
        "#selectfrommodel selects the features who have smaller slopes close to or almost 0 as it follows lasso intution"
      ],
      "execution_count": 435,
      "outputs": [
        {
          "output_type": "execute_result",
          "data": {
            "text/plain": [
              "SelectFromModel(estimator=Lasso(alpha=0.005, copy_X=True, fit_intercept=True,\n",
              "                                max_iter=1000, normalize=False, positive=False,\n",
              "                                precompute=False, random_state=0,\n",
              "                                selection='cyclic', tol=0.0001,\n",
              "                                warm_start=False),\n",
              "                max_features=None, norm_order=1, prefit=False, threshold=None)"
            ]
          },
          "metadata": {
            "tags": []
          },
          "execution_count": 435
        }
      ]
    },
    {
      "cell_type": "code",
      "metadata": {
        "colab": {
          "base_uri": "https://localhost:8080/"
        },
        "id": "vVq90uRdhL2k",
        "outputId": "35bb7cb2-ed16-4543-fecb-1ae866c701a4"
      },
      "source": [
        "feature_select_model.get_support() #gives true and false which says which features have to be taken and which not respectively.\r\n",
        "selected_feat = X_train.columns[(feature_select_model.get_support())]\r\n",
        "print('total features : {}'.format((X_train.shape[1])))\r\n",
        "print('selected_features : {}'.format(len(selected_feat)))\r\n",
        "selected_feat"
      ],
      "execution_count": 436,
      "outputs": [
        {
          "output_type": "stream",
          "text": [
            "total features : 11\n",
            "selected_features : 10\n"
          ],
          "name": "stdout"
        },
        {
          "output_type": "execute_result",
          "data": {
            "text/plain": [
              "Index(['chocolate', 'fruity', 'caramel', 'peanutyalmondy', 'crispedricewafer',\n",
              "       'hard', 'bar', 'pluribus', 'sugarpercent', 'pricepercent'],\n",
              "      dtype='object')"
            ]
          },
          "metadata": {
            "tags": []
          },
          "execution_count": 436
        }
      ]
    },
    {
      "cell_type": "markdown",
      "metadata": {
        "id": "autSv4RzkFDN"
      },
      "source": [
        "Hence the feature that is not really important with respect to Lasso and SelectFromModel Model from sklearn library is \"Nougat\""
      ]
    },
    {
      "cell_type": "markdown",
      "metadata": {
        "id": "i3UhUtu1af18"
      },
      "source": [
        "***If we want to know the names of competitors and plot them in order of their win percent , it can be done as follows***"
      ]
    },
    {
      "cell_type": "code",
      "metadata": {
        "colab": {
          "base_uri": "https://localhost:8080/",
          "height": 195
        },
        "id": "uZCWwz-abMZo",
        "outputId": "d237eeb0-bb4b-43ab-fbb8-339e9313af47"
      },
      "source": [
        "Brands = pd.read_csv(\"https://raw.githubusercontent.com/fivethirtyeight/data/master/candy-power-ranking/candy-data.csv\")\r\n",
        "Brands.head()"
      ],
      "execution_count": 437,
      "outputs": [
        {
          "output_type": "execute_result",
          "data": {
            "text/html": [
              "<div>\n",
              "<style scoped>\n",
              "    .dataframe tbody tr th:only-of-type {\n",
              "        vertical-align: middle;\n",
              "    }\n",
              "\n",
              "    .dataframe tbody tr th {\n",
              "        vertical-align: top;\n",
              "    }\n",
              "\n",
              "    .dataframe thead th {\n",
              "        text-align: right;\n",
              "    }\n",
              "</style>\n",
              "<table border=\"1\" class=\"dataframe\">\n",
              "  <thead>\n",
              "    <tr style=\"text-align: right;\">\n",
              "      <th></th>\n",
              "      <th>competitorname</th>\n",
              "      <th>chocolate</th>\n",
              "      <th>fruity</th>\n",
              "      <th>caramel</th>\n",
              "      <th>peanutyalmondy</th>\n",
              "      <th>nougat</th>\n",
              "      <th>crispedricewafer</th>\n",
              "      <th>hard</th>\n",
              "      <th>bar</th>\n",
              "      <th>pluribus</th>\n",
              "      <th>sugarpercent</th>\n",
              "      <th>pricepercent</th>\n",
              "      <th>winpercent</th>\n",
              "    </tr>\n",
              "  </thead>\n",
              "  <tbody>\n",
              "    <tr>\n",
              "      <th>0</th>\n",
              "      <td>100 Grand</td>\n",
              "      <td>1</td>\n",
              "      <td>0</td>\n",
              "      <td>1</td>\n",
              "      <td>0</td>\n",
              "      <td>0</td>\n",
              "      <td>1</td>\n",
              "      <td>0</td>\n",
              "      <td>1</td>\n",
              "      <td>0</td>\n",
              "      <td>0.732</td>\n",
              "      <td>0.860</td>\n",
              "      <td>66.971725</td>\n",
              "    </tr>\n",
              "    <tr>\n",
              "      <th>1</th>\n",
              "      <td>3 Musketeers</td>\n",
              "      <td>1</td>\n",
              "      <td>0</td>\n",
              "      <td>0</td>\n",
              "      <td>0</td>\n",
              "      <td>1</td>\n",
              "      <td>0</td>\n",
              "      <td>0</td>\n",
              "      <td>1</td>\n",
              "      <td>0</td>\n",
              "      <td>0.604</td>\n",
              "      <td>0.511</td>\n",
              "      <td>67.602936</td>\n",
              "    </tr>\n",
              "    <tr>\n",
              "      <th>2</th>\n",
              "      <td>One dime</td>\n",
              "      <td>0</td>\n",
              "      <td>0</td>\n",
              "      <td>0</td>\n",
              "      <td>0</td>\n",
              "      <td>0</td>\n",
              "      <td>0</td>\n",
              "      <td>0</td>\n",
              "      <td>0</td>\n",
              "      <td>0</td>\n",
              "      <td>0.011</td>\n",
              "      <td>0.116</td>\n",
              "      <td>32.261086</td>\n",
              "    </tr>\n",
              "    <tr>\n",
              "      <th>3</th>\n",
              "      <td>One quarter</td>\n",
              "      <td>0</td>\n",
              "      <td>0</td>\n",
              "      <td>0</td>\n",
              "      <td>0</td>\n",
              "      <td>0</td>\n",
              "      <td>0</td>\n",
              "      <td>0</td>\n",
              "      <td>0</td>\n",
              "      <td>0</td>\n",
              "      <td>0.011</td>\n",
              "      <td>0.511</td>\n",
              "      <td>46.116505</td>\n",
              "    </tr>\n",
              "    <tr>\n",
              "      <th>4</th>\n",
              "      <td>Air Heads</td>\n",
              "      <td>0</td>\n",
              "      <td>1</td>\n",
              "      <td>0</td>\n",
              "      <td>0</td>\n",
              "      <td>0</td>\n",
              "      <td>0</td>\n",
              "      <td>0</td>\n",
              "      <td>0</td>\n",
              "      <td>0</td>\n",
              "      <td>0.906</td>\n",
              "      <td>0.511</td>\n",
              "      <td>52.341465</td>\n",
              "    </tr>\n",
              "  </tbody>\n",
              "</table>\n",
              "</div>"
            ],
            "text/plain": [
              "  competitorname  chocolate  fruity  caramel  peanutyalmondy  nougat  \\\n",
              "0      100 Grand          1       0        1               0       0   \n",
              "1   3 Musketeers          1       0        0               0       1   \n",
              "2       One dime          0       0        0               0       0   \n",
              "3    One quarter          0       0        0               0       0   \n",
              "4      Air Heads          0       1        0               0       0   \n",
              "\n",
              "   crispedricewafer  hard  bar  pluribus  sugarpercent  pricepercent  \\\n",
              "0                 1     0    1         0         0.732         0.860   \n",
              "1                 0     0    1         0         0.604         0.511   \n",
              "2                 0     0    0         0         0.011         0.116   \n",
              "3                 0     0    0         0         0.011         0.511   \n",
              "4                 0     0    0         0         0.906         0.511   \n",
              "\n",
              "   winpercent  \n",
              "0   66.971725  \n",
              "1   67.602936  \n",
              "2   32.261086  \n",
              "3   46.116505  \n",
              "4   52.341465  "
            ]
          },
          "metadata": {
            "tags": []
          },
          "execution_count": 437
        }
      ]
    },
    {
      "cell_type": "code",
      "metadata": {
        "colab": {
          "base_uri": "https://localhost:8080/",
          "height": 353
        },
        "id": "k1UOJKZ7asAa",
        "outputId": "32645c03-dded-4f65-e246-f39d18be02a9"
      },
      "source": [
        "Performance = Brands[['competitorname','winpercent']].sort_values(by='winpercent')\r\n",
        "pd.concat([Performance.head(5),Performance.tail(5)],axis=0).plot(x='competitorname',y='winpercent',kind='barh',title='Top 5 and least 5 Performances of Various Brands in Market',sort_columns=True,figsize = (10,5),legend=False)"
      ],
      "execution_count": 438,
      "outputs": [
        {
          "output_type": "execute_result",
          "data": {
            "text/plain": [
              "<matplotlib.axes._subplots.AxesSubplot at 0x7ff3b956ea90>"
            ]
          },
          "metadata": {
            "tags": []
          },
          "execution_count": 438
        },
        {
          "output_type": "display_data",
          "data": {
            "image/png": "[encoded data removed]",
            "text/plain": [
              "<Figure size 720x360 with 1 Axes>"
            ]
          },
          "metadata": {
            "tags": [],
            "needs_background": "light"
          }
        }
      ]
    },
    {
      "cell_type": "markdown",
      "metadata": {
        "id": "eJMNa8CWcAF7"
      },
      "source": [
        "***Splitting the Data into training and testing to find the best fit model to predict win percent***"
      ]
    },
    {
      "cell_type": "code",
      "metadata": {
        "id": "dOm130aUHcyF"
      },
      "source": [
        "from sklearn.model_selection import train_test_split\r\n",
        "from sklearn.metrics import mean_squared_error\r\n",
        "X_train, X_test, y_train, y_test = train_test_split(d_f[d_f.columns[0:-1]],d_f[d_f.columns[11:]], test_size=0.25, random_state=42)\r\n",
        "rmse_err = []"
      ],
      "execution_count": 460,
      "outputs": []
    },
    {
      "cell_type": "code",
      "metadata": {
        "colab": {
          "base_uri": "https://localhost:8080/"
        },
        "id": "EkNskfsHHiV2",
        "outputId": "6899dfb5-5845-4b56-e360-7717011087fa"
      },
      "source": [
        "import math\r\n",
        "from sklearn.tree import DecisionTreeRegressor\r\n",
        "dec_tree = DecisionTreeRegressor(max_depth=5).fit(X_train,y_train)\r\n",
        "rmse_err.append(math.sqrt(mean_squared_error(y_test,dec_tree.predict(X_test))))\r\n",
        "rmse_err[-1]"
      ],
      "execution_count": 462,
      "outputs": [
        {
          "output_type": "execute_result",
          "data": {
            "text/plain": [
              "0.8621213434053135"
            ]
          },
          "metadata": {
            "tags": []
          },
          "execution_count": 462
        }
      ]
    },
    {
      "cell_type": "code",
      "metadata": {
        "colab": {
          "base_uri": "https://localhost:8080/"
        },
        "id": "p5pdzx7AHnTK",
        "outputId": "550ff273-5fd4-4f5c-d875-848d286fa84e"
      },
      "source": [
        "from sklearn.ensemble import RandomForestRegressor\r\n",
        "rand_for = RandomForestRegressor(n_estimators=200).fit(X_train,y_train)\r\n",
        "rmse_err.append(math.sqrt(mean_squared_error(y_test,rand_for.predict(X_test))))\r\n",
        "rmse_err[-1]"
      ],
      "execution_count": 441,
      "outputs": [
        {
          "output_type": "execute_result",
          "data": {
            "text/plain": [
              "0.7790573893349445"
            ]
          },
          "metadata": {
            "tags": []
          },
          "execution_count": 441
        }
      ]
    },
    {
      "cell_type": "code",
      "metadata": {
        "colab": {
          "base_uri": "https://localhost:8080/"
        },
        "id": "WPfrFCk2Hvnl",
        "outputId": "e21defcf-9e6a-470f-a3e2-40c27381fd11"
      },
      "source": [
        "from sklearn.linear_model import LinearRegression\r\n",
        "lr_reg = LinearRegression().fit(X_train,y_train)\r\n",
        "rmse_err.append(math.sqrt(mean_squared_error(y_test,lr_reg.predict(X_test))))\r\n",
        "rmse_err[-1]"
      ],
      "execution_count": 442,
      "outputs": [
        {
          "output_type": "execute_result",
          "data": {
            "text/plain": [
              "0.7871427463199225"
            ]
          },
          "metadata": {
            "tags": []
          },
          "execution_count": 442
        }
      ]
    },
    {
      "cell_type": "code",
      "metadata": {
        "colab": {
          "base_uri": "https://localhost:8080/"
        },
        "id": "fS6h9XF7lcIb",
        "outputId": "1b94b2d0-651b-455b-8a9f-d9cb22a50473"
      },
      "source": [
        "from sklearn.linear_model import Ridge\r\n",
        "rid_reg = Ridge(alpha = .5).fit(X_train,y_train)\r\n",
        "rmse_err.append(math.sqrt(mean_squared_error(y_test,rid_reg.predict(X_test))))\r\n",
        "rmse_err[-1]"
      ],
      "execution_count": 443,
      "outputs": [
        {
          "output_type": "execute_result",
          "data": {
            "text/plain": [
              "0.7910169689424857"
            ]
          },
          "metadata": {
            "tags": []
          },
          "execution_count": 443
        }
      ]
    },
    {
      "cell_type": "code",
      "metadata": {
        "colab": {
          "base_uri": "https://localhost:8080/"
        },
        "id": "Z_eyX-8zlg0u",
        "outputId": "a8186595-a92a-4de4-854a-75dea791f0d7"
      },
      "source": [
        "from sklearn.linear_model import Lasso\r\n",
        "las_reg = Lasso(alpha = 0.1).fit(X_train,y_train)\r\n",
        "rmse_err.append(math.sqrt(mean_squared_error(y_test,las_reg.predict(X_test))))\r\n",
        "rmse_err[-1]"
      ],
      "execution_count": 444,
      "outputs": [
        {
          "output_type": "execute_result",
          "data": {
            "text/plain": [
              "0.7820801889052178"
            ]
          },
          "metadata": {
            "tags": []
          },
          "execution_count": 444
        }
      ]
    },
    {
      "cell_type": "code",
      "metadata": {
        "colab": {
          "base_uri": "https://localhost:8080/"
        },
        "id": "9VsWbUk2Hwsk",
        "outputId": "17a4c27a-33f5-4f7b-df30-1b7b308a0a0b"
      },
      "source": [
        "from sklearn.preprocessing import PolynomialFeatures\r\n",
        "from sklearn.linear_model import LinearRegression\r\n",
        "\r\n",
        "poly = PolynomialFeatures(degree=2)\r\n",
        "X_ = poly.fit_transform(X_train)\r\n",
        "X_test_ = poly.fit_transform(X_test)\r\n",
        "\r\n",
        "pol_reg = LinearRegression().fit(X_, y_train)\r\n",
        "\r\n",
        "rmse_err.append(math.sqrt(mean_squared_error(y_test,pol_reg.predict(X_test_))))\r\n",
        "rmse_err[-1]"
      ],
      "execution_count": 445,
      "outputs": [
        {
          "output_type": "execute_result",
          "data": {
            "text/plain": [
              "4.275658305074856"
            ]
          },
          "metadata": {
            "tags": []
          },
          "execution_count": 445
        }
      ]
    },
    {
      "cell_type": "markdown",
      "metadata": {
        "id": "ZNmJ6uQDb2Hn"
      },
      "source": [
        "The model with root mean square error value close to 0 is supposed to be the best fit model with high accuracy. Here the rank of best fit models is as follows\r\n",
        "\r\n",
        "\r\n",
        "\r\n",
        "1.   Random Forest Regressor model\r\n",
        "2.   Lasso Regressor model\r\n",
        "3.   Linear Regression model\r\n",
        "4.   Ridge Regression model\r\n",
        "5.   Decision tree Regressor model \r\n",
        "6.   Polynomial Regression model.\r\n",
        "\r\n",
        "\r\n",
        "\r\n"
      ]
    },
    {
      "cell_type": "markdown",
      "metadata": {
        "id": "wGnxI19fl8Gu"
      },
      "source": [
        "From the entire case study we can arrive at a conclusion that it was obviously because of the flavours in the candies huge sucess rates were met but not the sugars or cost. Sugar percent or Cost of candies did not stop or reduce customers to make purchase, creating almost no impact on success of brand. It was the favoutire flavours like chocolate , bar type chocolates, with peanuts and almonds that lead to high success rate and not so favourite flavours were nougat, crisped ricewafer and hard candies"
      ]
    }
  ]
}